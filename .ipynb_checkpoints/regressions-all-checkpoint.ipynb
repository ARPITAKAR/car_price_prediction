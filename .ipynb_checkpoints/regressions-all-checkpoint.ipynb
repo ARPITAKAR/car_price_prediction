{
 "cells": [
  {
   "cell_type": "code",
   "execution_count": 161,
   "metadata": {
    "_cell_guid": "b1076dfc-b9ad-4769-8c92-a6c4dae69d19",
    "_uuid": "8f2839f25d086af736a60e9eeb907d3b93b6e0e5",
    "execution": {
     "iopub.execute_input": "2024-09-28T11:32:09.742582Z",
     "iopub.status.busy": "2024-09-28T11:32:09.742105Z",
     "iopub.status.idle": "2024-09-28T11:32:09.752021Z",
     "shell.execute_reply": "2024-09-28T11:32:09.750917Z",
     "shell.execute_reply.started": "2024-09-28T11:32:09.742541Z"
    }
   },
   "outputs": [
    {
     "name": "stdout",
     "output_type": "stream",
     "text": [
      "/kaggle/input/playground-series-s4e9/sample_submission.csv\n",
      "/kaggle/input/playground-series-s4e9/train.csv\n",
      "/kaggle/input/playground-series-s4e9/test.csv\n"
     ]
    }
   ],
   "source": [
    "# This Python 3 environment comes with many helpful analytics libraries installed\n",
    "# It is defined by the kaggle/python Docker image: https://github.com/kaggle/docker-python\n",
    "# For example, here's several helpful packages to load\n",
    "\n",
    "import numpy as np # linear algebra\n",
    "import pandas as pd # data processing, CSV file I/O (e.g. pd.read_csv)\n",
    "import seaborn as sns\n",
    "import matplotlib.pyplot as plt\n",
    "\n",
    "# Input data files are available in the read-only \"../input/\" directory\n",
    "# For example, running this (by clicking run or pressing Shift+Enter) will list all files under the input directory\n",
    "\n",
    "import os\n",
    "for dirname, _, filenames in os.walk('/kaggle/input'):\n",
    "    for filename in filenames:\n",
    "        print(os.path.join(dirname, filename))\n",
    "\n",
    "# You can write up to 20GB to the current directory (/kaggle/working/) that gets preserved as output when you create a version using \"Save & Run All\" \n",
    "# You can also write temporary files to /kaggle/temp/, but they won't be saved outside of the current session"
   ]
  },
  {
   "cell_type": "code",
   "execution_count": 162,
   "metadata": {
    "execution": {
     "iopub.execute_input": "2024-09-28T11:32:09.754682Z",
     "iopub.status.busy": "2024-09-28T11:32:09.754312Z",
     "iopub.status.idle": "2024-09-28T11:32:10.580652Z",
     "shell.execute_reply": "2024-09-28T11:32:10.579537Z",
     "shell.execute_reply.started": "2024-09-28T11:32:09.754647Z"
    }
   },
   "outputs": [],
   "source": [
    "df=pd.read_csv('/kaggle/input/playground-series-s4e9/train.csv')\n",
    "dt=pd.read_csv('/kaggle/input/playground-series-s4e9/test.csv')\n",
    "sf=pd.read_csv('/kaggle/input/playground-series-s4e9/sample_submission.csv')"
   ]
  },
  {
   "cell_type": "code",
   "execution_count": 163,
   "metadata": {
    "execution": {
     "iopub.execute_input": "2024-09-28T11:32:10.582928Z",
     "iopub.status.busy": "2024-09-28T11:32:10.582549Z",
     "iopub.status.idle": "2024-09-28T11:32:10.625289Z",
     "shell.execute_reply": "2024-09-28T11:32:10.623928Z",
     "shell.execute_reply.started": "2024-09-28T11:32:10.582891Z"
    }
   },
   "outputs": [],
   "source": [
    "df = df.drop('id', axis=1)\n",
    "dt = dt.drop('id', axis=1)"
   ]
  },
  {
   "cell_type": "markdown",
   "metadata": {},
   "source": [
    "# SUPRESS WARNINGS"
   ]
  },
  {
   "cell_type": "code",
   "execution_count": 164,
   "metadata": {
    "execution": {
     "iopub.execute_input": "2024-09-28T11:32:10.627349Z",
     "iopub.status.busy": "2024-09-28T11:32:10.626872Z",
     "iopub.status.idle": "2024-09-28T11:32:10.633147Z",
     "shell.execute_reply": "2024-09-28T11:32:10.631977Z",
     "shell.execute_reply.started": "2024-09-28T11:32:10.627297Z"
    }
   },
   "outputs": [],
   "source": [
    "import warnings\n",
    "warnings.filterwarnings('ignore')"
   ]
  },
  {
   "cell_type": "markdown",
   "metadata": {},
   "source": [
    "# Print All Variables"
   ]
  },
  {
   "cell_type": "code",
   "execution_count": 165,
   "metadata": {
    "execution": {
     "iopub.execute_input": "2024-09-28T11:32:10.636510Z",
     "iopub.status.busy": "2024-09-28T11:32:10.636015Z",
     "iopub.status.idle": "2024-09-28T11:32:10.645619Z",
     "shell.execute_reply": "2024-09-28T11:32:10.644253Z",
     "shell.execute_reply.started": "2024-09-28T11:32:10.636459Z"
    }
   },
   "outputs": [],
   "source": [
    "from IPython.core.interactiveshell import InteractiveShell\n",
    "InteractiveShell.ast_node_interactivity = \"all\""
   ]
  },
  {
   "cell_type": "code",
   "execution_count": 166,
   "metadata": {
    "execution": {
     "iopub.execute_input": "2024-09-28T11:32:10.647508Z",
     "iopub.status.busy": "2024-09-28T11:32:10.646996Z",
     "iopub.status.idle": "2024-09-28T11:32:10.660110Z",
     "shell.execute_reply": "2024-09-28T11:32:10.658968Z",
     "shell.execute_reply.started": "2024-09-28T11:32:10.647462Z"
    }
   },
   "outputs": [
    {
     "data": {
      "text/plain": [
       "((188533, 12), (125690, 11), (125690, 2))"
      ]
     },
     "execution_count": 166,
     "metadata": {},
     "output_type": "execute_result"
    }
   ],
   "source": [
    "df.shape,dt.shape,sf.shape"
   ]
  },
  {
   "cell_type": "code",
   "execution_count": 167,
   "metadata": {
    "execution": {
     "iopub.execute_input": "2024-09-28T11:32:10.662505Z",
     "iopub.status.busy": "2024-09-28T11:32:10.661524Z",
     "iopub.status.idle": "2024-09-28T11:32:10.788362Z",
     "shell.execute_reply": "2024-09-28T11:32:10.787264Z",
     "shell.execute_reply.started": "2024-09-28T11:32:10.662454Z"
    }
   },
   "outputs": [
    {
     "data": {
      "text/html": [
       "<div>\n",
       "<style scoped>\n",
       "    .dataframe tbody tr th:only-of-type {\n",
       "        vertical-align: middle;\n",
       "    }\n",
       "\n",
       "    .dataframe tbody tr th {\n",
       "        vertical-align: top;\n",
       "    }\n",
       "\n",
       "    .dataframe thead th {\n",
       "        text-align: right;\n",
       "    }\n",
       "</style>\n",
       "<table border=\"1\" class=\"dataframe\">\n",
       "  <thead>\n",
       "    <tr style=\"text-align: right;\">\n",
       "      <th></th>\n",
       "      <th>model_year</th>\n",
       "      <th>milage</th>\n",
       "      <th>price</th>\n",
       "    </tr>\n",
       "  </thead>\n",
       "  <tbody>\n",
       "    <tr>\n",
       "      <th>count</th>\n",
       "      <td>188533.000000</td>\n",
       "      <td>188533.000000</td>\n",
       "      <td>1.885330e+05</td>\n",
       "    </tr>\n",
       "    <tr>\n",
       "      <th>mean</th>\n",
       "      <td>2015.829998</td>\n",
       "      <td>65705.295174</td>\n",
       "      <td>4.387802e+04</td>\n",
       "    </tr>\n",
       "    <tr>\n",
       "      <th>std</th>\n",
       "      <td>5.660967</td>\n",
       "      <td>49798.158076</td>\n",
       "      <td>7.881952e+04</td>\n",
       "    </tr>\n",
       "    <tr>\n",
       "      <th>min</th>\n",
       "      <td>1974.000000</td>\n",
       "      <td>100.000000</td>\n",
       "      <td>2.000000e+03</td>\n",
       "    </tr>\n",
       "    <tr>\n",
       "      <th>25%</th>\n",
       "      <td>2013.000000</td>\n",
       "      <td>24115.000000</td>\n",
       "      <td>1.700000e+04</td>\n",
       "    </tr>\n",
       "    <tr>\n",
       "      <th>50%</th>\n",
       "      <td>2017.000000</td>\n",
       "      <td>57785.000000</td>\n",
       "      <td>3.082500e+04</td>\n",
       "    </tr>\n",
       "    <tr>\n",
       "      <th>75%</th>\n",
       "      <td>2020.000000</td>\n",
       "      <td>95400.000000</td>\n",
       "      <td>4.990000e+04</td>\n",
       "    </tr>\n",
       "    <tr>\n",
       "      <th>max</th>\n",
       "      <td>2024.000000</td>\n",
       "      <td>405000.000000</td>\n",
       "      <td>2.954083e+06</td>\n",
       "    </tr>\n",
       "  </tbody>\n",
       "</table>\n",
       "</div>"
      ],
      "text/plain": [
       "          model_year         milage         price\n",
       "count  188533.000000  188533.000000  1.885330e+05\n",
       "mean     2015.829998   65705.295174  4.387802e+04\n",
       "std         5.660967   49798.158076  7.881952e+04\n",
       "min      1974.000000     100.000000  2.000000e+03\n",
       "25%      2013.000000   24115.000000  1.700000e+04\n",
       "50%      2017.000000   57785.000000  3.082500e+04\n",
       "75%      2020.000000   95400.000000  4.990000e+04\n",
       "max      2024.000000  405000.000000  2.954083e+06"
      ]
     },
     "execution_count": 167,
     "metadata": {},
     "output_type": "execute_result"
    },
    {
     "name": "stdout",
     "output_type": "stream",
     "text": [
      "<class 'pandas.core.frame.DataFrame'>\n",
      "RangeIndex: 188533 entries, 0 to 188532\n",
      "Data columns (total 12 columns):\n",
      " #   Column        Non-Null Count   Dtype \n",
      "---  ------        --------------   ----- \n",
      " 0   brand         188533 non-null  object\n",
      " 1   model         188533 non-null  object\n",
      " 2   model_year    188533 non-null  int64 \n",
      " 3   milage        188533 non-null  int64 \n",
      " 4   fuel_type     183450 non-null  object\n",
      " 5   engine        188533 non-null  object\n",
      " 6   transmission  188533 non-null  object\n",
      " 7   ext_col       188533 non-null  object\n",
      " 8   int_col       188533 non-null  object\n",
      " 9   accident      186081 non-null  object\n",
      " 10  clean_title   167114 non-null  object\n",
      " 11  price         188533 non-null  int64 \n",
      "dtypes: int64(3), object(9)\n",
      "memory usage: 17.3+ MB\n"
     ]
    }
   ],
   "source": [
    "df.describe()\n",
    "df.info()"
   ]
  },
  {
   "cell_type": "code",
   "execution_count": 168,
   "metadata": {
    "execution": {
     "iopub.execute_input": "2024-09-28T11:32:10.790090Z",
     "iopub.status.busy": "2024-09-28T11:32:10.789739Z",
     "iopub.status.idle": "2024-09-28T11:32:10.930944Z",
     "shell.execute_reply": "2024-09-28T11:32:10.929919Z",
     "shell.execute_reply.started": "2024-09-28T11:32:10.790046Z"
    }
   },
   "outputs": [
    {
     "data": {
      "text/plain": [
       "brand               0\n",
       "model               0\n",
       "model_year          0\n",
       "milage              0\n",
       "fuel_type        5083\n",
       "engine              0\n",
       "transmission        0\n",
       "ext_col             0\n",
       "int_col             0\n",
       "accident         2452\n",
       "clean_title     21419\n",
       "price               0\n",
       "dtype: int64"
      ]
     },
     "execution_count": 168,
     "metadata": {},
     "output_type": "execute_result"
    },
    {
     "data": {
      "text/plain": [
       "brand               0\n",
       "model               0\n",
       "model_year          0\n",
       "milage              0\n",
       "fuel_type        3383\n",
       "engine              0\n",
       "transmission        0\n",
       "ext_col             0\n",
       "int_col             0\n",
       "accident         1632\n",
       "clean_title     14239\n",
       "dtype: int64"
      ]
     },
     "execution_count": 168,
     "metadata": {},
     "output_type": "execute_result"
    }
   ],
   "source": [
    "df.isnull().sum()\n",
    "dt.isnull().sum()"
   ]
  },
  {
   "cell_type": "code",
   "execution_count": 169,
   "metadata": {
    "execution": {
     "iopub.execute_input": "2024-09-28T11:32:10.932633Z",
     "iopub.status.busy": "2024-09-28T11:32:10.932277Z",
     "iopub.status.idle": "2024-09-28T11:32:11.215569Z",
     "shell.execute_reply": "2024-09-28T11:32:11.214461Z",
     "shell.execute_reply.started": "2024-09-28T11:32:10.932596Z"
    }
   },
   "outputs": [
    {
     "data": {
      "text/plain": [
       "0"
      ]
     },
     "execution_count": 169,
     "metadata": {},
     "output_type": "execute_result"
    },
    {
     "data": {
      "text/plain": [
       "0"
      ]
     },
     "execution_count": 169,
     "metadata": {},
     "output_type": "execute_result"
    }
   ],
   "source": [
    "df.duplicated().sum()\n",
    "dt.duplicated().sum()"
   ]
  },
  {
   "cell_type": "markdown",
   "metadata": {
    "execution": {
     "iopub.execute_input": "2024-09-18T17:15:59.393769Z",
     "iopub.status.busy": "2024-09-18T17:15:59.393307Z",
     "iopub.status.idle": "2024-09-18T17:15:59.399192Z",
     "shell.execute_reply": "2024-09-18T17:15:59.397891Z",
     "shell.execute_reply.started": "2024-09-18T17:15:59.393726Z"
    }
   },
   "source": [
    "## So bascialy only three Columns has Missing values in them\n",
    "    ### 1. accident has very less percentage of values Missing and we can impute it with Mode value\n",
    "    ### 2. Fuel_type has Value Missing completely at Random and Covariance,correlation with price can be understood for Imputing.\n",
    "    ### 3. clean_title has High value in missing and let's see what can be done with that"
   ]
  },
  {
   "cell_type": "code",
   "execution_count": 170,
   "metadata": {
    "execution": {
     "iopub.execute_input": "2024-09-28T11:32:11.217249Z",
     "iopub.status.busy": "2024-09-28T11:32:11.216918Z",
     "iopub.status.idle": "2024-09-28T11:32:11.250836Z",
     "shell.execute_reply": "2024-09-28T11:32:11.249744Z",
     "shell.execute_reply.started": "2024-09-28T11:32:11.217215Z"
    }
   },
   "outputs": [
    {
     "data": {
      "text/plain": [
       "0    None reported\n",
       "Name: accident, dtype: object"
      ]
     },
     "execution_count": 170,
     "metadata": {},
     "output_type": "execute_result"
    },
    {
     "data": {
      "text/plain": [
       "array(['None reported', 'At least 1 accident or damage reported', nan],\n",
       "      dtype=object)"
      ]
     },
     "execution_count": 170,
     "metadata": {},
     "output_type": "execute_result"
    }
   ],
   "source": [
    "df['accident'].mode()\n",
    "df['accident'].unique()"
   ]
  },
  {
   "cell_type": "code",
   "execution_count": 171,
   "metadata": {
    "execution": {
     "iopub.execute_input": "2024-09-28T11:32:11.255306Z",
     "iopub.status.busy": "2024-09-28T11:32:11.254906Z",
     "iopub.status.idle": "2024-09-28T11:32:11.287812Z",
     "shell.execute_reply": "2024-09-28T11:32:11.286791Z",
     "shell.execute_reply.started": "2024-09-28T11:32:11.255267Z"
    }
   },
   "outputs": [
    {
     "data": {
      "text/plain": [
       "0    Yes\n",
       "Name: clean_title, dtype: object"
      ]
     },
     "execution_count": 171,
     "metadata": {},
     "output_type": "execute_result"
    },
    {
     "data": {
      "text/plain": [
       "array(['Yes', nan], dtype=object)"
      ]
     },
     "execution_count": 171,
     "metadata": {},
     "output_type": "execute_result"
    }
   ],
   "source": [
    "df['clean_title'].mode()\n",
    "df['clean_title'].unique()"
   ]
  },
  {
   "cell_type": "markdown",
   "metadata": {},
   "source": [
    "# Imputing missing in the clean_title"
   ]
  },
  {
   "cell_type": "code",
   "execution_count": 172,
   "metadata": {
    "execution": {
     "iopub.execute_input": "2024-09-28T11:32:11.289511Z",
     "iopub.status.busy": "2024-09-28T11:32:11.289102Z",
     "iopub.status.idle": "2024-09-28T11:32:14.854346Z",
     "shell.execute_reply": "2024-09-28T11:32:14.853215Z",
     "shell.execute_reply.started": "2024-09-28T11:32:11.289472Z"
    }
   },
   "outputs": [],
   "source": [
    "def fill_clean_title(row):\n",
    "    \n",
    "    \n",
    "    if pd.isna(row['clean_title']):\n",
    "        return 'missing'\n",
    "    return row['clean_title']\n",
    "\n",
    "df['clean_title'] = df.apply(fill_clean_title, axis=1)\n",
    "dt['clean_title'] = dt.apply(fill_clean_title, axis=1)"
   ]
  },
  {
   "cell_type": "code",
   "execution_count": 173,
   "metadata": {
    "execution": {
     "iopub.execute_input": "2024-09-28T11:32:14.855946Z",
     "iopub.status.busy": "2024-09-28T11:32:14.855602Z",
     "iopub.status.idle": "2024-09-28T11:32:15.039483Z",
     "shell.execute_reply": "2024-09-28T11:32:15.038190Z",
     "shell.execute_reply.started": "2024-09-28T11:32:14.855909Z"
    }
   },
   "outputs": [
    {
     "data": {
      "text/plain": [
       "<Axes: xlabel='clean_title'>"
      ]
     },
     "execution_count": 173,
     "metadata": {},
     "output_type": "execute_result"
    },
    {
     "data": {
      "image/png": "[encoded data removed]",
      "text/plain": [
       "<Figure size 640x480 with 1 Axes>"
      ]
     },
     "metadata": {},
     "output_type": "display_data"
    }
   ],
   "source": [
    "dt['clean_title'].value_counts().plot(kind='bar')"
   ]
  },
  {
   "cell_type": "code",
   "execution_count": 174,
   "metadata": {
    "execution": {
     "iopub.execute_input": "2024-09-28T11:32:15.042112Z",
     "iopub.status.busy": "2024-09-28T11:32:15.041539Z",
     "iopub.status.idle": "2024-09-28T11:32:15.047452Z",
     "shell.execute_reply": "2024-09-28T11:32:15.046208Z",
     "shell.execute_reply.started": "2024-09-28T11:32:15.042063Z"
    }
   },
   "outputs": [],
   "source": [
    "#from sklearn.impute import SimpleImputer\n",
    "#imputer = SimpleImputer(strategy='constant',fill_value='Missing')"
   ]
  },
  {
   "cell_type": "code",
   "execution_count": 175,
   "metadata": {
    "execution": {
     "iopub.execute_input": "2024-09-28T11:32:15.049551Z",
     "iopub.status.busy": "2024-09-28T11:32:15.049036Z",
     "iopub.status.idle": "2024-09-28T11:32:15.071882Z",
     "shell.execute_reply": "2024-09-28T11:32:15.070771Z",
     "shell.execute_reply.started": "2024-09-28T11:32:15.049501Z"
    }
   },
   "outputs": [
    {
     "data": {
      "text/plain": [
       "array(['None reported', 'At least 1 accident or damage reported', nan],\n",
       "      dtype=object)"
      ]
     },
     "execution_count": 175,
     "metadata": {},
     "output_type": "execute_result"
    }
   ],
   "source": [
    "df['accident'].unique()"
   ]
  },
  {
   "cell_type": "code",
   "execution_count": 176,
   "metadata": {
    "execution": {
     "iopub.execute_input": "2024-09-28T11:32:15.074246Z",
     "iopub.status.busy": "2024-09-28T11:32:15.073764Z",
     "iopub.status.idle": "2024-09-28T11:32:15.100468Z",
     "shell.execute_reply": "2024-09-28T11:32:15.099090Z",
     "shell.execute_reply.started": "2024-09-28T11:32:15.074197Z"
    }
   },
   "outputs": [
    {
     "data": {
      "text/plain": [
       "0    None reported\n",
       "Name: accident, dtype: object"
      ]
     },
     "execution_count": 176,
     "metadata": {},
     "output_type": "execute_result"
    }
   ],
   "source": [
    "df['accident'].mode()"
   ]
  },
  {
   "cell_type": "markdown",
   "metadata": {
    "execution": {
     "iopub.execute_input": "2024-09-25T18:27:12.672047Z",
     "iopub.status.busy": "2024-09-25T18:27:12.671708Z",
     "iopub.status.idle": "2024-09-25T18:27:13.927661Z",
     "shell.execute_reply": "2024-09-25T18:27:13.908551Z",
     "shell.execute_reply.started": "2024-09-25T18:27:12.672003Z"
    }
   },
   "source": [
    "fig = plt.figure()\n",
    "ax = fig.add_subplot(111)\n",
    "\n",
    "df[df['accident']==0]['price'].plot(kind='kde', ax=ax)\n",
    "\n",
    "df[df['accident'].isnull()]['price'].plot(kind='kde', ax=ax, color='red')\n",
    "\n",
    "lines, labels = ax.get_legend_handles_labels()\n",
    "labels = ['None accident', 'Nan accident']\n",
    "ax.legend(lines, labels, loc='best')\n",
    "\n",
    "plt.title('Death Walk');"
   ]
  },
  {
   "cell_type": "code",
   "execution_count": 177,
   "metadata": {
    "execution": {
     "iopub.execute_input": "2024-09-28T11:32:15.102008Z",
     "iopub.status.busy": "2024-09-28T11:32:15.101635Z",
     "iopub.status.idle": "2024-09-28T11:32:15.134930Z",
     "shell.execute_reply": "2024-09-28T11:32:15.133841Z",
     "shell.execute_reply.started": "2024-09-28T11:32:15.101953Z"
    }
   },
   "outputs": [],
   "source": [
    "df['accident']=df['accident'].map({'None reported': 0,'At least 1 accident or damage reported': 1})\n",
    "dt['accident']=dt['accident'].map({'None reported': 0,'At least 1 accident or damage reported': 1})"
   ]
  },
  {
   "cell_type": "code",
   "execution_count": 178,
   "metadata": {
    "execution": {
     "iopub.execute_input": "2024-09-28T11:32:15.136572Z",
     "iopub.status.busy": "2024-09-28T11:32:15.136201Z",
     "iopub.status.idle": "2024-09-28T11:32:15.144762Z",
     "shell.execute_reply": "2024-09-28T11:32:15.143665Z",
     "shell.execute_reply.started": "2024-09-28T11:32:15.136532Z"
    }
   },
   "outputs": [
    {
     "data": {
      "text/plain": [
       "array([ 0.,  1., nan])"
      ]
     },
     "execution_count": 178,
     "metadata": {},
     "output_type": "execute_result"
    }
   ],
   "source": [
    "dt['accident'].unique()"
   ]
  },
  {
   "cell_type": "code",
   "execution_count": 179,
   "metadata": {
    "execution": {
     "iopub.execute_input": "2024-09-28T11:32:15.146586Z",
     "iopub.status.busy": "2024-09-28T11:32:15.146223Z",
     "iopub.status.idle": "2024-09-28T11:32:15.156847Z",
     "shell.execute_reply": "2024-09-28T11:32:15.155483Z",
     "shell.execute_reply.started": "2024-09-28T11:32:15.146551Z"
    }
   },
   "outputs": [
    {
     "data": {
      "text/plain": [
       "0.012984326517622723"
      ]
     },
     "execution_count": 179,
     "metadata": {},
     "output_type": "execute_result"
    }
   ],
   "source": [
    "dt['accident'].isna().mean()"
   ]
  },
  {
   "cell_type": "code",
   "execution_count": 180,
   "metadata": {
    "execution": {
     "iopub.execute_input": "2024-09-28T11:32:15.158651Z",
     "iopub.status.busy": "2024-09-28T11:32:15.158209Z",
     "iopub.status.idle": "2024-09-28T11:32:15.199511Z",
     "shell.execute_reply": "2024-09-28T11:32:15.198203Z",
     "shell.execute_reply.started": "2024-09-28T11:32:15.158604Z"
    }
   },
   "outputs": [],
   "source": [
    "df.dropna(subset=['accident'], inplace=True)"
   ]
  },
  {
   "cell_type": "code",
   "execution_count": 181,
   "metadata": {
    "execution": {
     "iopub.execute_input": "2024-09-28T11:32:15.201546Z",
     "iopub.status.busy": "2024-09-28T11:32:15.201044Z",
     "iopub.status.idle": "2024-09-28T11:32:15.334946Z",
     "shell.execute_reply": "2024-09-28T11:32:15.333867Z",
     "shell.execute_reply.started": "2024-09-28T11:32:15.201494Z"
    }
   },
   "outputs": [
    {
     "data": {
      "text/plain": [
       "brand           0.000000\n",
       "model           0.000000\n",
       "model_year      0.000000\n",
       "milage          0.000000\n",
       "fuel_type       2.694526\n",
       "engine          0.000000\n",
       "transmission    0.000000\n",
       "ext_col         0.000000\n",
       "int_col         0.000000\n",
       "accident        0.000000\n",
       "clean_title     0.000000\n",
       "price           0.000000\n",
       "dtype: float64"
      ]
     },
     "execution_count": 181,
     "metadata": {},
     "output_type": "execute_result"
    },
    {
     "data": {
      "text/plain": [
       "brand           0.000000\n",
       "model           0.000000\n",
       "model_year      0.000000\n",
       "milage          0.000000\n",
       "fuel_type       2.691543\n",
       "engine          0.000000\n",
       "transmission    0.000000\n",
       "ext_col         0.000000\n",
       "int_col         0.000000\n",
       "accident        1.298433\n",
       "clean_title     0.000000\n",
       "dtype: float64"
      ]
     },
     "execution_count": 181,
     "metadata": {},
     "output_type": "execute_result"
    }
   ],
   "source": [
    "df.isnull().mean()*100\n",
    "dt.isnull().mean()*100"
   ]
  },
  {
   "cell_type": "code",
   "execution_count": 182,
   "metadata": {
    "execution": {
     "iopub.execute_input": "2024-09-28T11:32:15.336493Z",
     "iopub.status.busy": "2024-09-28T11:32:15.336136Z",
     "iopub.status.idle": "2024-09-28T11:32:15.392485Z",
     "shell.execute_reply": "2024-09-28T11:32:15.391357Z",
     "shell.execute_reply.started": "2024-09-28T11:32:15.336457Z"
    }
   },
   "outputs": [
    {
     "data": {
      "text/plain": [
       "brand              0\n",
       "model              0\n",
       "model_year         0\n",
       "milage             0\n",
       "fuel_type       3383\n",
       "engine             0\n",
       "transmission       0\n",
       "ext_col            0\n",
       "int_col            0\n",
       "accident        1632\n",
       "clean_title        0\n",
       "dtype: int64"
      ]
     },
     "execution_count": 182,
     "metadata": {},
     "output_type": "execute_result"
    }
   ],
   "source": [
    "dt.isnull().sum()"
   ]
  },
  {
   "cell_type": "code",
   "execution_count": 183,
   "metadata": {
    "execution": {
     "iopub.execute_input": "2024-09-28T11:32:15.394386Z",
     "iopub.status.busy": "2024-09-28T11:32:15.394029Z",
     "iopub.status.idle": "2024-09-28T11:32:15.417107Z",
     "shell.execute_reply": "2024-09-28T11:32:15.415758Z",
     "shell.execute_reply.started": "2024-09-28T11:32:15.394350Z"
    }
   },
   "outputs": [
    {
     "data": {
      "text/html": [
       "<div>\n",
       "<style scoped>\n",
       "    .dataframe tbody tr th:only-of-type {\n",
       "        vertical-align: middle;\n",
       "    }\n",
       "\n",
       "    .dataframe tbody tr th {\n",
       "        vertical-align: top;\n",
       "    }\n",
       "\n",
       "    .dataframe thead th {\n",
       "        text-align: right;\n",
       "    }\n",
       "</style>\n",
       "<table border=\"1\" class=\"dataframe\">\n",
       "  <thead>\n",
       "    <tr style=\"text-align: right;\">\n",
       "      <th></th>\n",
       "      <th>brand</th>\n",
       "      <th>model</th>\n",
       "      <th>model_year</th>\n",
       "      <th>milage</th>\n",
       "      <th>fuel_type</th>\n",
       "      <th>engine</th>\n",
       "      <th>transmission</th>\n",
       "      <th>ext_col</th>\n",
       "      <th>int_col</th>\n",
       "      <th>accident</th>\n",
       "      <th>clean_title</th>\n",
       "      <th>price</th>\n",
       "    </tr>\n",
       "  </thead>\n",
       "  <tbody>\n",
       "    <tr>\n",
       "      <th>1995</th>\n",
       "      <td>Mercedes-Benz</td>\n",
       "      <td>E-Class E 350</td>\n",
       "      <td>2019</td>\n",
       "      <td>79500</td>\n",
       "      <td>Gasoline</td>\n",
       "      <td>255.0HP 2.0L 4 Cylinder Engine Gasoline Fuel</td>\n",
       "      <td>9-Speed A/T</td>\n",
       "      <td>White</td>\n",
       "      <td>Black</td>\n",
       "      <td>0.0</td>\n",
       "      <td>Yes</td>\n",
       "      <td>33995</td>\n",
       "    </tr>\n",
       "    <tr>\n",
       "      <th>44142</th>\n",
       "      <td>Jeep</td>\n",
       "      <td>Grand Cherokee L Limited</td>\n",
       "      <td>2022</td>\n",
       "      <td>14065</td>\n",
       "      <td>Gasoline</td>\n",
       "      <td>3.6L V6 24V MPFI DOHC</td>\n",
       "      <td>8-Speed Automatic</td>\n",
       "      <td>Bright White Clearcoat</td>\n",
       "      <td>Global Black</td>\n",
       "      <td>0.0</td>\n",
       "      <td>Yes</td>\n",
       "      <td>105500</td>\n",
       "    </tr>\n",
       "  </tbody>\n",
       "</table>\n",
       "</div>"
      ],
      "text/plain": [
       "               brand                     model  model_year  milage fuel_type  \\\n",
       "1995   Mercedes-Benz             E-Class E 350        2019   79500  Gasoline   \n",
       "44142           Jeep  Grand Cherokee L Limited        2022   14065  Gasoline   \n",
       "\n",
       "                                             engine       transmission  \\\n",
       "1995   255.0HP 2.0L 4 Cylinder Engine Gasoline Fuel        9-Speed A/T   \n",
       "44142                         3.6L V6 24V MPFI DOHC  8-Speed Automatic   \n",
       "\n",
       "                      ext_col       int_col  accident clean_title   price  \n",
       "1995                    White         Black       0.0         Yes   33995  \n",
       "44142  Bright White Clearcoat  Global Black       0.0         Yes  105500  "
      ]
     },
     "execution_count": 183,
     "metadata": {},
     "output_type": "execute_result"
    }
   ],
   "source": [
    "df.sample(2)"
   ]
  },
  {
   "cell_type": "code",
   "execution_count": 184,
   "metadata": {
    "execution": {
     "iopub.execute_input": "2024-09-28T11:32:15.419172Z",
     "iopub.status.busy": "2024-09-28T11:32:15.418781Z",
     "iopub.status.idle": "2024-09-28T11:32:15.444383Z",
     "shell.execute_reply": "2024-09-28T11:32:15.443079Z",
     "shell.execute_reply.started": "2024-09-28T11:32:15.419133Z"
    }
   },
   "outputs": [
    {
     "data": {
      "text/plain": [
       "brand\n",
       "Ford             22766\n",
       "Mercedes-Benz    19004\n",
       "BMW              16830\n",
       "Chevrolet        16125\n",
       "Audi             10790\n",
       "Porsche          10406\n",
       "Land              9425\n",
       "Toyota            8746\n",
       "Lexus             8573\n",
       "Jeep              6304\n",
       "Cadillac          4605\n",
       "RAM               4176\n",
       "Nissan            3895\n",
       "Tesla             3703\n",
       "INFINITI          3237\n",
       "GMC               3162\n",
       "Dodge             3085\n",
       "Mazda             2693\n",
       "Kia               2447\n",
       "Lincoln           2392\n",
       "Subaru            2369\n",
       "Acura             2259\n",
       "Honda             2062\n",
       "Hyundai           2015\n",
       "Volkswagen        1745\n",
       "Jaguar            1295\n",
       "Bentley           1125\n",
       "MINI              1053\n",
       "Genesis            952\n",
       "Maserati           928\n",
       "Buick              927\n",
       "Lamborghini        793\n",
       "Chrysler           717\n",
       "Volvo              712\n",
       "Alfa               665\n",
       "Rivian             570\n",
       "Rolls-Royce        553\n",
       "Mitsubishi         543\n",
       "Pontiac            535\n",
       "Hummer             516\n",
       "Ferrari            352\n",
       "McLaren            242\n",
       "Aston              237\n",
       "Saturn             146\n",
       "Scion              118\n",
       "Lucid               67\n",
       "Mercury             55\n",
       "Lotus               51\n",
       "FIAT                41\n",
       "Saab                22\n",
       "Karma               17\n",
       "Suzuki               8\n",
       "Plymouth             7\n",
       "Bugatti              7\n",
       "Polestar             7\n",
       "smart                3\n",
       "Maybach              3\n",
       "Name: count, dtype: int64"
      ]
     },
     "execution_count": 184,
     "metadata": {},
     "output_type": "execute_result"
    }
   ],
   "source": [
    "df['brand'].value_counts()"
   ]
  },
  {
   "cell_type": "code",
   "execution_count": 185,
   "metadata": {
    "execution": {
     "iopub.execute_input": "2024-09-28T11:32:15.446262Z",
     "iopub.status.busy": "2024-09-28T11:32:15.445855Z",
     "iopub.status.idle": "2024-09-28T11:32:15.462048Z",
     "shell.execute_reply": "2024-09-28T11:32:15.460931Z",
     "shell.execute_reply.started": "2024-09-28T11:32:15.446224Z"
    }
   },
   "outputs": [
    {
     "data": {
      "text/plain": [
       "model_year\n",
       "2021    17811\n",
       "2018    16233\n",
       "2020    15587\n",
       "2022    15430\n",
       "2019    15211\n",
       "2016    13548\n",
       "2017    12677\n",
       "2015    11286\n",
       "2023     8584\n",
       "2014     8327\n",
       "2013     6736\n",
       "2011     6214\n",
       "2012     6038\n",
       "2008     5109\n",
       "2007     4837\n",
       "2010     4204\n",
       "2005     3091\n",
       "2006     2794\n",
       "2009     2694\n",
       "2004     2553\n",
       "2003     1887\n",
       "2001     1517\n",
       "2002     1264\n",
       "2000      552\n",
       "1999      552\n",
       "1998      337\n",
       "1997      312\n",
       "1996      187\n",
       "2024      158\n",
       "1993      136\n",
       "1995      100\n",
       "1994       92\n",
       "1992       13\n",
       "1974       10\n",
       "Name: count, dtype: int64"
      ]
     },
     "execution_count": 185,
     "metadata": {},
     "output_type": "execute_result"
    }
   ],
   "source": [
    "df['model_year'].value_counts()"
   ]
  },
  {
   "cell_type": "code",
   "execution_count": 186,
   "metadata": {
    "execution": {
     "iopub.execute_input": "2024-09-28T11:32:15.463970Z",
     "iopub.status.busy": "2024-09-28T11:32:15.463595Z",
     "iopub.status.idle": "2024-09-28T11:32:15.475522Z",
     "shell.execute_reply": "2024-09-28T11:32:15.474494Z",
     "shell.execute_reply.started": "2024-09-28T11:32:15.463931Z"
    }
   },
   "outputs": [
    {
     "data": {
      "text/plain": [
       "Index(['brand', 'model', 'model_year', 'milage', 'fuel_type', 'engine',\n",
       "       'transmission', 'ext_col', 'int_col', 'accident', 'clean_title',\n",
       "       'price'],\n",
       "      dtype='object')"
      ]
     },
     "execution_count": 186,
     "metadata": {},
     "output_type": "execute_result"
    }
   ],
   "source": [
    "df.columns"
   ]
  },
  {
   "cell_type": "code",
   "execution_count": 187,
   "metadata": {
    "execution": {
     "iopub.execute_input": "2024-09-28T11:32:15.477149Z",
     "iopub.status.busy": "2024-09-28T11:32:15.476798Z",
     "iopub.status.idle": "2024-09-28T11:32:15.758197Z",
     "shell.execute_reply": "2024-09-28T11:32:15.756913Z",
     "shell.execute_reply.started": "2024-09-28T11:32:15.477115Z"
    }
   },
   "outputs": [
    {
     "data": {
      "text/plain": [
       "<Axes: xlabel='fuel_type'>"
      ]
     },
     "execution_count": 187,
     "metadata": {},
     "output_type": "execute_result"
    },
    {
     "data": {
      "image/png": "[encoded data removed]",
      "text/plain": [
       "<Figure size 640x480 with 1 Axes>"
      ]
     },
     "metadata": {},
     "output_type": "display_data"
    }
   ],
   "source": [
    "df['fuel_type'].value_counts().plot(kind='bar')"
   ]
  },
  {
   "cell_type": "code",
   "execution_count": 188,
   "metadata": {
    "execution": {
     "iopub.execute_input": "2024-09-28T11:32:15.759923Z",
     "iopub.status.busy": "2024-09-28T11:32:15.759549Z",
     "iopub.status.idle": "2024-09-28T11:32:15.782364Z",
     "shell.execute_reply": "2024-09-28T11:32:15.781330Z",
     "shell.execute_reply.started": "2024-09-28T11:32:15.759885Z"
    }
   },
   "outputs": [
    {
     "data": {
      "text/plain": [
       "0    Gasoline\n",
       "Name: fuel_type, dtype: object"
      ]
     },
     "execution_count": 188,
     "metadata": {},
     "output_type": "execute_result"
    }
   ],
   "source": [
    "df['fuel_type'].mode()"
   ]
  },
  {
   "cell_type": "code",
   "execution_count": 189,
   "metadata": {
    "execution": {
     "iopub.execute_input": "2024-09-28T11:32:15.791249Z",
     "iopub.status.busy": "2024-09-28T11:32:15.790864Z",
     "iopub.status.idle": "2024-09-28T11:32:15.869037Z",
     "shell.execute_reply": "2024-09-28T11:32:15.867875Z",
     "shell.execute_reply.started": "2024-09-28T11:32:15.791212Z"
    }
   },
   "outputs": [
    {
     "data": {
      "text/plain": [
       "brand              0\n",
       "model              0\n",
       "model_year         0\n",
       "milage             0\n",
       "fuel_type       5014\n",
       "engine             0\n",
       "transmission       0\n",
       "ext_col            0\n",
       "int_col            0\n",
       "accident           0\n",
       "clean_title        0\n",
       "price              0\n",
       "dtype: int64"
      ]
     },
     "execution_count": 189,
     "metadata": {},
     "output_type": "execute_result"
    }
   ],
   "source": [
    "df.isnull().sum()"
   ]
  },
  {
   "cell_type": "code",
   "execution_count": 190,
   "metadata": {
    "execution": {
     "iopub.execute_input": "2024-09-28T11:32:15.871375Z",
     "iopub.status.busy": "2024-09-28T11:32:15.870948Z",
     "iopub.status.idle": "2024-09-28T11:32:19.597155Z",
     "shell.execute_reply": "2024-09-28T11:32:19.596012Z",
     "shell.execute_reply.started": "2024-09-28T11:32:15.871336Z"
    }
   },
   "outputs": [
    {
     "data": {
      "image/png": "[encoded data removed]",
      "text/plain": [
       "<Figure size 640x480 with 1 Axes>"
      ]
     },
     "metadata": {},
     "output_type": "display_data"
    }
   ],
   "source": [
    "fig = plt.figure()\n",
    "ax = fig.add_subplot(111)\n",
    "\n",
    "df[df['fuel_type']=='Gasoline']['price'].plot(kind='kde', ax=ax)\n",
    "\n",
    "df[df['fuel_type'].isnull()]['price'].plot(kind='kde', ax=ax, color='red')\n",
    "\n",
    "lines, labels = ax.get_legend_handles_labels()\n",
    "labels = ['fuel with gasoline', 'missing fuel_type']\n",
    "ax.legend(lines, labels, loc='best')\n",
    "\n",
    "plt.title('Fuel the Soul');"
   ]
  },
  {
   "cell_type": "code",
   "execution_count": 191,
   "metadata": {
    "execution": {
     "iopub.execute_input": "2024-09-28T11:32:19.599197Z",
     "iopub.status.busy": "2024-09-28T11:32:19.598697Z",
     "iopub.status.idle": "2024-09-28T11:32:19.616503Z",
     "shell.execute_reply": "2024-09-28T11:32:19.615425Z",
     "shell.execute_reply.started": "2024-09-28T11:32:19.599139Z"
    }
   },
   "outputs": [],
   "source": [
    "df['fuel_type'].fillna('Gasoline', inplace=True)"
   ]
  },
  {
   "cell_type": "code",
   "execution_count": 192,
   "metadata": {
    "execution": {
     "iopub.execute_input": "2024-09-28T11:32:19.618233Z",
     "iopub.status.busy": "2024-09-28T11:32:19.617832Z",
     "iopub.status.idle": "2024-09-28T11:32:19.643174Z",
     "shell.execute_reply": "2024-09-28T11:32:19.642018Z",
     "shell.execute_reply.started": "2024-09-28T11:32:19.618183Z"
    }
   },
   "outputs": [
    {
     "data": {
      "text/plain": [
       "0    Gasoline\n",
       "Name: fuel_type, dtype: object"
      ]
     },
     "execution_count": 192,
     "metadata": {},
     "output_type": "execute_result"
    }
   ],
   "source": [
    "df['fuel_type'].mode()"
   ]
  },
  {
   "cell_type": "code",
   "execution_count": 193,
   "metadata": {
    "execution": {
     "iopub.execute_input": "2024-09-28T11:32:19.644947Z",
     "iopub.status.busy": "2024-09-28T11:32:19.644566Z",
     "iopub.status.idle": "2024-09-28T11:32:19.666488Z",
     "shell.execute_reply": "2024-09-28T11:32:19.665252Z",
     "shell.execute_reply.started": "2024-09-28T11:32:19.644893Z"
    }
   },
   "outputs": [
    {
     "data": {
      "text/plain": [
       "array(['Gasoline', 'E85 Flex Fuel', 'Hybrid', 'Diesel', 'Plug-In Hybrid',\n",
       "       '–', 'not supported'], dtype=object)"
      ]
     },
     "execution_count": 193,
     "metadata": {},
     "output_type": "execute_result"
    }
   ],
   "source": [
    "df['fuel_type'].unique()"
   ]
  },
  {
   "cell_type": "code",
   "execution_count": 194,
   "metadata": {
    "execution": {
     "iopub.execute_input": "2024-09-28T11:32:19.668381Z",
     "iopub.status.busy": "2024-09-28T11:32:19.667996Z",
     "iopub.status.idle": "2024-09-28T11:32:19.949905Z",
     "shell.execute_reply": "2024-09-28T11:32:19.948758Z",
     "shell.execute_reply.started": "2024-09-28T11:32:19.668337Z"
    }
   },
   "outputs": [
    {
     "data": {
      "text/plain": [
       "<Axes: xlabel='fuel_type'>"
      ]
     },
     "execution_count": 194,
     "metadata": {},
     "output_type": "execute_result"
    },
    {
     "data": {
      "image/png": "[encoded data removed]",
      "text/plain": [
       "<Figure size 640x480 with 1 Axes>"
      ]
     },
     "metadata": {},
     "output_type": "display_data"
    }
   ],
   "source": [
    "df['fuel_type'].value_counts().plot(kind='bar')"
   ]
  },
  {
   "cell_type": "code",
   "execution_count": 195,
   "metadata": {
    "execution": {
     "iopub.execute_input": "2024-09-28T11:32:19.952007Z",
     "iopub.status.busy": "2024-09-28T11:32:19.951528Z",
     "iopub.status.idle": "2024-09-28T11:32:19.957210Z",
     "shell.execute_reply": "2024-09-28T11:32:19.955969Z",
     "shell.execute_reply.started": "2024-09-28T11:32:19.951954Z"
    }
   },
   "outputs": [],
   "source": [
    "# Bar chart shows that we can IMPUTE Gasoline as Fuel type in missing values"
   ]
  },
  {
   "cell_type": "code",
   "execution_count": 196,
   "metadata": {
    "execution": {
     "iopub.execute_input": "2024-09-28T11:32:19.958816Z",
     "iopub.status.busy": "2024-09-28T11:32:19.958479Z",
     "iopub.status.idle": "2024-09-28T11:32:19.973221Z",
     "shell.execute_reply": "2024-09-28T11:32:19.972039Z",
     "shell.execute_reply.started": "2024-09-28T11:32:19.958778Z"
    }
   },
   "outputs": [
    {
     "data": {
      "text/plain": [
       "brand            object\n",
       "model            object\n",
       "model_year        int64\n",
       "milage            int64\n",
       "fuel_type        object\n",
       "engine           object\n",
       "transmission     object\n",
       "ext_col          object\n",
       "int_col          object\n",
       "accident        float64\n",
       "clean_title      object\n",
       "price             int64\n",
       "dtype: object"
      ]
     },
     "execution_count": 196,
     "metadata": {},
     "output_type": "execute_result"
    }
   ],
   "source": [
    "df.dtypes"
   ]
  },
  {
   "cell_type": "code",
   "execution_count": 197,
   "metadata": {
    "execution": {
     "iopub.execute_input": "2024-09-28T11:32:19.975669Z",
     "iopub.status.busy": "2024-09-28T11:32:19.975244Z",
     "iopub.status.idle": "2024-09-28T11:32:20.002264Z",
     "shell.execute_reply": "2024-09-28T11:32:20.000884Z",
     "shell.execute_reply.started": "2024-09-28T11:32:19.975630Z"
    }
   },
   "outputs": [
    {
     "data": {
      "text/plain": [
       "array(['A/T', 'Transmission w/Dual Shift Mode', '7-Speed A/T',\n",
       "       '8-Speed A/T', '10-Speed Automatic', '1-Speed A/T', '6-Speed A/T',\n",
       "       '10-Speed A/T', '9-Speed A/T', '8-Speed Automatic',\n",
       "       '9-Speed Automatic', '5-Speed A/T', 'Automatic',\n",
       "       '7-Speed Automatic with Auto-Shift', 'CVT Transmission',\n",
       "       '5-Speed M/T', 'M/T', '6-Speed M/T', '6-Speed Automatic',\n",
       "       '4-Speed Automatic', '7-Speed M/T', '2-Speed A/T',\n",
       "       '1-Speed Automatic', 'Automatic CVT', '4-Speed A/T',\n",
       "       '6-Speed Manual', 'Transmission Overdrive Switch',\n",
       "       '8-Speed Automatic with Auto-Shift', '7-Speed Manual',\n",
       "       '7-Speed Automatic', '9-Speed Automatic with Auto-Shift',\n",
       "       '6-Speed Automatic with Auto-Shift',\n",
       "       '6-Speed Electronically Controlled Automatic with O', 'F', 'CVT-F',\n",
       "       '8-Speed Manual', 'Manual', '–', '2', '6 Speed At/Mt',\n",
       "       '5-Speed Automatic', '2-Speed Automatic', '8-SPEED A/T', '7-Speed',\n",
       "       'Variable', 'Single-Speed Fixed Gear', '8-SPEED AT',\n",
       "       '10-Speed Automatic with Overdrive', '7-Speed DCT Automatic',\n",
       "       'SCHEDULED FOR OR IN PRODUCTION', '6-Speed', '6 Speed Mt'],\n",
       "      dtype=object)"
      ]
     },
     "execution_count": 197,
     "metadata": {},
     "output_type": "execute_result"
    }
   ],
   "source": [
    "df['transmission'].unique()"
   ]
  },
  {
   "cell_type": "code",
   "execution_count": 198,
   "metadata": {
    "execution": {
     "iopub.execute_input": "2024-09-28T11:32:20.004038Z",
     "iopub.status.busy": "2024-09-28T11:32:20.003599Z",
     "iopub.status.idle": "2024-09-28T11:32:20.029523Z",
     "shell.execute_reply": "2024-09-28T11:32:20.028196Z",
     "shell.execute_reply.started": "2024-09-28T11:32:20.003996Z"
    }
   },
   "outputs": [
    {
     "data": {
      "text/plain": [
       "transmission\n",
       "A/T                                                   49520\n",
       "8-Speed A/T                                           20328\n",
       "Transmission w/Dual Shift Mode                        19063\n",
       "6-Speed A/T                                           17898\n",
       "6-Speed M/T                                           11852\n",
       "7-Speed A/T                                           10981\n",
       "Automatic                                             10475\n",
       "8-Speed Automatic                                      8190\n",
       "10-Speed A/T                                           7942\n",
       "9-Speed A/T                                            3820\n",
       "5-Speed A/T                                            3182\n",
       "10-Speed Automatic                                     3038\n",
       "6-Speed Automatic                                      2706\n",
       "4-Speed A/T                                            2527\n",
       "5-Speed M/T                                            2383\n",
       "9-Speed Automatic                                      2278\n",
       "CVT Transmission                                       1970\n",
       "1-Speed A/T                                            1839\n",
       "7-Speed Automatic with Auto-Shift                      1157\n",
       "M/T                                                    1150\n",
       "Automatic CVT                                           818\n",
       "8-Speed Automatic with Auto-Shift                       539\n",
       "1-Speed Automatic                                       358\n",
       "7-Speed M/T                                             342\n",
       "6-Speed Manual                                          196\n",
       "7-Speed Automatic                                       174\n",
       "5-Speed Automatic                                       158\n",
       "Transmission Overdrive Switch                           156\n",
       "7-Speed Manual                                          146\n",
       "6-Speed Automatic with Auto-Shift                       109\n",
       "2                                                        89\n",
       "–                                                        84\n",
       "2-Speed A/T                                              71\n",
       "Variable                                                 66\n",
       "F                                                        64\n",
       "4-Speed Automatic                                        46\n",
       "10-Speed Automatic with Overdrive                        40\n",
       "6 Speed Mt                                               36\n",
       "9-Speed Automatic with Auto-Shift                        32\n",
       "6-Speed Electronically Controlled Automatic with O       31\n",
       "7-Speed                                                  29\n",
       "8-Speed Manual                                           28\n",
       "Manual                                                   27\n",
       "6-Speed                                                  26\n",
       "2-Speed Automatic                                        22\n",
       "6 Speed At/Mt                                            20\n",
       "7-Speed DCT Automatic                                    18\n",
       "Single-Speed Fixed Gear                                  16\n",
       "CVT-F                                                    15\n",
       "8-SPEED AT                                               13\n",
       "8-SPEED A/T                                               7\n",
       "SCHEDULED FOR OR IN PRODUCTION                            6\n",
       "Name: count, dtype: int64"
      ]
     },
     "execution_count": 198,
     "metadata": {},
     "output_type": "execute_result"
    }
   ],
   "source": [
    "df['transmission'].value_counts()"
   ]
  },
  {
   "cell_type": "code",
   "execution_count": 199,
   "metadata": {
    "execution": {
     "iopub.execute_input": "2024-09-28T11:32:20.031163Z",
     "iopub.status.busy": "2024-09-28T11:32:20.030802Z",
     "iopub.status.idle": "2024-09-28T11:32:20.713534Z",
     "shell.execute_reply": "2024-09-28T11:32:20.712390Z",
     "shell.execute_reply.started": "2024-09-28T11:32:20.031125Z"
    }
   },
   "outputs": [
    {
     "data": {
      "text/plain": [
       "<Axes: xlabel='transmission'>"
      ]
     },
     "execution_count": 199,
     "metadata": {},
     "output_type": "execute_result"
    },
    {
     "data": {
      "image/png": "[encoded data removed]",
      "text/plain": [
       "<Figure size 640x480 with 1 Axes>"
      ]
     },
     "metadata": {},
     "output_type": "display_data"
    }
   ],
   "source": [
    "df['transmission'].value_counts().plot(kind='bar')"
   ]
  },
  {
   "cell_type": "code",
   "execution_count": 200,
   "metadata": {
    "execution": {
     "iopub.execute_input": "2024-09-28T11:32:20.715435Z",
     "iopub.status.busy": "2024-09-28T11:32:20.714961Z",
     "iopub.status.idle": "2024-09-28T11:32:20.723249Z",
     "shell.execute_reply": "2024-09-28T11:32:20.722141Z",
     "shell.execute_reply.started": "2024-09-28T11:32:20.715362Z"
    }
   },
   "outputs": [
    {
     "data": {
      "text/plain": [
       "Index(['brand', 'model', 'model_year', 'milage', 'fuel_type', 'engine',\n",
       "       'transmission', 'ext_col', 'int_col', 'accident', 'clean_title',\n",
       "       'price'],\n",
       "      dtype='object')"
      ]
     },
     "execution_count": 200,
     "metadata": {},
     "output_type": "execute_result"
    }
   ],
   "source": [
    "df.columns"
   ]
  },
  {
   "cell_type": "code",
   "execution_count": 201,
   "metadata": {
    "execution": {
     "iopub.execute_input": "2024-09-28T11:32:20.725004Z",
     "iopub.status.busy": "2024-09-28T11:32:20.724654Z",
     "iopub.status.idle": "2024-09-28T11:32:20.748439Z",
     "shell.execute_reply": "2024-09-28T11:32:20.747319Z",
     "shell.execute_reply.started": "2024-09-28T11:32:20.724964Z"
    }
   },
   "outputs": [
    {
     "data": {
      "text/plain": [
       "array(['Yellow', 'Silver', 'Blue', 'Black', 'White',\n",
       "       'Snowflake White Pearl Metallic', 'Gray', 'Green',\n",
       "       'Santorini Black Metallic', 'Purple', 'Ebony Twilight Metallic',\n",
       "       'Red', 'Magnetite Black Metallic', 'Diamond Black', 'Vega Blue',\n",
       "       'Beige', 'Gold', 'Platinum White Pearl', 'Metallic',\n",
       "       'White Frost Tri-Coat', 'Phytonic Blue Metallic', 'Blu', 'Orange',\n",
       "       'Brown', 'Brilliant Silver Metallic', 'Black Raven',\n",
       "       'Black Clearcoat', 'Firenze Red', 'Agate Black Metallic',\n",
       "       'Glacial White Pearl', 'Majestic Plum Metallic',\n",
       "       'designo Diamond White Metallic', 'Oxford White',\n",
       "       'Black Sapphire Metallic', 'Mythos Black',\n",
       "       'Granite Crystal Clearcoat Metallic', 'White Diamond Tri-Coat',\n",
       "       'Magnetite Gray Metallic', 'Carpathian Grey Premium Metallic',\n",
       "       'designo Diamond White Bright',\n",
       "       'Phantom Black Pearl Effect / Black Roof', 'Nebula Gray Pearl',\n",
       "       'Deep Crystal Blue Mica', 'Flame Red Clearcoat',\n",
       "       'Lunar Blue Metallic', 'Bright White Clearcoat',\n",
       "       'Rapid Red Metallic Tinted Clearcoat', 'Caviar',\n",
       "       'Dark Ash Metallic', 'Velvet Red Pearlcoat', 'Super Black',\n",
       "       'Antimatter Blue Metallic', 'Dark Moon Blue Metallic',\n",
       "       'Firecracker Red Clearcoat', 'Summit White', 'Ebony Black', '–',\n",
       "       'Black Cherry', 'Delmonico Red Pearlcoat',\n",
       "       'Platinum Quartz Metallic', 'Ultra White', 'Python Green',\n",
       "       'Garnet Red Metallic', 'Snow White Pearl',\n",
       "       'Midnight Black Metallic', 'Diamond White',\n",
       "       'Mythos Black Metallic', 'Soul Red Crystal Metallic',\n",
       "       'Atomic Silver', 'Obsidian', 'Magnetic Metallic',\n",
       "       'Twilight Blue Metallic', 'Star White', 'Stormy Sea',\n",
       "       'Tango Red Metallic', 'Hyper Red', 'Portofino Gray',\n",
       "       'MANUFAKTUR Diamond White Bright', 'Snowflake White Pearl',\n",
       "       'Patriot Blue Pearlcoat', 'Tungsten Metallic',\n",
       "       'Chronos Gray Metallic', 'Silver Ice Metallic',\n",
       "       'Daytona Gray Pearl Effect', 'Ruby Red Metallic Tinted Clearcoat',\n",
       "       'Alpine White', 'Eminent White Pearl', 'Manhattan Noir Metallic',\n",
       "       'Quicksilver Metallic', 'Stellar Black Metallic',\n",
       "       'Sparkling Silver', 'Blueprint', 'Crystal Black Silica',\n",
       "       'Black Noir Pearl', 'Arancio Borealis', 'Typhoon Gray',\n",
       "       'Ibis White', 'Graphite Grey', 'Mineral White', 'Midnight Black',\n",
       "       'Northsky Blue Metallic', 'Brilliant Black', 'Jet Black Mica',\n",
       "       'Daytona Gray Pearl Effect w/ Black Roof', 'Redline Red',\n",
       "       'Glacier Silver Metallic', 'Magnetic Black', 'Chronos Gray',\n",
       "       'Red Quartz Tintcoat', 'Nero Noctis', 'Firenze Red Metallic',\n",
       "       'Iridescent Pearl Tricoat', 'Twilight Black',\n",
       "       'Radiant Red Metallic II', 'Blue Metallic', 'Glacier White',\n",
       "       'Daytona Gray', 'Rosso Mars Metallic', 'Wolf Gray',\n",
       "       'Santorin Black', 'Designo Magno Matte', 'Emerald Green Metallic',\n",
       "       'Ruby Flare Pearl', 'Lunar Silver Metallic',\n",
       "       'Quartzite Grey Metallic', 'Barcelona Red', 'Beluga Black',\n",
       "       'Matador Red Metallic', 'Billet Silver Metallic Clearcoat',\n",
       "       'Anodized Blue Metallic', 'Black Forest Green',\n",
       "       'Ice Silver Metallic', 'Sandstone Metallic',\n",
       "       'Magnetic Gray Clearcoat', 'Silver Zynith', 'Crystal Black Pearl',\n",
       "       'Pacific Blue Metallic', 'Stone Gray Metallic',\n",
       "       'Iconic Silver Metallic', 'Onyx', 'Aventurine Green Metallic',\n",
       "       'China Blue', 'Majestic Black Pearl', 'Midnight Silver Metallic',\n",
       "       'Sting Gray Clearcoat', 'Glacier Blue Metallic', 'BLACK', 'Chalk',\n",
       "       'Dark Matter Metallic', 'Infrared Tintcoat', 'Iridium Metallic',\n",
       "       'Fuji White', 'Alfa White', 'Kodiak Brown Metallic',\n",
       "       'Aurora Black', 'Onyx Black', 'Nightfall Gray Metallic',\n",
       "       'Obsidian Black Metallic', 'Phantom Black',\n",
       "       'Remington Red Metallic', 'designo Diamond White', 'Lizard Green',\n",
       "       'Rosso Corsa', 'Shadow Gray Metallic', 'Florett Silver',\n",
       "       'Quartz White', 'Alta White', 'DB Black Clearcoat', 'Yulong White',\n",
       "       'Eiger Grey', 'Custom Color', 'Electric Blue Metallic', 'Tempest',\n",
       "       'Eiger Grey Metallic', 'Lunar Rock', 'Mosaic Black Metallic',\n",
       "       'Gecko Pearlcoat', 'White Clearcoat',\n",
       "       'Granite Crystal Metallic Clearcoat', 'Rich Garnet Metallic',\n",
       "       'Graphite Grey Metallic', 'Bianco Icarus Metallic',\n",
       "       'Satin Steel Metallic', 'BLUE', 'Moonlight Cloud',\n",
       "       'Matador Red Mica', 'Emin White', 'Machine Gray Metallic',\n",
       "       'White Platinum Tri-Coat Metallic', 'Cobra Beige Metallic',\n",
       "       'Shoreline Blue Pearl', 'Vik Black', 'Shimmering Silver',\n",
       "       'Bianco Monocerus', 'Carbonized Gray Metallic',\n",
       "       'Carrara White Metallic', 'Dark Slate Metallic',\n",
       "       'Dark Graphite Metallic', 'Sonic Silver Metallic',\n",
       "       'White Knuckle Clearcoat', 'Titanium Silver',\n",
       "       'Anthracite Blue Metallic', 'Black Obsidian',\n",
       "       'Polymetal Gray Metallic', 'Orca Black Metallic', 'BLU ELEOS',\n",
       "       'Wind Chill Pearl', 'Blue Reflex Mica', 'Dark Moss',\n",
       "       'Selenite Grey Metallic', 'Kemora Gray Metallic', 'Nightfall Mica',\n",
       "       'Liquid Platinum', 'Mountain Air Metallic', 'Kinetic Blue',\n",
       "       'Santorini Black', 'Carbon Black Metallic',\n",
       "       'Gentian Blue Metallic', 'Red Multi', 'Super White', 'Pearl White',\n",
       "       'Typhoon Gray Metallic', 'Navarra Blue Metallic', 'Bianco Isis',\n",
       "       'Navarra Blue', 'Volcano Grey Metallic', 'Arctic Gray Metallic',\n",
       "       'Pure White', 'Baltic Gray', 'Glacier White Metallic',\n",
       "       'Frozen Dark Silver Metallic', 'Magnetic Gray Metallic',\n",
       "       'Gun Metallic', 'Siren Red Tintcoat', 'Deep Blue Metallic',\n",
       "       'Cirrus Silver Metallic', 'Deep Black Pearl Effect', 'Granite',\n",
       "       'Sunset Drift Chromaflair', 'Oryx White Prl', 'Dark Gray Metallic',\n",
       "       'Bayside Blue', 'Pink', 'Ice', 'Burnished Bronze Metallic',\n",
       "       'Verde', 'Arctic White', 'Portofino Blue Metallic',\n",
       "       'Dazzling White', 'Nero Daytona', 'Nautical Blue Pearl',\n",
       "       'Imperial Blue Metallic', 'Cajun Red Tintcoat',\n",
       "       'Vulcano Black Metallic', 'Silver Radiance',\n",
       "       'Hellayella Clearcoat', 'Cayenne Red Tintcoat', 'Jungle Green',\n",
       "       'C / C', 'Yulong', 'Pristine White', 'Silky Silver',\n",
       "       'Caspian Blue', 'Sangria Red', 'Donington Grey Metallic',\n",
       "       'Apex Blue', 'Rift Metallic', 'Fountain Blue', 'Balloon White',\n",
       "       'Matte White', 'Pacific Blue', 'Rosso', 'Ironman Silver',\n",
       "       'Octane Red Pearlcoat', 'Selenite Gray Metallic',\n",
       "       'Ingot Silver Metallic', 'Quartz Blue Pearl',\n",
       "       'Lunare White Metallic', 'Ember Pearlcoat',\n",
       "       'Brands Hatch Gray Metallic', 'Navarre Blue',\n",
       "       'Midnight Blue Metallic', 'Shadow Black', 'Go Mango!',\n",
       "       'Dark Sapphire', 'Maximum Steel Metallic', 'Silver Flare Metallic',\n",
       "       'Billet Clearcoat Metallic', 'Hampton Gray', 'Red Obsession',\n",
       "       'Silver Mist', 'Scarlet Ember', 'Crimson Red Tintcoat',\n",
       "       'Hydro Blue Pearlcoat', 'Tan', 'Isle of Man Green Metallic',\n",
       "       'Crystal Black', 'Glacier', 'Frozen White',\n",
       "       'Iridium Silver Metallic', 'Bronze Dune Metallic', 'Maroon',\n",
       "       'Platinum Gray Metallic', 'Passion Red', 'Silician Yellow',\n",
       "       'Volcanic Orange', 'Crystal White Pearl', 'Reflex Silver',\n",
       "       'Blue Caelum', 'Thunder Gray', 'Ultra Black', 'Indus Silver',\n",
       "       'Horizon Blue', 'Grigio Nimbus', 'Carpathian Grey',\n",
       "       'Ametrin Metallic', 'Jupiter Red', 'Mango Tango Pearlcoat',\n",
       "       'GT SILVER'], dtype=object)"
      ]
     },
     "execution_count": 201,
     "metadata": {},
     "output_type": "execute_result"
    }
   ],
   "source": [
    "df['ext_col'].unique()"
   ]
  },
  {
   "cell_type": "code",
   "execution_count": 202,
   "metadata": {
    "execution": {
     "iopub.execute_input": "2024-09-28T11:32:20.750465Z",
     "iopub.status.busy": "2024-09-28T11:32:20.750080Z",
     "iopub.status.idle": "2024-09-28T11:32:20.773882Z",
     "shell.execute_reply": "2024-09-28T11:32:20.772692Z",
     "shell.execute_reply.started": "2024-09-28T11:32:20.750417Z"
    }
   },
   "outputs": [
    {
     "data": {
      "text/plain": [
       "ext_col\n",
       "Black                    48119\n",
       "White                    43411\n",
       "Gray                     25006\n",
       "Silver                   16766\n",
       "Blue                     14398\n",
       "                         ...  \n",
       "Frozen White                 5\n",
       "Dark Gray Metallic           5\n",
       "GT SILVER                    5\n",
       "BLUE                         3\n",
       "Mango Tango Pearlcoat        1\n",
       "Name: count, Length: 319, dtype: int64"
      ]
     },
     "execution_count": 202,
     "metadata": {},
     "output_type": "execute_result"
    }
   ],
   "source": [
    "df['ext_col'].value_counts()"
   ]
  },
  {
   "cell_type": "code",
   "execution_count": 203,
   "metadata": {
    "execution": {
     "iopub.execute_input": "2024-09-28T11:32:20.775541Z",
     "iopub.status.busy": "2024-09-28T11:32:20.775174Z",
     "iopub.status.idle": "2024-09-28T11:32:20.798918Z",
     "shell.execute_reply": "2024-09-28T11:32:20.797713Z",
     "shell.execute_reply.started": "2024-09-28T11:32:20.775505Z"
    }
   },
   "outputs": [
    {
     "data": {
      "text/plain": [
       "array(['Gray', 'Beige', 'Black', '–', 'Blue', 'White', 'Red', 'Brown',\n",
       "       'Dark Galvanized', 'Parchment.', 'Boulder', 'Orange',\n",
       "       'Medium Earth Gray', 'Ebony', 'Canberra Beige', 'Jet Black',\n",
       "       'Silver', 'Light Platinum / Jet Black', 'Macchiato/Magmagrey',\n",
       "       'Gold', 'Cloud', 'Rioja Red', 'Global Black', 'Green',\n",
       "       'Medium Stone', 'Navy Pier', 'Dark Ash', 'BLACK', 'Portland',\n",
       "       'Sandstone', 'Canberra Beige/Black', 'Diesel Gray / Black',\n",
       "       'Sarder Brown', 'Black Onyx', 'White / Brown', 'Black/Gun Metal',\n",
       "       'Slate', 'Satin Black', 'Macchiato Beige/Black', 'Charcoal',\n",
       "       'Black / Express Red', 'Cappuccino', 'Aragon Brown', 'Parchment',\n",
       "       'Oyster W/Contrast', 'Adrenaline Red', 'Ebony.', 'Shara Beige',\n",
       "       'Graystone', 'Pearl Beige', 'Nero Ade', 'Graphite',\n",
       "       'Tan/Ebony/Ebony', 'Charcoal Black', 'Medium Ash Gray',\n",
       "       'Ebony Black', 'Light Titanium', 'Sakhir Orange', 'Tan',\n",
       "       'Rock Gray', 'Brandy', 'Carbon Black', 'Amber',\n",
       "       'Black w/Red Stitching', 'Hotspur', 'Chateau', 'Ice',\n",
       "       'Deep Garnet', 'Blk', 'Grace White', 'Oyster/Black', 'Mesa',\n",
       "       'Espresso', 'Black/Graphite', 'Ebony / Ebony Accents', 'Tan/Ebony',\n",
       "       'Ceramic', 'Medium Dark Slate', 'Graphite w/Gun Metal',\n",
       "       'Obsidian Black', 'Cocoa / Dune', 'Roast', 'Yellow',\n",
       "       'Hotspur Hide', 'Gray w/Blue Bolsters', 'Chestnut', 'Saiga Beige',\n",
       "       'ORANGE', 'Charles Blue', 'Walnut', 'Ivory / Ebony', 'Caramel',\n",
       "       'Pimento Red w/Ebony', 'Saddle Brown', 'Dark Gray',\n",
       "       'Silk Beige/Espresso Brown', 'Black / Brown',\n",
       "       'Ebony/Light Oyster Stitch', 'Ebony / Pimento',\n",
       "       'Mistral Gray / Raven', 'Giallo Taurus / Nero Ade', 'Tension',\n",
       "       'Medium Pewter', 'Black / Saddle', 'Camel Leather',\n",
       "       'Black/Saddle Brown', 'Macchiato', 'Anthracite', 'Mocha',\n",
       "       'Whisper Beige', 'Titan Black / Quarzit', 'Sahara Tan', 'Porpoise',\n",
       "       'Black/Red', 'Titan Black', 'AMG Black', 'Deep Cypress',\n",
       "       'Light Slate', 'Red / Black', 'Beluga Hide', 'Tupelo', 'Gideon',\n",
       "       'Rhapsody Blue', 'Medium Light Camel', 'Almond Beige',\n",
       "       'Black / Gray', 'Nero', 'Agave Green', 'Deep Chestnut',\n",
       "       'Dark Auburn', 'Shale', 'Silk Beige/Black', 'BEIGE', 'Magma Red',\n",
       "       'Linen', 'Black / Stone Grey', 'Sand Beige', 'Red/Black',\n",
       "       'Bianco Polar', 'Light Gray', 'Platinum', 'Sport', 'Ash',\n",
       "       'Black / Graphite', 'Nougat Brown', 'Camel', 'Mountain Brown',\n",
       "       'Pimento / Ebony', 'Classic Red', 'Sakhir Orange/Black',\n",
       "       'Cobalt Blue', 'Very Light Cashmere', 'Kyalami Orange', 'Orchid',\n",
       "       'Beluga', 'WHITE'], dtype=object)"
      ]
     },
     "execution_count": 203,
     "metadata": {},
     "output_type": "execute_result"
    }
   ],
   "source": [
    "df['int_col'].unique()"
   ]
  },
  {
   "cell_type": "code",
   "execution_count": 204,
   "metadata": {
    "execution": {
     "iopub.execute_input": "2024-09-28T11:32:20.800582Z",
     "iopub.status.busy": "2024-09-28T11:32:20.800208Z",
     "iopub.status.idle": "2024-09-28T11:32:20.809517Z",
     "shell.execute_reply": "2024-09-28T11:32:20.808472Z",
     "shell.execute_reply.started": "2024-09-28T11:32:20.800539Z"
    }
   },
   "outputs": [
    {
     "data": {
      "text/plain": [
       "array([0., 1.])"
      ]
     },
     "execution_count": 204,
     "metadata": {},
     "output_type": "execute_result"
    }
   ],
   "source": [
    "df['accident'].unique()"
   ]
  },
  {
   "cell_type": "code",
   "execution_count": 205,
   "metadata": {
    "execution": {
     "iopub.execute_input": "2024-09-28T11:32:20.811122Z",
     "iopub.status.busy": "2024-09-28T11:32:20.810760Z",
     "iopub.status.idle": "2024-09-28T11:32:20.824117Z",
     "shell.execute_reply": "2024-09-28T11:32:20.823149Z",
     "shell.execute_reply.started": "2024-09-28T11:32:20.811085Z"
    }
   },
   "outputs": [
    {
     "data": {
      "text/plain": [
       "accident\n",
       "0.0    144514\n",
       "1.0     41567\n",
       "Name: count, dtype: int64"
      ]
     },
     "execution_count": 205,
     "metadata": {},
     "output_type": "execute_result"
    }
   ],
   "source": [
    "df['accident'].value_counts()"
   ]
  },
  {
   "cell_type": "code",
   "execution_count": 206,
   "metadata": {
    "execution": {
     "iopub.execute_input": "2024-09-28T11:32:20.826659Z",
     "iopub.status.busy": "2024-09-28T11:32:20.825831Z",
     "iopub.status.idle": "2024-09-28T11:32:20.849493Z",
     "shell.execute_reply": "2024-09-28T11:32:20.848282Z",
     "shell.execute_reply.started": "2024-09-28T11:32:20.826610Z"
    }
   },
   "outputs": [
    {
     "data": {
      "text/html": [
       "<div>\n",
       "<style scoped>\n",
       "    .dataframe tbody tr th:only-of-type {\n",
       "        vertical-align: middle;\n",
       "    }\n",
       "\n",
       "    .dataframe tbody tr th {\n",
       "        vertical-align: top;\n",
       "    }\n",
       "\n",
       "    .dataframe thead th {\n",
       "        text-align: right;\n",
       "    }\n",
       "</style>\n",
       "<table border=\"1\" class=\"dataframe\">\n",
       "  <thead>\n",
       "    <tr style=\"text-align: right;\">\n",
       "      <th></th>\n",
       "      <th>brand</th>\n",
       "      <th>model</th>\n",
       "      <th>model_year</th>\n",
       "      <th>milage</th>\n",
       "      <th>fuel_type</th>\n",
       "      <th>engine</th>\n",
       "      <th>transmission</th>\n",
       "      <th>ext_col</th>\n",
       "      <th>int_col</th>\n",
       "      <th>accident</th>\n",
       "      <th>clean_title</th>\n",
       "      <th>price</th>\n",
       "    </tr>\n",
       "  </thead>\n",
       "  <tbody>\n",
       "    <tr>\n",
       "      <th>179580</th>\n",
       "      <td>Jeep</td>\n",
       "      <td>Liberty Limited</td>\n",
       "      <td>2008</td>\n",
       "      <td>107000</td>\n",
       "      <td>Gasoline</td>\n",
       "      <td>210.0HP 3.7L V6 Cylinder Engine Gasoline Fuel</td>\n",
       "      <td>A/T</td>\n",
       "      <td>Black</td>\n",
       "      <td>Gray</td>\n",
       "      <td>0.0</td>\n",
       "      <td>Yes</td>\n",
       "      <td>10500</td>\n",
       "    </tr>\n",
       "  </tbody>\n",
       "</table>\n",
       "</div>"
      ],
      "text/plain": [
       "       brand            model  model_year  milage fuel_type  \\\n",
       "179580  Jeep  Liberty Limited        2008  107000  Gasoline   \n",
       "\n",
       "                                               engine transmission ext_col  \\\n",
       "179580  210.0HP 3.7L V6 Cylinder Engine Gasoline Fuel          A/T   Black   \n",
       "\n",
       "       int_col  accident clean_title  price  \n",
       "179580    Gray       0.0         Yes  10500  "
      ]
     },
     "execution_count": 206,
     "metadata": {},
     "output_type": "execute_result"
    }
   ],
   "source": [
    "df.sample()"
   ]
  },
  {
   "cell_type": "code",
   "execution_count": 207,
   "metadata": {
    "execution": {
     "iopub.execute_input": "2024-09-28T11:32:20.851384Z",
     "iopub.status.busy": "2024-09-28T11:32:20.851010Z",
     "iopub.status.idle": "2024-09-28T11:32:21.006130Z",
     "shell.execute_reply": "2024-09-28T11:32:21.005001Z",
     "shell.execute_reply.started": "2024-09-28T11:32:20.851348Z"
    }
   },
   "outputs": [
    {
     "data": {
      "text/plain": [
       "[]"
      ]
     },
     "execution_count": 207,
     "metadata": {},
     "output_type": "execute_result"
    }
   ],
   "source": [
    "cols = [var for var in df.columns if df[var].isnull().mean() < 0.05 and df[var].isnull().mean() > 0]\n",
    "cols"
   ]
  },
  {
   "cell_type": "code",
   "execution_count": 208,
   "metadata": {
    "execution": {
     "iopub.execute_input": "2024-09-28T11:32:21.007756Z",
     "iopub.status.busy": "2024-09-28T11:32:21.007381Z",
     "iopub.status.idle": "2024-09-28T11:32:21.029571Z",
     "shell.execute_reply": "2024-09-28T11:32:21.028370Z",
     "shell.execute_reply.started": "2024-09-28T11:32:21.007718Z"
    }
   },
   "outputs": [
    {
     "data": {
      "text/plain": [
       "clean_title\n",
       "Yes        167100\n",
       "missing     18981\n",
       "Name: count, dtype: int64"
      ]
     },
     "execution_count": 208,
     "metadata": {},
     "output_type": "execute_result"
    }
   ],
   "source": [
    "df['clean_title'].value_counts()"
   ]
  },
  {
   "cell_type": "code",
   "execution_count": 209,
   "metadata": {
    "execution": {
     "iopub.execute_input": "2024-09-28T11:32:21.032321Z",
     "iopub.status.busy": "2024-09-28T11:32:21.031822Z",
     "iopub.status.idle": "2024-09-28T11:32:21.055637Z",
     "shell.execute_reply": "2024-09-28T11:32:21.054372Z",
     "shell.execute_reply.started": "2024-09-28T11:32:21.032271Z"
    }
   },
   "outputs": [
    {
     "data": {
      "text/plain": [
       "2"
      ]
     },
     "execution_count": 209,
     "metadata": {},
     "output_type": "execute_result"
    }
   ],
   "source": [
    "len(df['clean_title'].value_counts())"
   ]
  },
  {
   "cell_type": "code",
   "execution_count": 210,
   "metadata": {
    "execution": {
     "iopub.execute_input": "2024-09-28T11:32:21.057394Z",
     "iopub.status.busy": "2024-09-28T11:32:21.057053Z",
     "iopub.status.idle": "2024-09-28T11:32:21.079523Z",
     "shell.execute_reply": "2024-09-28T11:32:21.077955Z",
     "shell.execute_reply.started": "2024-09-28T11:32:21.057357Z"
    }
   },
   "outputs": [
    {
     "data": {
      "text/plain": [
       "1.0"
      ]
     },
     "execution_count": 210,
     "metadata": {},
     "output_type": "execute_result"
    }
   ],
   "source": [
    "len(df['clean_title'].dropna())/ len(df)"
   ]
  },
  {
   "cell_type": "markdown",
   "metadata": {},
   "source": [
    "# MODEL YEAR-->AGE"
   ]
  },
  {
   "cell_type": "markdown",
   "metadata": {},
   "source": [
    "## DATA TRANSFORMATIONS"
   ]
  },
  {
   "cell_type": "markdown",
   "metadata": {},
   "source": [
    "### \"model_year\" shows the car model year. We can replace this column with the cars age attribute.To calculate the age, we consider the origin time to be 1 year older than the maximum model year:"
   ]
  },
  {
   "cell_type": "code",
   "execution_count": 211,
   "metadata": {
    "execution": {
     "iopub.execute_input": "2024-09-28T11:32:21.081483Z",
     "iopub.status.busy": "2024-09-28T11:32:21.081105Z",
     "iopub.status.idle": "2024-09-28T11:32:21.089717Z",
     "shell.execute_reply": "2024-09-28T11:32:21.088218Z",
     "shell.execute_reply.started": "2024-09-28T11:32:21.081441Z"
    }
   },
   "outputs": [
    {
     "data": {
      "text/plain": [
       "Index(['brand', 'model', 'model_year', 'milage', 'fuel_type', 'engine',\n",
       "       'transmission', 'ext_col', 'int_col', 'accident', 'clean_title'],\n",
       "      dtype='object')"
      ]
     },
     "execution_count": 211,
     "metadata": {},
     "output_type": "execute_result"
    }
   ],
   "source": [
    "dt.columns"
   ]
  },
  {
   "cell_type": "code",
   "execution_count": 212,
   "metadata": {
    "execution": {
     "iopub.execute_input": "2024-09-28T11:32:21.092330Z",
     "iopub.status.busy": "2024-09-28T11:32:21.091150Z",
     "iopub.status.idle": "2024-09-28T11:32:21.129683Z",
     "shell.execute_reply": "2024-09-28T11:32:21.128581Z",
     "shell.execute_reply.started": "2024-09-28T11:32:21.092287Z"
    }
   },
   "outputs": [
    {
     "data": {
      "text/html": [
       "<div>\n",
       "<style scoped>\n",
       "    .dataframe tbody tr th:only-of-type {\n",
       "        vertical-align: middle;\n",
       "    }\n",
       "\n",
       "    .dataframe tbody tr th {\n",
       "        vertical-align: top;\n",
       "    }\n",
       "\n",
       "    .dataframe thead th {\n",
       "        text-align: right;\n",
       "    }\n",
       "</style>\n",
       "<table border=\"1\" class=\"dataframe\">\n",
       "  <thead>\n",
       "    <tr style=\"text-align: right;\">\n",
       "      <th></th>\n",
       "      <th>Age</th>\n",
       "      <th>brand</th>\n",
       "      <th>model</th>\n",
       "      <th>milage</th>\n",
       "      <th>fuel_type</th>\n",
       "      <th>engine</th>\n",
       "      <th>transmission</th>\n",
       "      <th>ext_col</th>\n",
       "      <th>int_col</th>\n",
       "      <th>accident</th>\n",
       "      <th>clean_title</th>\n",
       "    </tr>\n",
       "  </thead>\n",
       "  <tbody>\n",
       "    <tr>\n",
       "      <th>0</th>\n",
       "      <td>10</td>\n",
       "      <td>Land</td>\n",
       "      <td>Rover LR2 Base</td>\n",
       "      <td>98000</td>\n",
       "      <td>Gasoline</td>\n",
       "      <td>240.0HP 2.0L 4 Cylinder Engine Gasoline Fuel</td>\n",
       "      <td>6-Speed A/T</td>\n",
       "      <td>White</td>\n",
       "      <td>Beige</td>\n",
       "      <td>0.0</td>\n",
       "      <td>Yes</td>\n",
       "    </tr>\n",
       "    <tr>\n",
       "      <th>1</th>\n",
       "      <td>5</td>\n",
       "      <td>Land</td>\n",
       "      <td>Rover Defender SE</td>\n",
       "      <td>9142</td>\n",
       "      <td>Hybrid</td>\n",
       "      <td>395.0HP 3.0L Straight 6 Cylinder Engine Gasoli...</td>\n",
       "      <td>8-Speed A/T</td>\n",
       "      <td>Silver</td>\n",
       "      <td>Black</td>\n",
       "      <td>0.0</td>\n",
       "      <td>Yes</td>\n",
       "    </tr>\n",
       "    <tr>\n",
       "      <th>2</th>\n",
       "      <td>3</td>\n",
       "      <td>Ford</td>\n",
       "      <td>Expedition Limited</td>\n",
       "      <td>28121</td>\n",
       "      <td>Gasoline</td>\n",
       "      <td>3.5L V6 24V PDI DOHC Twin Turbo</td>\n",
       "      <td>10-Speed Automatic</td>\n",
       "      <td>White</td>\n",
       "      <td>Ebony</td>\n",
       "      <td>0.0</td>\n",
       "      <td>missing</td>\n",
       "    </tr>\n",
       "    <tr>\n",
       "      <th>3</th>\n",
       "      <td>9</td>\n",
       "      <td>Audi</td>\n",
       "      <td>A6 2.0T Sport</td>\n",
       "      <td>61258</td>\n",
       "      <td>Gasoline</td>\n",
       "      <td>2.0 Liter TFSI</td>\n",
       "      <td>Automatic</td>\n",
       "      <td>Silician Yellow</td>\n",
       "      <td>Black</td>\n",
       "      <td>0.0</td>\n",
       "      <td>missing</td>\n",
       "    </tr>\n",
       "    <tr>\n",
       "      <th>4</th>\n",
       "      <td>7</td>\n",
       "      <td>Audi</td>\n",
       "      <td>A6 2.0T Premium Plus</td>\n",
       "      <td>59000</td>\n",
       "      <td>Gasoline</td>\n",
       "      <td>252.0HP 2.0L 4 Cylinder Engine Gasoline Fuel</td>\n",
       "      <td>A/T</td>\n",
       "      <td>Gray</td>\n",
       "      <td>Black</td>\n",
       "      <td>0.0</td>\n",
       "      <td>Yes</td>\n",
       "    </tr>\n",
       "  </tbody>\n",
       "</table>\n",
       "</div>"
      ],
      "text/plain": [
       "   Age brand                 model  milage fuel_type  \\\n",
       "0   10  Land        Rover LR2 Base   98000  Gasoline   \n",
       "1    5  Land     Rover Defender SE    9142    Hybrid   \n",
       "2    3  Ford    Expedition Limited   28121  Gasoline   \n",
       "3    9  Audi         A6 2.0T Sport   61258  Gasoline   \n",
       "4    7  Audi  A6 2.0T Premium Plus   59000  Gasoline   \n",
       "\n",
       "                                              engine        transmission  \\\n",
       "0       240.0HP 2.0L 4 Cylinder Engine Gasoline Fuel         6-Speed A/T   \n",
       "1  395.0HP 3.0L Straight 6 Cylinder Engine Gasoli...         8-Speed A/T   \n",
       "2                    3.5L V6 24V PDI DOHC Twin Turbo  10-Speed Automatic   \n",
       "3                                     2.0 Liter TFSI           Automatic   \n",
       "4       252.0HP 2.0L 4 Cylinder Engine Gasoline Fuel                 A/T   \n",
       "\n",
       "           ext_col int_col  accident clean_title  \n",
       "0            White   Beige       0.0         Yes  \n",
       "1           Silver   Black       0.0         Yes  \n",
       "2            White   Ebony       0.0     missing  \n",
       "3  Silician Yellow   Black       0.0     missing  \n",
       "4             Gray   Black       0.0         Yes  "
      ]
     },
     "execution_count": 212,
     "metadata": {},
     "output_type": "execute_result"
    }
   ],
   "source": [
    "dt.insert(0, \"Age\", dt[\"model_year\"].max()+1-dt[\"model_year\"] )\n",
    "dt.drop('model_year', axis=1, inplace=True)\n",
    "dt.head()"
   ]
  },
  {
   "cell_type": "code",
   "execution_count": 213,
   "metadata": {
    "execution": {
     "iopub.execute_input": "2024-09-28T11:32:21.131363Z",
     "iopub.status.busy": "2024-09-28T11:32:21.131013Z",
     "iopub.status.idle": "2024-09-28T11:32:21.173263Z",
     "shell.execute_reply": "2024-09-28T11:32:21.172005Z",
     "shell.execute_reply.started": "2024-09-28T11:32:21.131327Z"
    }
   },
   "outputs": [
    {
     "data": {
      "text/html": [
       "<div>\n",
       "<style scoped>\n",
       "    .dataframe tbody tr th:only-of-type {\n",
       "        vertical-align: middle;\n",
       "    }\n",
       "\n",
       "    .dataframe tbody tr th {\n",
       "        vertical-align: top;\n",
       "    }\n",
       "\n",
       "    .dataframe thead th {\n",
       "        text-align: right;\n",
       "    }\n",
       "</style>\n",
       "<table border=\"1\" class=\"dataframe\">\n",
       "  <thead>\n",
       "    <tr style=\"text-align: right;\">\n",
       "      <th></th>\n",
       "      <th>Age</th>\n",
       "      <th>brand</th>\n",
       "      <th>model</th>\n",
       "      <th>milage</th>\n",
       "      <th>fuel_type</th>\n",
       "      <th>engine</th>\n",
       "      <th>transmission</th>\n",
       "      <th>ext_col</th>\n",
       "      <th>int_col</th>\n",
       "      <th>accident</th>\n",
       "      <th>clean_title</th>\n",
       "      <th>price</th>\n",
       "    </tr>\n",
       "  </thead>\n",
       "  <tbody>\n",
       "    <tr>\n",
       "      <th>0</th>\n",
       "      <td>18</td>\n",
       "      <td>MINI</td>\n",
       "      <td>Cooper S Base</td>\n",
       "      <td>213000</td>\n",
       "      <td>Gasoline</td>\n",
       "      <td>172.0HP 1.6L 4 Cylinder Engine Gasoline Fuel</td>\n",
       "      <td>A/T</td>\n",
       "      <td>Yellow</td>\n",
       "      <td>Gray</td>\n",
       "      <td>0.0</td>\n",
       "      <td>Yes</td>\n",
       "      <td>4200</td>\n",
       "    </tr>\n",
       "    <tr>\n",
       "      <th>1</th>\n",
       "      <td>23</td>\n",
       "      <td>Lincoln</td>\n",
       "      <td>LS V8</td>\n",
       "      <td>143250</td>\n",
       "      <td>Gasoline</td>\n",
       "      <td>252.0HP 3.9L 8 Cylinder Engine Gasoline Fuel</td>\n",
       "      <td>A/T</td>\n",
       "      <td>Silver</td>\n",
       "      <td>Beige</td>\n",
       "      <td>1.0</td>\n",
       "      <td>Yes</td>\n",
       "      <td>4999</td>\n",
       "    </tr>\n",
       "    <tr>\n",
       "      <th>2</th>\n",
       "      <td>23</td>\n",
       "      <td>Chevrolet</td>\n",
       "      <td>Silverado 2500 LT</td>\n",
       "      <td>136731</td>\n",
       "      <td>E85 Flex Fuel</td>\n",
       "      <td>320.0HP 5.3L 8 Cylinder Engine Flex Fuel Capab...</td>\n",
       "      <td>A/T</td>\n",
       "      <td>Blue</td>\n",
       "      <td>Gray</td>\n",
       "      <td>0.0</td>\n",
       "      <td>Yes</td>\n",
       "      <td>13900</td>\n",
       "    </tr>\n",
       "    <tr>\n",
       "      <th>3</th>\n",
       "      <td>8</td>\n",
       "      <td>Genesis</td>\n",
       "      <td>G90 5.0 Ultimate</td>\n",
       "      <td>19500</td>\n",
       "      <td>Gasoline</td>\n",
       "      <td>420.0HP 5.0L 8 Cylinder Engine Gasoline Fuel</td>\n",
       "      <td>Transmission w/Dual Shift Mode</td>\n",
       "      <td>Black</td>\n",
       "      <td>Black</td>\n",
       "      <td>0.0</td>\n",
       "      <td>Yes</td>\n",
       "      <td>45000</td>\n",
       "    </tr>\n",
       "    <tr>\n",
       "      <th>4</th>\n",
       "      <td>4</td>\n",
       "      <td>Mercedes-Benz</td>\n",
       "      <td>Metris Base</td>\n",
       "      <td>7388</td>\n",
       "      <td>Gasoline</td>\n",
       "      <td>208.0HP 2.0L 4 Cylinder Engine Gasoline Fuel</td>\n",
       "      <td>7-Speed A/T</td>\n",
       "      <td>Black</td>\n",
       "      <td>Beige</td>\n",
       "      <td>0.0</td>\n",
       "      <td>Yes</td>\n",
       "      <td>97500</td>\n",
       "    </tr>\n",
       "  </tbody>\n",
       "</table>\n",
       "</div>"
      ],
      "text/plain": [
       "   Age          brand              model  milage      fuel_type  \\\n",
       "0   18           MINI      Cooper S Base  213000       Gasoline   \n",
       "1   23        Lincoln              LS V8  143250       Gasoline   \n",
       "2   23      Chevrolet  Silverado 2500 LT  136731  E85 Flex Fuel   \n",
       "3    8        Genesis   G90 5.0 Ultimate   19500       Gasoline   \n",
       "4    4  Mercedes-Benz        Metris Base    7388       Gasoline   \n",
       "\n",
       "                                              engine  \\\n",
       "0       172.0HP 1.6L 4 Cylinder Engine Gasoline Fuel   \n",
       "1       252.0HP 3.9L 8 Cylinder Engine Gasoline Fuel   \n",
       "2  320.0HP 5.3L 8 Cylinder Engine Flex Fuel Capab...   \n",
       "3       420.0HP 5.0L 8 Cylinder Engine Gasoline Fuel   \n",
       "4       208.0HP 2.0L 4 Cylinder Engine Gasoline Fuel   \n",
       "\n",
       "                     transmission ext_col int_col  accident clean_title  price  \n",
       "0                             A/T  Yellow    Gray       0.0         Yes   4200  \n",
       "1                             A/T  Silver   Beige       1.0         Yes   4999  \n",
       "2                             A/T    Blue    Gray       0.0         Yes  13900  \n",
       "3  Transmission w/Dual Shift Mode   Black   Black       0.0         Yes  45000  \n",
       "4                     7-Speed A/T   Black   Beige       0.0         Yes  97500  "
      ]
     },
     "execution_count": 213,
     "metadata": {},
     "output_type": "execute_result"
    }
   ],
   "source": [
    "df.insert(0, \"Age\", df[\"model_year\"].max()+1-df[\"model_year\"] )\n",
    "df.drop('model_year', axis=1, inplace=True)\n",
    "df.head()"
   ]
  },
  {
   "cell_type": "code",
   "execution_count": 214,
   "metadata": {
    "execution": {
     "iopub.execute_input": "2024-09-28T11:32:21.175012Z",
     "iopub.status.busy": "2024-09-28T11:32:21.174668Z",
     "iopub.status.idle": "2024-09-28T11:32:21.181782Z",
     "shell.execute_reply": "2024-09-28T11:32:21.180784Z",
     "shell.execute_reply.started": "2024-09-28T11:32:21.174978Z"
    }
   },
   "outputs": [
    {
     "data": {
      "text/plain": [
       "Index(['Age', 'brand', 'model', 'milage', 'fuel_type', 'engine',\n",
       "       'transmission', 'ext_col', 'int_col', 'accident', 'clean_title'],\n",
       "      dtype='object')"
      ]
     },
     "execution_count": 214,
     "metadata": {},
     "output_type": "execute_result"
    }
   ],
   "source": [
    "dt.columns"
   ]
  },
  {
   "cell_type": "markdown",
   "metadata": {},
   "source": [
    "## Handaling Fuel Type"
   ]
  },
  {
   "cell_type": "code",
   "execution_count": 215,
   "metadata": {
    "execution": {
     "iopub.execute_input": "2024-09-28T11:32:21.183645Z",
     "iopub.status.busy": "2024-09-28T11:32:21.183274Z",
     "iopub.status.idle": "2024-09-28T11:32:21.411918Z",
     "shell.execute_reply": "2024-09-28T11:32:21.410802Z",
     "shell.execute_reply.started": "2024-09-28T11:32:21.183608Z"
    }
   },
   "outputs": [
    {
     "name": "stdout",
     "output_type": "stream",
     "text": [
      "['Gasoline' 'E85 Flex Fuel' 'Hybrid' 'Diesel' 'Plug-In Hybrid' nan]\n"
     ]
    }
   ],
   "source": [
    "# Function to extract fuel type\n",
    "def extract_fuel_type(engine_info):\n",
    "    if pd.isna(engine_info):\n",
    "        return np.nan\n",
    "    if 'Gasoline' in engine_info:\n",
    "        return 'Gasoline'\n",
    "    elif 'Hybrid' in engine_info:\n",
    "        return 'Hybrid'\n",
    "    elif 'Flex Fuel' in engine_info or 'E85' in engine_info:\n",
    "        return 'Flex Fuel'\n",
    "    elif 'Diesel' in engine_info:\n",
    "        return 'Diesel'\n",
    "    elif 'Electric' in engine_info:\n",
    "        return 'Electric'\n",
    "    else:\n",
    "        return np.nan\n",
    "\n",
    "# Process for the main DataFrame\n",
    "df['extracted_fuel_type'] = df['fuel_type'].apply(extract_fuel_type)  # Extract fuel types\n",
    "df['fuel_type'].fillna(df['extracted_fuel_type'], inplace=True)     # Fill missing fuel types\n",
    "df.drop(columns=['extracted_fuel_type'], inplace=True)              # Clean up temporary column\n",
    "\n",
    "# Replace unwanted values with NaN\n",
    "df['fuel_type'].replace(['not supported', '-','–'], np.nan, inplace=True)\n",
    "\n",
    "# Display unique values after replacement\n",
    "print(df['fuel_type'].unique())"
   ]
  },
  {
   "cell_type": "code",
   "execution_count": 216,
   "metadata": {
    "execution": {
     "iopub.execute_input": "2024-09-28T11:32:21.414132Z",
     "iopub.status.busy": "2024-09-28T11:32:21.413785Z",
     "iopub.status.idle": "2024-09-28T11:32:21.429125Z",
     "shell.execute_reply": "2024-09-28T11:32:21.428027Z",
     "shell.execute_reply.started": "2024-09-28T11:32:21.414096Z"
    }
   },
   "outputs": [
    {
     "data": {
      "text/plain": [
       "array(['Gasoline', 'E85 Flex Fuel', 'Hybrid', 'Diesel', 'Plug-In Hybrid',\n",
       "       nan], dtype=object)"
      ]
     },
     "execution_count": 216,
     "metadata": {},
     "output_type": "execute_result"
    }
   ],
   "source": [
    "df['fuel_type'].unique()"
   ]
  },
  {
   "cell_type": "markdown",
   "metadata": {},
   "source": [
    "# Numerical Columns Description"
   ]
  },
  {
   "cell_type": "code",
   "execution_count": 217,
   "metadata": {
    "execution": {
     "iopub.execute_input": "2024-09-28T11:32:21.431033Z",
     "iopub.status.busy": "2024-09-28T11:32:21.430549Z",
     "iopub.status.idle": "2024-09-28T11:32:21.479420Z",
     "shell.execute_reply": "2024-09-28T11:32:21.478369Z",
     "shell.execute_reply.started": "2024-09-28T11:32:21.430984Z"
    }
   },
   "outputs": [
    {
     "data": {
      "text/html": [
       "<div>\n",
       "<style scoped>\n",
       "    .dataframe tbody tr th:only-of-type {\n",
       "        vertical-align: middle;\n",
       "    }\n",
       "\n",
       "    .dataframe tbody tr th {\n",
       "        vertical-align: top;\n",
       "    }\n",
       "\n",
       "    .dataframe thead th {\n",
       "        text-align: right;\n",
       "    }\n",
       "</style>\n",
       "<table border=\"1\" class=\"dataframe\">\n",
       "  <thead>\n",
       "    <tr style=\"text-align: right;\">\n",
       "      <th></th>\n",
       "      <th>Age</th>\n",
       "      <th>milage</th>\n",
       "      <th>accident</th>\n",
       "      <th>price</th>\n",
       "    </tr>\n",
       "  </thead>\n",
       "  <tbody>\n",
       "    <tr>\n",
       "      <th>count</th>\n",
       "      <td>186081.000000</td>\n",
       "      <td>186081.000000</td>\n",
       "      <td>186081.000000</td>\n",
       "      <td>1.860810e+05</td>\n",
       "    </tr>\n",
       "    <tr>\n",
       "      <th>mean</th>\n",
       "      <td>9.189375</td>\n",
       "      <td>65908.688910</td>\n",
       "      <td>0.223381</td>\n",
       "      <td>4.373274e+04</td>\n",
       "    </tr>\n",
       "    <tr>\n",
       "      <th>std</th>\n",
       "      <td>5.659525</td>\n",
       "      <td>49829.705377</td>\n",
       "      <td>0.416513</td>\n",
       "      <td>7.846176e+04</td>\n",
       "    </tr>\n",
       "    <tr>\n",
       "      <th>min</th>\n",
       "      <td>1.000000</td>\n",
       "      <td>100.000000</td>\n",
       "      <td>0.000000</td>\n",
       "      <td>2.000000e+03</td>\n",
       "    </tr>\n",
       "    <tr>\n",
       "      <th>25%</th>\n",
       "      <td>5.000000</td>\n",
       "      <td>24300.000000</td>\n",
       "      <td>0.000000</td>\n",
       "      <td>1.700000e+04</td>\n",
       "    </tr>\n",
       "    <tr>\n",
       "      <th>50%</th>\n",
       "      <td>8.000000</td>\n",
       "      <td>57918.000000</td>\n",
       "      <td>0.000000</td>\n",
       "      <td>3.050000e+04</td>\n",
       "    </tr>\n",
       "    <tr>\n",
       "      <th>75%</th>\n",
       "      <td>12.000000</td>\n",
       "      <td>95500.000000</td>\n",
       "      <td>0.000000</td>\n",
       "      <td>4.970000e+04</td>\n",
       "    </tr>\n",
       "    <tr>\n",
       "      <th>max</th>\n",
       "      <td>51.000000</td>\n",
       "      <td>405000.000000</td>\n",
       "      <td>1.000000</td>\n",
       "      <td>2.954083e+06</td>\n",
       "    </tr>\n",
       "  </tbody>\n",
       "</table>\n",
       "</div>"
      ],
      "text/plain": [
       "                 Age         milage       accident         price\n",
       "count  186081.000000  186081.000000  186081.000000  1.860810e+05\n",
       "mean        9.189375   65908.688910       0.223381  4.373274e+04\n",
       "std         5.659525   49829.705377       0.416513  7.846176e+04\n",
       "min         1.000000     100.000000       0.000000  2.000000e+03\n",
       "25%         5.000000   24300.000000       0.000000  1.700000e+04\n",
       "50%         8.000000   57918.000000       0.000000  3.050000e+04\n",
       "75%        12.000000   95500.000000       0.000000  4.970000e+04\n",
       "max        51.000000  405000.000000       1.000000  2.954083e+06"
      ]
     },
     "execution_count": 217,
     "metadata": {},
     "output_type": "execute_result"
    }
   ],
   "source": [
    "df.describe(include='number')"
   ]
  },
  {
   "cell_type": "markdown",
   "metadata": {},
   "source": [
    "# Object Columns Description:"
   ]
  },
  {
   "cell_type": "code",
   "execution_count": 218,
   "metadata": {
    "execution": {
     "iopub.execute_input": "2024-09-28T11:32:21.481482Z",
     "iopub.status.busy": "2024-09-28T11:32:21.480898Z",
     "iopub.status.idle": "2024-09-28T11:32:21.729843Z",
     "shell.execute_reply": "2024-09-28T11:32:21.728647Z",
     "shell.execute_reply.started": "2024-09-28T11:32:21.481431Z"
    }
   },
   "outputs": [
    {
     "data": {
      "text/html": [
       "<div>\n",
       "<style scoped>\n",
       "    .dataframe tbody tr th:only-of-type {\n",
       "        vertical-align: middle;\n",
       "    }\n",
       "\n",
       "    .dataframe tbody tr th {\n",
       "        vertical-align: top;\n",
       "    }\n",
       "\n",
       "    .dataframe thead th {\n",
       "        text-align: right;\n",
       "    }\n",
       "</style>\n",
       "<table border=\"1\" class=\"dataframe\">\n",
       "  <thead>\n",
       "    <tr style=\"text-align: right;\">\n",
       "      <th></th>\n",
       "      <th>brand</th>\n",
       "      <th>model</th>\n",
       "      <th>fuel_type</th>\n",
       "      <th>engine</th>\n",
       "      <th>transmission</th>\n",
       "      <th>ext_col</th>\n",
       "      <th>int_col</th>\n",
       "      <th>clean_title</th>\n",
       "    </tr>\n",
       "  </thead>\n",
       "  <tbody>\n",
       "    <tr>\n",
       "      <th>count</th>\n",
       "      <td>186081</td>\n",
       "      <td>186081</td>\n",
       "      <td>185302</td>\n",
       "      <td>186081</td>\n",
       "      <td>186081</td>\n",
       "      <td>186081</td>\n",
       "      <td>186081</td>\n",
       "      <td>186081</td>\n",
       "    </tr>\n",
       "    <tr>\n",
       "      <th>unique</th>\n",
       "      <td>57</td>\n",
       "      <td>1897</td>\n",
       "      <td>5</td>\n",
       "      <td>1116</td>\n",
       "      <td>52</td>\n",
       "      <td>319</td>\n",
       "      <td>156</td>\n",
       "      <td>2</td>\n",
       "    </tr>\n",
       "    <tr>\n",
       "      <th>top</th>\n",
       "      <td>Ford</td>\n",
       "      <td>F-150 XLT</td>\n",
       "      <td>Gasoline</td>\n",
       "      <td>355.0HP 5.3L 8 Cylinder Engine Gasoline Fuel</td>\n",
       "      <td>A/T</td>\n",
       "      <td>Black</td>\n",
       "      <td>Black</td>\n",
       "      <td>Yes</td>\n",
       "    </tr>\n",
       "    <tr>\n",
       "      <th>freq</th>\n",
       "      <td>22766</td>\n",
       "      <td>2885</td>\n",
       "      <td>168867</td>\n",
       "      <td>3451</td>\n",
       "      <td>49520</td>\n",
       "      <td>48119</td>\n",
       "      <td>106337</td>\n",
       "      <td>167100</td>\n",
       "    </tr>\n",
       "  </tbody>\n",
       "</table>\n",
       "</div>"
      ],
      "text/plain": [
       "         brand      model fuel_type  \\\n",
       "count   186081     186081    185302   \n",
       "unique      57       1897         5   \n",
       "top       Ford  F-150 XLT  Gasoline   \n",
       "freq     22766       2885    168867   \n",
       "\n",
       "                                              engine transmission ext_col  \\\n",
       "count                                         186081       186081  186081   \n",
       "unique                                          1116           52     319   \n",
       "top     355.0HP 5.3L 8 Cylinder Engine Gasoline Fuel          A/T   Black   \n",
       "freq                                            3451        49520   48119   \n",
       "\n",
       "       int_col clean_title  \n",
       "count   186081      186081  \n",
       "unique     156           2  \n",
       "top      Black         Yes  \n",
       "freq    106337      167100  "
      ]
     },
     "execution_count": 218,
     "metadata": {},
     "output_type": "execute_result"
    }
   ],
   "source": [
    "df.describe(include='object')"
   ]
  },
  {
   "cell_type": "code",
   "execution_count": 219,
   "metadata": {
    "execution": {
     "iopub.execute_input": "2024-09-28T11:32:21.731932Z",
     "iopub.status.busy": "2024-09-28T11:32:21.731503Z",
     "iopub.status.idle": "2024-09-28T11:32:21.780165Z",
     "shell.execute_reply": "2024-09-28T11:32:21.778698Z",
     "shell.execute_reply.started": "2024-09-28T11:32:21.731893Z"
    }
   },
   "outputs": [
    {
     "data": {
      "text/plain": [
       "array(['Age', 'milage', 'accident', 'price', 'brand', 'model',\n",
       "       'fuel_type', 'engine', 'transmission', 'ext_col', 'int_col',\n",
       "       'clean_title'], dtype=object)"
      ]
     },
     "execution_count": 219,
     "metadata": {},
     "output_type": "execute_result"
    }
   ],
   "source": [
    "OrderedCols = np.concatenate([df.select_dtypes(exclude='object').columns.values, \n",
    "                              df.select_dtypes(include='object').columns.values])\n",
    "OrderedCols"
   ]
  },
  {
   "cell_type": "markdown",
   "metadata": {
    "execution": {
     "iopub.execute_input": "2024-09-25T15:03:31.538147Z",
     "iopub.status.busy": "2024-09-25T15:03:31.537811Z",
     "iopub.status.idle": "2024-09-25T15:05:43.520565Z",
     "shell.execute_reply": "2024-09-25T15:05:43.519284Z",
     "shell.execute_reply.started": "2024-09-25T15:03:31.538113Z"
    }
   },
   "source": [
    "sns.set_style('darkgrid')\n",
    "colors = ['#0055ff', '#ff7000', '#23bf00']\n",
    "CustomPalette = sns.set_palette(sns.color_palette(colors))\n",
    "\n",
    "OrderedCols = np.concatenate([df.select_dtypes(exclude='object').columns.values, \n",
    "                              df.select_dtypes(include='object').columns.values])\n",
    "fig, ax = plt.subplots(3, 4, figsize=(30, 15), dpi=100)\n",
    "for i, col in enumerate(OrderedCols):\n",
    "    x = i // 4\n",
    "    y = i % 4\n",
    "    if i < 3:\n",
    "        sns.boxplot(data=df, y=col, ax=ax[x, y])\n",
    "        ax[x, y].yaxis.label.set_size(15)\n",
    "    else:\n",
    "        sns.boxplot(data=df, x=col, y='price', ax=ax[x, y])\n",
    "        ax[x, y].xaxis.label.set_size(15)\n",
    "        ax[x, y].yaxis.label.set_size(15)\n",
    "plt.tight_layout()    \n",
    "plt.show();"
   ]
  },
  {
   "cell_type": "code",
   "execution_count": 220,
   "metadata": {
    "execution": {
     "iopub.execute_input": "2024-09-28T11:32:21.782170Z",
     "iopub.status.busy": "2024-09-28T11:32:21.781774Z",
     "iopub.status.idle": "2024-09-28T11:32:21.817076Z",
     "shell.execute_reply": "2024-09-28T11:32:21.815838Z",
     "shell.execute_reply.started": "2024-09-28T11:32:21.782126Z"
    }
   },
   "outputs": [
    {
     "data": {
      "text/plain": [
       "array(['172.0HP 1.6L 4 Cylinder Engine Gasoline Fuel',\n",
       "       '252.0HP 3.9L 8 Cylinder Engine Gasoline Fuel',\n",
       "       '320.0HP 5.3L 8 Cylinder Engine Flex Fuel Capability', ...,\n",
       "       '78.0HP 1.2L 3 Cylinder Engine Gasoline Fuel',\n",
       "       '139.0HP 1.6L 4 Cylinder Engine Plug-In Electric/Gas',\n",
       "       '313.0HP 2.0L 4 Cylinder Engine Plug-In Electric/Gas'],\n",
       "      dtype=object)"
      ]
     },
     "execution_count": 220,
     "metadata": {},
     "output_type": "execute_result"
    }
   ],
   "source": [
    "df['engine'].unique()"
   ]
  },
  {
   "cell_type": "code",
   "execution_count": 221,
   "metadata": {
    "execution": {
     "iopub.execute_input": "2024-09-28T11:32:21.819436Z",
     "iopub.status.busy": "2024-09-28T11:32:21.818821Z",
     "iopub.status.idle": "2024-09-28T11:33:09.924122Z",
     "shell.execute_reply": "2024-09-28T11:33:09.922999Z",
     "shell.execute_reply.started": "2024-09-28T11:32:21.819369Z"
    }
   },
   "outputs": [
    {
     "name": "stdout",
     "output_type": "stream",
     "text": [
      "       Age      brand       model  milage fuel_type  \\\n",
      "2509    18     Nissan   Armada LE   67350  Gasoline   \n",
      "47336    7  Chevrolet  Camaro 2SS   53705  Gasoline   \n",
      "\n",
      "                                             engine  \\\n",
      "2509   317.0HP 5.6L 8 Cylinder Engine Gasoline Fuel   \n",
      "47336  455.0HP 6.2L 8 Cylinder Engine Gasoline Fuel   \n",
      "\n",
      "                         transmission ext_col int_col  accident clean_title  \\\n",
      "2509   Transmission w/Dual Shift Mode   Green   Beige       0.0         Yes   \n",
      "47336                     6-Speed M/T   Black   Black       1.0         Yes   \n",
      "\n",
      "       price  horsepower  engine_capacity  cylinders  \n",
      "2509   14200       317.0              5.6        8.0  \n",
      "47336  25900       455.0              6.2        8.0  \n"
     ]
    }
   ],
   "source": [
    "import re\n",
    "\n",
    "\n",
    "# Function to extract horsepower, engine capacity, and cylinder count\n",
    "def extract_engine_specs(engine):\n",
    "    # Extract horsepower\n",
    "    hp_match = re.search(r'(\\d+\\.\\d+)HP', engine)\n",
    "    hp = float(hp_match.group(1)) if hp_match else None\n",
    "    \n",
    "    # Extract engine capacity\n",
    "    capacity_match = re.search(r'(\\d+\\.\\d+)L', engine)\n",
    "    capacity = float(capacity_match.group(1)) if capacity_match else None\n",
    "    \n",
    "    # Extract number of cylinders\n",
    "    cylinder_match = re.search(r'(\\d+) Cylinder', engine)\n",
    "    cylinders = int(cylinder_match.group(1)) if cylinder_match else None\n",
    "    \n",
    "    return pd.Series([hp, capacity, cylinders])\n",
    "\n",
    "# Apply the function and create new columns in the same DataFrame\n",
    "df[['horsepower', 'engine_capacity', 'cylinders']] = df['engine'].apply(extract_engine_specs)\n",
    "dt[['horsepower', 'engine_capacity', 'cylinders']] = df['engine'].apply(extract_engine_specs)\n",
    "\n",
    "# Display the updated dataframe\n",
    "print(df.sample(2))\n"
   ]
  },
  {
   "cell_type": "code",
   "execution_count": 222,
   "metadata": {
    "execution": {
     "iopub.execute_input": "2024-09-28T11:33:09.925673Z",
     "iopub.status.busy": "2024-09-28T11:33:09.925326Z",
     "iopub.status.idle": "2024-09-28T11:33:09.930891Z",
     "shell.execute_reply": "2024-09-28T11:33:09.929869Z",
     "shell.execute_reply.started": "2024-09-28T11:33:09.925637Z"
    }
   },
   "outputs": [],
   "source": [
    "pd.set_option('display.max_columns', None)"
   ]
  },
  {
   "cell_type": "code",
   "execution_count": 223,
   "metadata": {
    "execution": {
     "iopub.execute_input": "2024-09-28T11:33:09.932565Z",
     "iopub.status.busy": "2024-09-28T11:33:09.932088Z",
     "iopub.status.idle": "2024-09-28T11:33:09.957292Z",
     "shell.execute_reply": "2024-09-28T11:33:09.956143Z",
     "shell.execute_reply.started": "2024-09-28T11:33:09.932528Z"
    }
   },
   "outputs": [
    {
     "data": {
      "text/html": [
       "<div>\n",
       "<style scoped>\n",
       "    .dataframe tbody tr th:only-of-type {\n",
       "        vertical-align: middle;\n",
       "    }\n",
       "\n",
       "    .dataframe tbody tr th {\n",
       "        vertical-align: top;\n",
       "    }\n",
       "\n",
       "    .dataframe thead th {\n",
       "        text-align: right;\n",
       "    }\n",
       "</style>\n",
       "<table border=\"1\" class=\"dataframe\">\n",
       "  <thead>\n",
       "    <tr style=\"text-align: right;\">\n",
       "      <th></th>\n",
       "      <th>Age</th>\n",
       "      <th>brand</th>\n",
       "      <th>model</th>\n",
       "      <th>milage</th>\n",
       "      <th>fuel_type</th>\n",
       "      <th>engine</th>\n",
       "      <th>transmission</th>\n",
       "      <th>ext_col</th>\n",
       "      <th>int_col</th>\n",
       "      <th>accident</th>\n",
       "      <th>clean_title</th>\n",
       "      <th>price</th>\n",
       "      <th>horsepower</th>\n",
       "      <th>engine_capacity</th>\n",
       "      <th>cylinders</th>\n",
       "    </tr>\n",
       "  </thead>\n",
       "  <tbody>\n",
       "    <tr>\n",
       "      <th>0</th>\n",
       "      <td>18</td>\n",
       "      <td>MINI</td>\n",
       "      <td>Cooper S Base</td>\n",
       "      <td>213000</td>\n",
       "      <td>Gasoline</td>\n",
       "      <td>172.0HP 1.6L 4 Cylinder Engine Gasoline Fuel</td>\n",
       "      <td>A/T</td>\n",
       "      <td>Yellow</td>\n",
       "      <td>Gray</td>\n",
       "      <td>0.0</td>\n",
       "      <td>Yes</td>\n",
       "      <td>4200</td>\n",
       "      <td>172.0</td>\n",
       "      <td>1.6</td>\n",
       "      <td>4.0</td>\n",
       "    </tr>\n",
       "    <tr>\n",
       "      <th>1</th>\n",
       "      <td>23</td>\n",
       "      <td>Lincoln</td>\n",
       "      <td>LS V8</td>\n",
       "      <td>143250</td>\n",
       "      <td>Gasoline</td>\n",
       "      <td>252.0HP 3.9L 8 Cylinder Engine Gasoline Fuel</td>\n",
       "      <td>A/T</td>\n",
       "      <td>Silver</td>\n",
       "      <td>Beige</td>\n",
       "      <td>1.0</td>\n",
       "      <td>Yes</td>\n",
       "      <td>4999</td>\n",
       "      <td>252.0</td>\n",
       "      <td>3.9</td>\n",
       "      <td>8.0</td>\n",
       "    </tr>\n",
       "    <tr>\n",
       "      <th>2</th>\n",
       "      <td>23</td>\n",
       "      <td>Chevrolet</td>\n",
       "      <td>Silverado 2500 LT</td>\n",
       "      <td>136731</td>\n",
       "      <td>E85 Flex Fuel</td>\n",
       "      <td>320.0HP 5.3L 8 Cylinder Engine Flex Fuel Capab...</td>\n",
       "      <td>A/T</td>\n",
       "      <td>Blue</td>\n",
       "      <td>Gray</td>\n",
       "      <td>0.0</td>\n",
       "      <td>Yes</td>\n",
       "      <td>13900</td>\n",
       "      <td>320.0</td>\n",
       "      <td>5.3</td>\n",
       "      <td>8.0</td>\n",
       "    </tr>\n",
       "    <tr>\n",
       "      <th>3</th>\n",
       "      <td>8</td>\n",
       "      <td>Genesis</td>\n",
       "      <td>G90 5.0 Ultimate</td>\n",
       "      <td>19500</td>\n",
       "      <td>Gasoline</td>\n",
       "      <td>420.0HP 5.0L 8 Cylinder Engine Gasoline Fuel</td>\n",
       "      <td>Transmission w/Dual Shift Mode</td>\n",
       "      <td>Black</td>\n",
       "      <td>Black</td>\n",
       "      <td>0.0</td>\n",
       "      <td>Yes</td>\n",
       "      <td>45000</td>\n",
       "      <td>420.0</td>\n",
       "      <td>5.0</td>\n",
       "      <td>8.0</td>\n",
       "    </tr>\n",
       "    <tr>\n",
       "      <th>4</th>\n",
       "      <td>4</td>\n",
       "      <td>Mercedes-Benz</td>\n",
       "      <td>Metris Base</td>\n",
       "      <td>7388</td>\n",
       "      <td>Gasoline</td>\n",
       "      <td>208.0HP 2.0L 4 Cylinder Engine Gasoline Fuel</td>\n",
       "      <td>7-Speed A/T</td>\n",
       "      <td>Black</td>\n",
       "      <td>Beige</td>\n",
       "      <td>0.0</td>\n",
       "      <td>Yes</td>\n",
       "      <td>97500</td>\n",
       "      <td>208.0</td>\n",
       "      <td>2.0</td>\n",
       "      <td>4.0</td>\n",
       "    </tr>\n",
       "  </tbody>\n",
       "</table>\n",
       "</div>"
      ],
      "text/plain": [
       "   Age          brand              model  milage      fuel_type  \\\n",
       "0   18           MINI      Cooper S Base  213000       Gasoline   \n",
       "1   23        Lincoln              LS V8  143250       Gasoline   \n",
       "2   23      Chevrolet  Silverado 2500 LT  136731  E85 Flex Fuel   \n",
       "3    8        Genesis   G90 5.0 Ultimate   19500       Gasoline   \n",
       "4    4  Mercedes-Benz        Metris Base    7388       Gasoline   \n",
       "\n",
       "                                              engine  \\\n",
       "0       172.0HP 1.6L 4 Cylinder Engine Gasoline Fuel   \n",
       "1       252.0HP 3.9L 8 Cylinder Engine Gasoline Fuel   \n",
       "2  320.0HP 5.3L 8 Cylinder Engine Flex Fuel Capab...   \n",
       "3       420.0HP 5.0L 8 Cylinder Engine Gasoline Fuel   \n",
       "4       208.0HP 2.0L 4 Cylinder Engine Gasoline Fuel   \n",
       "\n",
       "                     transmission ext_col int_col  accident clean_title  \\\n",
       "0                             A/T  Yellow    Gray       0.0         Yes   \n",
       "1                             A/T  Silver   Beige       1.0         Yes   \n",
       "2                             A/T    Blue    Gray       0.0         Yes   \n",
       "3  Transmission w/Dual Shift Mode   Black   Black       0.0         Yes   \n",
       "4                     7-Speed A/T   Black   Beige       0.0         Yes   \n",
       "\n",
       "   price  horsepower  engine_capacity  cylinders  \n",
       "0   4200       172.0              1.6        4.0  \n",
       "1   4999       252.0              3.9        8.0  \n",
       "2  13900       320.0              5.3        8.0  \n",
       "3  45000       420.0              5.0        8.0  \n",
       "4  97500       208.0              2.0        4.0  "
      ]
     },
     "execution_count": 223,
     "metadata": {},
     "output_type": "execute_result"
    }
   ],
   "source": [
    "df.head(5)"
   ]
  },
  {
   "cell_type": "code",
   "execution_count": 224,
   "metadata": {
    "execution": {
     "iopub.execute_input": "2024-09-28T11:33:09.959985Z",
     "iopub.status.busy": "2024-09-28T11:33:09.959122Z",
     "iopub.status.idle": "2024-09-28T11:33:09.982401Z",
     "shell.execute_reply": "2024-09-28T11:33:09.980933Z",
     "shell.execute_reply.started": "2024-09-28T11:33:09.959929Z"
    }
   },
   "outputs": [
    {
     "data": {
      "text/plain": [
       "array(['Yes', 'missing'], dtype=object)"
      ]
     },
     "execution_count": 224,
     "metadata": {},
     "output_type": "execute_result"
    }
   ],
   "source": [
    "df['clean_title'].unique()"
   ]
  },
  {
   "cell_type": "code",
   "execution_count": 225,
   "metadata": {
    "execution": {
     "iopub.execute_input": "2024-09-28T11:33:09.985146Z",
     "iopub.status.busy": "2024-09-28T11:33:09.984255Z",
     "iopub.status.idle": "2024-09-28T11:33:10.066461Z",
     "shell.execute_reply": "2024-09-28T11:33:10.065200Z",
     "shell.execute_reply.started": "2024-09-28T11:33:09.985093Z"
    }
   },
   "outputs": [
    {
     "data": {
      "text/plain": [
       "Age                    0\n",
       "brand                  0\n",
       "model                  0\n",
       "milage                 0\n",
       "fuel_type            779\n",
       "engine                 0\n",
       "transmission           0\n",
       "ext_col                0\n",
       "int_col                0\n",
       "accident               0\n",
       "clean_title            0\n",
       "price                  0\n",
       "horsepower         32428\n",
       "engine_capacity    14078\n",
       "cylinders          36977\n",
       "dtype: int64"
      ]
     },
     "execution_count": 225,
     "metadata": {},
     "output_type": "execute_result"
    }
   ],
   "source": [
    "df.isnull().sum()"
   ]
  },
  {
   "cell_type": "code",
   "execution_count": 226,
   "metadata": {
    "execution": {
     "iopub.execute_input": "2024-09-28T11:33:10.068460Z",
     "iopub.status.busy": "2024-09-28T11:33:10.068046Z",
     "iopub.status.idle": "2024-09-28T11:33:10.079576Z",
     "shell.execute_reply": "2024-09-28T11:33:10.078204Z",
     "shell.execute_reply.started": "2024-09-28T11:33:10.068396Z"
    }
   },
   "outputs": [
    {
     "data": {
      "text/plain": [
       "0.8257318049666543"
      ]
     },
     "execution_count": 226,
     "metadata": {},
     "output_type": "execute_result"
    }
   ],
   "source": [
    "len(df['horsepower'].dropna())/ len(df)"
   ]
  },
  {
   "cell_type": "code",
   "execution_count": 227,
   "metadata": {
    "execution": {
     "iopub.execute_input": "2024-09-28T11:33:10.081385Z",
     "iopub.status.busy": "2024-09-28T11:33:10.080978Z",
     "iopub.status.idle": "2024-09-28T11:33:10.112248Z",
     "shell.execute_reply": "2024-09-28T11:33:10.111093Z",
     "shell.execute_reply.started": "2024-09-28T11:33:10.081337Z"
    }
   },
   "outputs": [],
   "source": [
    "df.drop(columns=['engine','transmission','model'], inplace=True)\n",
    "dt.drop(columns=['engine','transmission','model'], inplace=True)"
   ]
  },
  {
   "cell_type": "code",
   "execution_count": 228,
   "metadata": {
    "execution": {
     "iopub.execute_input": "2024-09-28T11:33:10.114195Z",
     "iopub.status.busy": "2024-09-28T11:33:10.113708Z",
     "iopub.status.idle": "2024-09-28T11:33:10.124719Z",
     "shell.execute_reply": "2024-09-28T11:33:10.123591Z",
     "shell.execute_reply.started": "2024-09-28T11:33:10.114145Z"
    }
   },
   "outputs": [
    {
     "data": {
      "text/plain": [
       "Index(['Age', 'brand', 'milage', 'fuel_type', 'ext_col', 'int_col', 'accident',\n",
       "       'clean_title', 'horsepower', 'engine_capacity', 'cylinders'],\n",
       "      dtype='object')"
      ]
     },
     "execution_count": 228,
     "metadata": {},
     "output_type": "execute_result"
    },
    {
     "data": {
      "text/plain": [
       "Index(['Age', 'brand', 'milage', 'fuel_type', 'ext_col', 'int_col', 'accident',\n",
       "       'clean_title', 'price', 'horsepower', 'engine_capacity', 'cylinders'],\n",
       "      dtype='object')"
      ]
     },
     "execution_count": 228,
     "metadata": {},
     "output_type": "execute_result"
    }
   ],
   "source": [
    "dt.columns\n",
    "df.columns"
   ]
  },
  {
   "cell_type": "code",
   "execution_count": 229,
   "metadata": {
    "execution": {
     "iopub.execute_input": "2024-09-28T11:33:10.126486Z",
     "iopub.status.busy": "2024-09-28T11:33:10.126084Z",
     "iopub.status.idle": "2024-09-28T11:33:10.134758Z",
     "shell.execute_reply": "2024-09-28T11:33:10.133642Z",
     "shell.execute_reply.started": "2024-09-28T11:33:10.126436Z"
    }
   },
   "outputs": [
    {
     "name": "stdout",
     "output_type": "stream",
     "text": [
      "There are 5 categorical variables\n",
      "\n",
      "The categorical variables are : ['brand', 'fuel_type', 'ext_col', 'int_col', 'clean_title']\n"
     ]
    }
   ],
   "source": [
    "categorical = [var for var in df.columns if df[var].dtype=='O']\n",
    "\n",
    "print('There are {} categorical variables\\n'.format(len(categorical)))\n",
    "\n",
    "print('The categorical variables are :', categorical)"
   ]
  },
  {
   "cell_type": "code",
   "execution_count": 230,
   "metadata": {
    "execution": {
     "iopub.execute_input": "2024-09-28T11:33:10.136796Z",
     "iopub.status.busy": "2024-09-28T11:33:10.136353Z",
     "iopub.status.idle": "2024-09-28T11:33:10.165978Z",
     "shell.execute_reply": "2024-09-28T11:33:10.164720Z",
     "shell.execute_reply.started": "2024-09-28T11:33:10.136756Z"
    }
   },
   "outputs": [
    {
     "data": {
      "text/html": [
       "<div>\n",
       "<style scoped>\n",
       "    .dataframe tbody tr th:only-of-type {\n",
       "        vertical-align: middle;\n",
       "    }\n",
       "\n",
       "    .dataframe tbody tr th {\n",
       "        vertical-align: top;\n",
       "    }\n",
       "\n",
       "    .dataframe thead th {\n",
       "        text-align: right;\n",
       "    }\n",
       "</style>\n",
       "<table border=\"1\" class=\"dataframe\">\n",
       "  <thead>\n",
       "    <tr style=\"text-align: right;\">\n",
       "      <th></th>\n",
       "      <th>brand</th>\n",
       "      <th>fuel_type</th>\n",
       "      <th>ext_col</th>\n",
       "      <th>int_col</th>\n",
       "      <th>clean_title</th>\n",
       "    </tr>\n",
       "  </thead>\n",
       "  <tbody>\n",
       "    <tr>\n",
       "      <th>0</th>\n",
       "      <td>MINI</td>\n",
       "      <td>Gasoline</td>\n",
       "      <td>Yellow</td>\n",
       "      <td>Gray</td>\n",
       "      <td>Yes</td>\n",
       "    </tr>\n",
       "    <tr>\n",
       "      <th>1</th>\n",
       "      <td>Lincoln</td>\n",
       "      <td>Gasoline</td>\n",
       "      <td>Silver</td>\n",
       "      <td>Beige</td>\n",
       "      <td>Yes</td>\n",
       "    </tr>\n",
       "    <tr>\n",
       "      <th>2</th>\n",
       "      <td>Chevrolet</td>\n",
       "      <td>E85 Flex Fuel</td>\n",
       "      <td>Blue</td>\n",
       "      <td>Gray</td>\n",
       "      <td>Yes</td>\n",
       "    </tr>\n",
       "    <tr>\n",
       "      <th>3</th>\n",
       "      <td>Genesis</td>\n",
       "      <td>Gasoline</td>\n",
       "      <td>Black</td>\n",
       "      <td>Black</td>\n",
       "      <td>Yes</td>\n",
       "    </tr>\n",
       "    <tr>\n",
       "      <th>4</th>\n",
       "      <td>Mercedes-Benz</td>\n",
       "      <td>Gasoline</td>\n",
       "      <td>Black</td>\n",
       "      <td>Beige</td>\n",
       "      <td>Yes</td>\n",
       "    </tr>\n",
       "  </tbody>\n",
       "</table>\n",
       "</div>"
      ],
      "text/plain": [
       "           brand      fuel_type ext_col int_col clean_title\n",
       "0           MINI       Gasoline  Yellow    Gray         Yes\n",
       "1        Lincoln       Gasoline  Silver   Beige         Yes\n",
       "2      Chevrolet  E85 Flex Fuel    Blue    Gray         Yes\n",
       "3        Genesis       Gasoline   Black   Black         Yes\n",
       "4  Mercedes-Benz       Gasoline   Black   Beige         Yes"
      ]
     },
     "execution_count": 230,
     "metadata": {},
     "output_type": "execute_result"
    }
   ],
   "source": [
    "# view the categorical variables\n",
    "\n",
    "df[categorical].head()"
   ]
  },
  {
   "cell_type": "code",
   "execution_count": 231,
   "metadata": {
    "execution": {
     "iopub.execute_input": "2024-09-28T11:33:10.168237Z",
     "iopub.status.busy": "2024-09-28T11:33:10.167513Z",
     "iopub.status.idle": "2024-09-28T11:33:10.233517Z",
     "shell.execute_reply": "2024-09-28T11:33:10.232228Z",
     "shell.execute_reply.started": "2024-09-28T11:33:10.168194Z"
    }
   },
   "outputs": [
    {
     "data": {
      "text/plain": [
       "brand            0\n",
       "fuel_type      779\n",
       "ext_col          0\n",
       "int_col          0\n",
       "clean_title      0\n",
       "dtype: int64"
      ]
     },
     "execution_count": 231,
     "metadata": {},
     "output_type": "execute_result"
    }
   ],
   "source": [
    "# check missing values in categorical variables\n",
    "\n",
    "df[categorical].isnull().sum()"
   ]
  },
  {
   "cell_type": "code",
   "execution_count": 232,
   "metadata": {
    "execution": {
     "iopub.execute_input": "2024-09-28T11:33:10.235929Z",
     "iopub.status.busy": "2024-09-28T11:33:10.235436Z",
     "iopub.status.idle": "2024-09-28T11:33:10.319934Z",
     "shell.execute_reply": "2024-09-28T11:33:10.318687Z",
     "shell.execute_reply.started": "2024-09-28T11:33:10.235876Z"
    }
   },
   "outputs": [
    {
     "name": "stdout",
     "output_type": "stream",
     "text": [
      "brand\n",
      "Ford             22766\n",
      "Mercedes-Benz    19004\n",
      "BMW              16830\n",
      "Chevrolet        16125\n",
      "Audi             10790\n",
      "Porsche          10406\n",
      "Land              9425\n",
      "Toyota            8746\n",
      "Lexus             8573\n",
      "Jeep              6304\n",
      "Cadillac          4605\n",
      "RAM               4176\n",
      "Nissan            3895\n",
      "Tesla             3703\n",
      "INFINITI          3237\n",
      "GMC               3162\n",
      "Dodge             3085\n",
      "Mazda             2693\n",
      "Kia               2447\n",
      "Lincoln           2392\n",
      "Subaru            2369\n",
      "Acura             2259\n",
      "Honda             2062\n",
      "Hyundai           2015\n",
      "Volkswagen        1745\n",
      "Jaguar            1295\n",
      "Bentley           1125\n",
      "MINI              1053\n",
      "Genesis            952\n",
      "Maserati           928\n",
      "Buick              927\n",
      "Lamborghini        793\n",
      "Chrysler           717\n",
      "Volvo              712\n",
      "Alfa               665\n",
      "Rivian             570\n",
      "Rolls-Royce        553\n",
      "Mitsubishi         543\n",
      "Pontiac            535\n",
      "Hummer             516\n",
      "Ferrari            352\n",
      "McLaren            242\n",
      "Aston              237\n",
      "Saturn             146\n",
      "Scion              118\n",
      "Lucid               67\n",
      "Mercury             55\n",
      "Lotus               51\n",
      "FIAT                41\n",
      "Saab                22\n",
      "Karma               17\n",
      "Suzuki               8\n",
      "Plymouth             7\n",
      "Bugatti              7\n",
      "Polestar             7\n",
      "smart                3\n",
      "Maybach              3\n",
      "Name: count, dtype: int64\n",
      "fuel_type\n",
      "Gasoline          168867\n",
      "Hybrid              6741\n",
      "E85 Flex Fuel       5328\n",
      "Diesel              3854\n",
      "Plug-In Hybrid       512\n",
      "Name: count, dtype: int64\n",
      "ext_col\n",
      "Black                    48119\n",
      "White                    43411\n",
      "Gray                     25006\n",
      "Silver                   16766\n",
      "Blue                     14398\n",
      "                         ...  \n",
      "Frozen White                 5\n",
      "Dark Gray Metallic           5\n",
      "GT SILVER                    5\n",
      "BLUE                         3\n",
      "Mango Tango Pearlcoat        1\n",
      "Name: count, Length: 319, dtype: int64\n",
      "int_col\n",
      "Black           106337\n",
      "Beige            24247\n",
      "Gray             21011\n",
      "Brown             5731\n",
      "Red               5086\n",
      "                 ...  \n",
      "BEIGE                7\n",
      "Nougat Brown         7\n",
      "Cobalt Blue          6\n",
      "WHITE                6\n",
      "ORANGE               4\n",
      "Name: count, Length: 156, dtype: int64\n",
      "clean_title\n",
      "Yes        167100\n",
      "missing     18981\n",
      "Name: count, dtype: int64\n"
     ]
    }
   ],
   "source": [
    "# view frequency of categorical variables\n",
    "\n",
    "for var in categorical: \n",
    "    \n",
    "    print(df[var].value_counts())"
   ]
  },
  {
   "cell_type": "markdown",
   "metadata": {},
   "source": [
    "## One By One Working Over The Categorical Variables"
   ]
  },
  {
   "cell_type": "markdown",
   "metadata": {},
   "source": [
    "# Number of labels: cardinality\n",
    "## The number of labels within a categorical variable is known as cardinality. A high number of labels within a variable is known as high \n",
    "\n",
    "## cardinality. High cardinality may pose some serious problems in the machine learning model. So, I will check for high cardinality."
   ]
  },
  {
   "cell_type": "code",
   "execution_count": 233,
   "metadata": {
    "execution": {
     "iopub.execute_input": "2024-09-28T11:33:10.321765Z",
     "iopub.status.busy": "2024-09-28T11:33:10.321292Z",
     "iopub.status.idle": "2024-09-28T11:33:10.381379Z",
     "shell.execute_reply": "2024-09-28T11:33:10.380306Z",
     "shell.execute_reply.started": "2024-09-28T11:33:10.321713Z"
    }
   },
   "outputs": [
    {
     "data": {
      "text/plain": [
       "array(['Land', 'Ford', 'Audi', 'Chevrolet', 'Lexus', 'Mercedes-Benz',\n",
       "       'Genesis', 'Mazda', 'Porsche', 'Jaguar', 'Honda', 'BMW', 'Toyota',\n",
       "       'Hummer', 'RAM', 'Jeep', 'Cadillac', 'Saturn', 'Kia', 'Lincoln',\n",
       "       'Nissan', 'Volkswagen', 'Chrysler', 'Dodge', 'Maserati', 'Subaru',\n",
       "       'Hyundai', 'Mitsubishi', 'INFINITI', 'Tesla', 'Lamborghini',\n",
       "       'MINI', 'GMC', 'Acura', 'Buick', 'Rivian', 'Pontiac', 'Alfa',\n",
       "       'Mercury', 'Volvo', 'Rolls-Royce', 'McLaren', 'Bentley', 'Aston',\n",
       "       'FIAT', 'Scion', 'Ferrari', 'Lucid', 'Saab', 'Maybach', 'Karma',\n",
       "       'Suzuki', 'Lotus', 'Bugatti', 'Plymouth'], dtype=object)"
      ]
     },
     "execution_count": 233,
     "metadata": {},
     "output_type": "execute_result"
    },
    {
     "data": {
      "text/plain": [
       "55"
      ]
     },
     "execution_count": 233,
     "metadata": {},
     "output_type": "execute_result"
    },
    {
     "data": {
      "text/plain": [
       "array(['MINI', 'Lincoln', 'Chevrolet', 'Genesis', 'Mercedes-Benz', 'Audi',\n",
       "       'Ford', 'BMW', 'Tesla', 'Cadillac', 'Land', 'GMC', 'Toyota',\n",
       "       'Hyundai', 'Volvo', 'Volkswagen', 'Buick', 'Rivian', 'RAM',\n",
       "       'Hummer', 'Alfa', 'INFINITI', 'Jeep', 'Porsche', 'McLaren',\n",
       "       'Honda', 'Lexus', 'Dodge', 'Nissan', 'Jaguar', 'Acura', 'Kia',\n",
       "       'Mitsubishi', 'Rolls-Royce', 'Maserati', 'Pontiac', 'Saturn',\n",
       "       'Bentley', 'Mazda', 'Subaru', 'Ferrari', 'Aston', 'Lamborghini',\n",
       "       'Chrysler', 'Lucid', 'Lotus', 'Scion', 'smart', 'Karma',\n",
       "       'Plymouth', 'Suzuki', 'FIAT', 'Saab', 'Bugatti', 'Mercury',\n",
       "       'Polestar', 'Maybach'], dtype=object)"
      ]
     },
     "execution_count": 233,
     "metadata": {},
     "output_type": "execute_result"
    },
    {
     "data": {
      "text/plain": [
       "57"
      ]
     },
     "execution_count": 233,
     "metadata": {},
     "output_type": "execute_result"
    }
   ],
   "source": [
    "# BRAND has various values in occurance may inducing cardinality cars below 1000 occurance is Treated as Luxury for the case Here\n",
    "dt['brand'].unique()\n",
    "len(dt['brand'].unique())\n",
    "df['brand'].unique()\n",
    "len(df['brand'].unique())"
   ]
  },
  {
   "cell_type": "code",
   "execution_count": 234,
   "metadata": {
    "execution": {
     "iopub.execute_input": "2024-09-28T11:33:10.383238Z",
     "iopub.status.busy": "2024-09-28T11:33:10.382768Z",
     "iopub.status.idle": "2024-09-28T11:33:10.402012Z",
     "shell.execute_reply": "2024-09-28T11:33:10.400868Z",
     "shell.execute_reply.started": "2024-09-28T11:33:10.383196Z"
    }
   },
   "outputs": [
    {
     "data": {
      "text/plain": [
       "brand\n",
       "Ford             15265\n",
       "Mercedes-Benz    12875\n",
       "BMW              11286\n",
       "Chevrolet        10698\n",
       "Audi              7289\n",
       "Porsche           7153\n",
       "Land              6348\n",
       "Toyota            6084\n",
       "Lexus             5729\n",
       "Jeep              4412\n",
       "Cadillac          3059\n",
       "RAM               2753\n",
       "Nissan            2674\n",
       "Tesla             2387\n",
       "INFINITI          2123\n",
       "GMC               2094\n",
       "Dodge             2071\n",
       "Mazda             1770\n",
       "Kia               1750\n",
       "Lincoln           1593\n",
       "Subaru            1591\n",
       "Acura             1567\n",
       "Honda             1436\n",
       "Hyundai           1308\n",
       "Volkswagen        1222\n",
       "Jaguar             934\n",
       "Bentley            789\n",
       "MINI               697\n",
       "Buick              651\n",
       "Genesis            643\n",
       "Maserati           619\n",
       "Volvo              576\n",
       "Lamborghini        547\n",
       "Chrysler           514\n",
       "Alfa               467\n",
       "Rivian             390\n",
       "Rolls-Royce        383\n",
       "Mitsubishi         367\n",
       "Hummer             342\n",
       "Pontiac            341\n",
       "Ferrari            251\n",
       "McLaren            165\n",
       "Aston              144\n",
       "Saturn              97\n",
       "Scion               62\n",
       "Lucid               42\n",
       "Mercury             39\n",
       "FIAT                37\n",
       "Lotus               19\n",
       "Saab                11\n",
       "Karma               10\n",
       "Maybach              7\n",
       "Plymouth             4\n",
       "Bugatti              3\n",
       "Suzuki               2\n",
       "Name: count, dtype: int64"
      ]
     },
     "execution_count": 234,
     "metadata": {},
     "output_type": "execute_result"
    }
   ],
   "source": [
    "dt['brand'].value_counts()"
   ]
  },
  {
   "cell_type": "code",
   "execution_count": 235,
   "metadata": {
    "execution": {
     "iopub.execute_input": "2024-09-28T11:33:10.403964Z",
     "iopub.status.busy": "2024-09-28T11:33:10.403504Z",
     "iopub.status.idle": "2024-09-28T11:33:11.155871Z",
     "shell.execute_reply": "2024-09-28T11:33:11.154566Z",
     "shell.execute_reply.started": "2024-09-28T11:33:10.403912Z"
    }
   },
   "outputs": [
    {
     "name": "stdout",
     "output_type": "stream",
     "text": [
      "brand\n",
      "ford             22766\n",
      "mercedes-benz    19004\n",
      "bmw              16830\n",
      "chevrolet        16125\n",
      "luxury           13267\n",
      "audi             10790\n",
      "porsche          10406\n",
      "land              9425\n",
      "toyota            8746\n",
      "lexus             8573\n",
      "jeep              6304\n",
      "cadillac          4605\n",
      "ram               4176\n",
      "nissan            3895\n",
      "tesla             3703\n",
      "infiniti          3237\n",
      "gmc               3162\n",
      "dodge             3085\n",
      "mazda             2693\n",
      "kia               2447\n",
      "lincoln           2392\n",
      "subaru            2369\n",
      "acura             2259\n",
      "honda             2062\n",
      "hyundai           2015\n",
      "volkswagen        1745\n",
      "Name: count, dtype: int64\n"
     ]
    }
   ],
   "source": [
    "# Convert the 'brand' column to lowercase\n",
    "df['brand'] = df['brand'].str.lower()\n",
    "dt['brand'] = df['brand'].str.lower()\n",
    "\n",
    "# Count the occurrences of each brand\n",
    "#brand_counts = df['brand'].value_counts()\n",
    "brand_counts = dt['brand'].value_counts()\n",
    "# Identify brands with occurrences less than 900 and replace them with 'luxury'\n",
    "df['brand'] = df['brand'].apply(lambda x: 'luxury' if brand_counts[x] < 900 else x)\n",
    "#dt['brand'] = dt['brand'].apply(lambda x: 'luxury' if brand_counts[x] < 900 else x)\n",
    "\n",
    "# Verify the changes\n",
    "print(df['brand'].value_counts())\n"
   ]
  },
  {
   "cell_type": "code",
   "execution_count": 236,
   "metadata": {
    "execution": {
     "iopub.execute_input": "2024-09-28T11:33:11.157477Z",
     "iopub.status.busy": "2024-09-28T11:33:11.157138Z",
     "iopub.status.idle": "2024-09-28T11:33:11.184656Z",
     "shell.execute_reply": "2024-09-28T11:33:11.183257Z",
     "shell.execute_reply.started": "2024-09-28T11:33:11.157442Z"
    }
   },
   "outputs": [
    {
     "name": "stdout",
     "output_type": "stream",
     "text": [
      "brand\n",
      "ford             15173\n",
      "mercedes-benz    12728\n",
      "bmw              11264\n",
      "chevrolet        10742\n",
      "audi              7229\n",
      "porsche           6922\n",
      "land              6322\n",
      "toyota            5829\n",
      "lexus             5764\n",
      "jeep              4076\n",
      "cadillac          3052\n",
      "ram               2807\n",
      "nissan            2586\n",
      "tesla             2437\n",
      "infiniti          2110\n",
      "gmc               2088\n",
      "dodge             2041\n",
      "mazda             1814\n",
      "kia               1626\n",
      "subaru            1601\n",
      "lincoln           1598\n",
      "acura             1508\n",
      "honda             1394\n",
      "hyundai           1307\n",
      "volkswagen        1191\n",
      "jaguar             868\n",
      "bentley            747\n",
      "mini               719\n",
      "genesis            630\n",
      "maserati           606\n",
      "buick              602\n",
      "lamborghini        539\n",
      "chrysler           497\n",
      "volvo              461\n",
      "alfa               460\n",
      "mitsubishi         391\n",
      "rivian             373\n",
      "rolls-royce        367\n",
      "pontiac            357\n",
      "hummer             328\n",
      "ferrari            225\n",
      "mclaren            162\n",
      "aston              158\n",
      "saturn              98\n",
      "scion               83\n",
      "lucid               47\n",
      "mercury             39\n",
      "lotus               37\n",
      "fiat                26\n",
      "saab                10\n",
      "karma                7\n",
      "suzuki               5\n",
      "plymouth             3\n",
      "bugatti              3\n",
      "polestar             3\n",
      "maybach              3\n",
      "luxury               2\n",
      "Name: count, dtype: int64\n"
     ]
    }
   ],
   "source": [
    "# List of luxury car brands\n",
    "luxury_brands = [\n",
    "    'Lamborghini', 'Chrysler', 'Volvo', 'Alfa', 'Rivian', 'Rolls-Royce', 'Mitsubishi', 'Pontiac', \n",
    "    'Hummer', 'Ferrari', 'McLaren', 'Aston', 'Saturn', 'Scion', 'Lucid', 'Mercury', 'Lotus', \n",
    "    'FIAT', 'Saab', 'Karma', 'Suzuki', 'Plymouth', 'Bugatti', 'Polestar', 'smart', 'Maybach'\n",
    "]\n",
    "\n",
    "# Convert matching brands to 'luxury'\n",
    "dt.loc[dt['brand'].isin(luxury_brands), 'brand'] = 'luxury'\n",
    "print(dt['brand'].value_counts())"
   ]
  },
  {
   "cell_type": "code",
   "execution_count": 237,
   "metadata": {
    "execution": {
     "iopub.execute_input": "2024-09-28T11:33:11.186600Z",
     "iopub.status.busy": "2024-09-28T11:33:11.186206Z",
     "iopub.status.idle": "2024-09-28T11:33:11.325509Z",
     "shell.execute_reply": "2024-09-28T11:33:11.324363Z",
     "shell.execute_reply.started": "2024-09-28T11:33:11.186560Z"
    }
   },
   "outputs": [
    {
     "data": {
      "text/html": [
       "<div>\n",
       "<style scoped>\n",
       "    .dataframe tbody tr th:only-of-type {\n",
       "        vertical-align: middle;\n",
       "    }\n",
       "\n",
       "    .dataframe tbody tr th {\n",
       "        vertical-align: top;\n",
       "    }\n",
       "\n",
       "    .dataframe thead th {\n",
       "        text-align: right;\n",
       "    }\n",
       "</style>\n",
       "<table border=\"1\" class=\"dataframe\">\n",
       "  <thead>\n",
       "    <tr style=\"text-align: right;\">\n",
       "      <th></th>\n",
       "      <th>Age</th>\n",
       "      <th>brand</th>\n",
       "      <th>milage</th>\n",
       "      <th>fuel_type</th>\n",
       "      <th>ext_col</th>\n",
       "      <th>int_col</th>\n",
       "      <th>accident</th>\n",
       "      <th>clean_title</th>\n",
       "      <th>price</th>\n",
       "      <th>horsepower</th>\n",
       "      <th>engine_capacity</th>\n",
       "      <th>cylinders</th>\n",
       "    </tr>\n",
       "  </thead>\n",
       "  <tbody>\n",
       "    <tr>\n",
       "      <th>12365</th>\n",
       "      <td>14</td>\n",
       "      <td>acura</td>\n",
       "      <td>185000</td>\n",
       "      <td>E85 Flex Fuel</td>\n",
       "      <td>Black</td>\n",
       "      <td>Black</td>\n",
       "      <td>0.0</td>\n",
       "      <td>Yes</td>\n",
       "      <td>8500</td>\n",
       "      <td>300.0</td>\n",
       "      <td>3.7</td>\n",
       "      <td>6.0</td>\n",
       "    </tr>\n",
       "    <tr>\n",
       "      <th>125775</th>\n",
       "      <td>17</td>\n",
       "      <td>acura</td>\n",
       "      <td>179000</td>\n",
       "      <td>E85 Flex Fuel</td>\n",
       "      <td>Brown</td>\n",
       "      <td>Beige</td>\n",
       "      <td>1.0</td>\n",
       "      <td>Yes</td>\n",
       "      <td>8995</td>\n",
       "      <td>300.0</td>\n",
       "      <td>3.7</td>\n",
       "      <td>6.0</td>\n",
       "    </tr>\n",
       "    <tr>\n",
       "      <th>133424</th>\n",
       "      <td>12</td>\n",
       "      <td>acura</td>\n",
       "      <td>101600</td>\n",
       "      <td>E85 Flex Fuel</td>\n",
       "      <td>Silver</td>\n",
       "      <td>Black</td>\n",
       "      <td>1.0</td>\n",
       "      <td>Yes</td>\n",
       "      <td>11500</td>\n",
       "      <td>300.0</td>\n",
       "      <td>3.7</td>\n",
       "      <td>6.0</td>\n",
       "    </tr>\n",
       "    <tr>\n",
       "      <th>182229</th>\n",
       "      <td>13</td>\n",
       "      <td>acura</td>\n",
       "      <td>162500</td>\n",
       "      <td>E85 Flex Fuel</td>\n",
       "      <td>Gray</td>\n",
       "      <td>Black</td>\n",
       "      <td>0.0</td>\n",
       "      <td>Yes</td>\n",
       "      <td>12400</td>\n",
       "      <td>300.0</td>\n",
       "      <td>3.7</td>\n",
       "      <td>6.0</td>\n",
       "    </tr>\n",
       "    <tr>\n",
       "      <th>143201</th>\n",
       "      <td>11</td>\n",
       "      <td>acura</td>\n",
       "      <td>95500</td>\n",
       "      <td>E85 Flex Fuel</td>\n",
       "      <td>White</td>\n",
       "      <td>Black</td>\n",
       "      <td>0.0</td>\n",
       "      <td>Yes</td>\n",
       "      <td>19000</td>\n",
       "      <td>300.0</td>\n",
       "      <td>3.7</td>\n",
       "      <td>6.0</td>\n",
       "    </tr>\n",
       "    <tr>\n",
       "      <th>...</th>\n",
       "      <td>...</td>\n",
       "      <td>...</td>\n",
       "      <td>...</td>\n",
       "      <td>...</td>\n",
       "      <td>...</td>\n",
       "      <td>...</td>\n",
       "      <td>...</td>\n",
       "      <td>...</td>\n",
       "      <td>...</td>\n",
       "      <td>...</td>\n",
       "      <td>...</td>\n",
       "      <td>...</td>\n",
       "    </tr>\n",
       "    <tr>\n",
       "      <th>65065</th>\n",
       "      <td>3</td>\n",
       "      <td>volkswagen</td>\n",
       "      <td>14739</td>\n",
       "      <td>Gasoline</td>\n",
       "      <td>Daytona Gray Pearl Effect</td>\n",
       "      <td>Black / Express Red</td>\n",
       "      <td>0.0</td>\n",
       "      <td>missing</td>\n",
       "      <td>599995</td>\n",
       "      <td>NaN</td>\n",
       "      <td>NaN</td>\n",
       "      <td>NaN</td>\n",
       "    </tr>\n",
       "    <tr>\n",
       "      <th>148198</th>\n",
       "      <td>4</td>\n",
       "      <td>volkswagen</td>\n",
       "      <td>33000</td>\n",
       "      <td>Hybrid</td>\n",
       "      <td>Gray</td>\n",
       "      <td>Black</td>\n",
       "      <td>0.0</td>\n",
       "      <td>Yes</td>\n",
       "      <td>50000</td>\n",
       "      <td>201.0</td>\n",
       "      <td>2.0</td>\n",
       "      <td>4.0</td>\n",
       "    </tr>\n",
       "    <tr>\n",
       "      <th>166409</th>\n",
       "      <td>6</td>\n",
       "      <td>volkswagen</td>\n",
       "      <td>53500</td>\n",
       "      <td>Plug-In Hybrid</td>\n",
       "      <td>White</td>\n",
       "      <td>Black</td>\n",
       "      <td>0.0</td>\n",
       "      <td>Yes</td>\n",
       "      <td>35000</td>\n",
       "      <td>416.0</td>\n",
       "      <td>3.0</td>\n",
       "      <td>6.0</td>\n",
       "    </tr>\n",
       "    <tr>\n",
       "      <th>29715</th>\n",
       "      <td>29</td>\n",
       "      <td>volkswagen</td>\n",
       "      <td>13500</td>\n",
       "      <td>NaN</td>\n",
       "      <td>Black</td>\n",
       "      <td>Gray</td>\n",
       "      <td>0.0</td>\n",
       "      <td>Yes</td>\n",
       "      <td>65000</td>\n",
       "      <td>NaN</td>\n",
       "      <td>NaN</td>\n",
       "      <td>NaN</td>\n",
       "    </tr>\n",
       "    <tr>\n",
       "      <th>9063</th>\n",
       "      <td>32</td>\n",
       "      <td>volkswagen</td>\n",
       "      <td>1585</td>\n",
       "      <td>NaN</td>\n",
       "      <td>Arctic White</td>\n",
       "      <td>Gray</td>\n",
       "      <td>0.0</td>\n",
       "      <td>missing</td>\n",
       "      <td>142998</td>\n",
       "      <td>NaN</td>\n",
       "      <td>NaN</td>\n",
       "      <td>NaN</td>\n",
       "    </tr>\n",
       "  </tbody>\n",
       "</table>\n",
       "<p>186081 rows × 12 columns</p>\n",
       "</div>"
      ],
      "text/plain": [
       "        Age       brand  milage       fuel_type                    ext_col  \\\n",
       "12365    14       acura  185000   E85 Flex Fuel                      Black   \n",
       "125775   17       acura  179000   E85 Flex Fuel                      Brown   \n",
       "133424   12       acura  101600   E85 Flex Fuel                     Silver   \n",
       "182229   13       acura  162500   E85 Flex Fuel                       Gray   \n",
       "143201   11       acura   95500   E85 Flex Fuel                      White   \n",
       "...     ...         ...     ...             ...                        ...   \n",
       "65065     3  volkswagen   14739        Gasoline  Daytona Gray Pearl Effect   \n",
       "148198    4  volkswagen   33000          Hybrid                       Gray   \n",
       "166409    6  volkswagen   53500  Plug-In Hybrid                      White   \n",
       "29715    29  volkswagen   13500             NaN                      Black   \n",
       "9063     32  volkswagen    1585             NaN               Arctic White   \n",
       "\n",
       "                    int_col  accident clean_title   price  horsepower  \\\n",
       "12365                 Black       0.0         Yes    8500       300.0   \n",
       "125775                Beige       1.0         Yes    8995       300.0   \n",
       "133424                Black       1.0         Yes   11500       300.0   \n",
       "182229                Black       0.0         Yes   12400       300.0   \n",
       "143201                Black       0.0         Yes   19000       300.0   \n",
       "...                     ...       ...         ...     ...         ...   \n",
       "65065   Black / Express Red       0.0     missing  599995         NaN   \n",
       "148198                Black       0.0         Yes   50000       201.0   \n",
       "166409                Black       0.0         Yes   35000       416.0   \n",
       "29715                  Gray       0.0         Yes   65000         NaN   \n",
       "9063                   Gray       0.0     missing  142998         NaN   \n",
       "\n",
       "        engine_capacity  cylinders  \n",
       "12365               3.7        6.0  \n",
       "125775              3.7        6.0  \n",
       "133424              3.7        6.0  \n",
       "182229              3.7        6.0  \n",
       "143201              3.7        6.0  \n",
       "...                 ...        ...  \n",
       "65065               NaN        NaN  \n",
       "148198              2.0        4.0  \n",
       "166409              3.0        6.0  \n",
       "29715               NaN        NaN  \n",
       "9063                NaN        NaN  \n",
       "\n",
       "[186081 rows x 12 columns]"
      ]
     },
     "execution_count": 237,
     "metadata": {},
     "output_type": "execute_result"
    }
   ],
   "source": [
    "(\n",
    "df\n",
    ".sort_values([\"brand\", \"fuel_type\", \"price\", \"cylinders\"])\n",
    ")"
   ]
  },
  {
   "cell_type": "code",
   "execution_count": 238,
   "metadata": {
    "execution": {
     "iopub.execute_input": "2024-09-28T11:33:11.327234Z",
     "iopub.status.busy": "2024-09-28T11:33:11.326857Z",
     "iopub.status.idle": "2024-09-28T11:33:11.332020Z",
     "shell.execute_reply": "2024-09-28T11:33:11.330833Z",
     "shell.execute_reply.started": "2024-09-28T11:33:11.327198Z"
    }
   },
   "outputs": [],
   "source": [
    "# colour Encodings"
   ]
  },
  {
   "cell_type": "code",
   "execution_count": 239,
   "metadata": {
    "execution": {
     "iopub.execute_input": "2024-09-28T11:33:11.334605Z",
     "iopub.status.busy": "2024-09-28T11:33:11.334135Z",
     "iopub.status.idle": "2024-09-28T11:33:11.354693Z",
     "shell.execute_reply": "2024-09-28T11:33:11.353510Z",
     "shell.execute_reply.started": "2024-09-28T11:33:11.334555Z"
    }
   },
   "outputs": [],
   "source": [
    "int_replacements = {\n",
    "    'Medium Earth Gray': 'Gray',\n",
    "    'Diesel Gray / Black': 'Gray',\n",
    "    'Dark Ash': 'Gray',\n",
    "    'Graphite': 'Gray',\n",
    "    'Dark Galvanized': 'Charcoal',\n",
    "    'Light Gray': 'Gray',\n",
    "    'Ash': 'Gray',\n",
    "    'Jet Black': 'Black',\n",
    "    'Global Black': 'Black',\n",
    "    'Black Onyx': 'Black',\n",
    "    'Parchment.': 'Beige',\n",
    "    'Sardar Brown': 'Brown',\n",
    "    'Black/Gun Metal': 'Black',\n",
    "    'Charcoal Black': 'Charcoal',\n",
    "    'Ebony': 'Brown',\n",
    "    'Ebony Black': 'Black',\n",
    "    'Carbon Black': 'Black',\n",
    "    'Obsidian Black': 'Black',\n",
    "    'Black / Saddle Brown': 'Black',\n",
    "    'Black/Saddle Brown': 'Black',\n",
    "    'Black / Brown': 'Black',\n",
    "    'Saddle Brown': 'Brown',\n",
    "    'Sand Beige': 'Beige',\n",
    "    'Camel': 'Beige',\n",
    "    'Parchment': 'Beige',\n",
    "    'Macchiato Beige/Black': 'Beige',\n",
    "    'Silk Beige/Espresso Brown': 'Beige',\n",
    "    'Canberra Beige': 'Beige',\n",
    "    'Macchiato': 'Beige',\n",
    "    'Almond Beige': 'Beige',\n",
    "    'Grace White': 'White',\n",
    "    'Ivory / Ebony': 'White',\n",
    "    'Bianco Polar': 'White',\n",
    "    'White / Brown': 'White',\n",
    "    'Platinum': 'White',\n",
    "    'Cloud': 'Blue',\n",
    "    'Rift Metallic': 'White',\n",
    "    'Light Platinum / Jet Black': 'Silver',\n",
    "    'Billet Clearcoat Metallic': 'Silver',\n",
    "    'Sakhir Orange': 'Orange',\n",
    "    'Pimento Red w/Ebony': 'Red',\n",
    "    'Adrenaline Red': 'Red',\n",
    "    'Rioja Red': 'Red',\n",
    "    'Classic Red': 'Red',\n",
    "    'Magma Red': 'Red',\n",
    "    'Cobalt Blue': 'Blue',\n",
    "    'Tempest': 'Blue',\n",
    "    'Stormy Sea': 'Blue',\n",
    "    'Navy Pier': 'Blue',\n",
    "    'Charles Blue': 'Blue',\n",
    "    'Rhapsody Blue': 'Blue',\n",
    "    'Kyalami Orange': 'Orange',\n",
    "    'Sakhir Orange/Black': 'Orange',\n",
    "    'Dark Gray': 'Gray',\n",
    "    'Deep Garnet': 'Red',\n",
    "    'Scarlet Ember': 'Red',\n",
    "    'Beluga': 'Blue',\n",
    "    'Chestnut': 'Brown',\n",
    "    'Boulder': 'Gray',\n",
    "    'Macchiato/Magmagrey': 'Beige',\n",
    "    'Medium Stone': 'Gray',\n",
    "    'BLACK': 'Black',\n",
    "    'Portland': 'Gray',\n",
    "    'Sandstone': 'Beige',\n",
    "    'Slate': 'Gray',\n",
    "    'Cappuccino': 'Brown',\n",
    "    'Oyster W/Contrast': 'Beige',\n",
    "    'Nero Ade': 'Black',\n",
    "    'Light Titanium': 'Silver',\n",
    "    'Tan': 'Beige',\n",
    "    'Brandy': 'Brown',\n",
    "    'Amber': 'Yellow',\n",
    "    'Hotspur': 'Blue',\n",
    "    'Chateau': 'Green',\n",
    "    'Ice': 'Blue',\n",
    "    'Blk': 'Black',\n",
    "    'Mesa': 'Brown',\n",
    "    'Espresso': 'Brown',\n",
    "    'Ceramic': 'White',\n",
    "    'Medium Dark Slate': 'Gray',\n",
    "    'Graphite w/Gun Metal': 'Gray',\n",
    "    'Cocoa / Dune': 'Brown',\n",
    "    'Roast': 'Brown',\n",
    "    'Hotspur Hide': 'Brown',\n",
    "    'ORANGE': 'Orange',\n",
    "    'Walnut': 'Brown',\n",
    "    'Caramel': 'Beige',\n",
    "    'Giallo Taurus / Nero Ade': 'Yellow',\n",
    "    'Medium Pewter': 'Gray',\n",
    "    'Camel Leather': 'Brown',\n",
    "    'Anthracite': 'Gray',\n",
    "    'Mocha': 'Brown',\n",
    "    'Sahara Tan': 'Beige',\n",
    "    'Porpoise': 'Beige',\n",
    "    'Deep Cypress': 'Green',\n",
    "    'Light Slate': 'Gray',\n",
    "    'Beluga Hide': 'Black',\n",
    "    'Tupelo': 'Green',\n",
    "    'Gideon': 'Beige',\n",
    "    'Medium Light Camel': 'Beige',\n",
    "    'Nero': 'Black',\n",
    "    'Deep Chestnut': 'Red',\n",
    "    'Dark Auburn': 'Brown',\n",
    "    'Shale': 'Gray',\n",
    "    'BEIGE': 'Beige',\n",
    "    'Linen': 'Beige',\n",
    "    'WHITE': 'White'\n",
    "}\n",
    "ext_replacements = {\n",
    "    'Blu': 'Blue',\n",
    "    'BLUE': 'Blue',\n",
    "    'Glacier': 'Blue',\n",
    "    'BLU ELEOS': 'Blue',\n",
    "    'Dark Sapphire': 'Navy',\n",
    "    'Tangerine': 'Orange',\n",
    "    'Pumpkin': 'Orange',\n",
    "    'Clementine': 'Orange',\n",
    "    'Granite': 'Gray',\n",
    "    'Go Mango!': 'Yellow',\n",
    "    'Onyx': 'Black',\n",
    "    'Gecko Pearlcoat': 'Green',\n",
    "    'Obsidian': 'Black',\n",
    "    'Metallic': 'Silver',\n",
    "    'Grigio Nimbus': 'Silver',\n",
    "    'Chalk': 'White',\n",
    "    'Bianco Monocerus': 'White',\n",
    "    'Verde': 'Green',\n",
    "    'Dark Graphite Metallic': 'Gray',\n",
    "    'BLACK': 'Black',\n",
    "    'Dark Moss': 'Green',\n",
    "    'Granite Crystal Clearcoat Metallic': 'Gray',\n",
    "    'Ebony Twilight Metallic': 'Black',\n",
    "    'Satin Steel Metallic': 'Silver',\n",
    "    'Magnetic Metallic': 'Gray',\n",
    "    'Dark Matter Metallic': 'Gray',\n",
    "    'Dark Ash Metallic': 'Gray',\n",
    "    'Iridium Metallic': 'Gray',\n",
    "    'Nightfall Mica': 'Navy',\n",
    "    'Sandstone Metallic': 'Beige',\n",
    "    'Rift Metallic': 'White',\n",
    "    'Billet Clearcoat Metallic': 'Silver',\n",
    "    'Tan': 'Beige',\n",
    "    'Ice': 'Blue',\n",
    "    'Hellayella': 'Yellow',\n",
    "    'Granite': 'Gray',\n",
    "    'Yulong': 'White',\n",
    "    'Blueprint': 'Navy',\n",
    "    'Arancio Borealis': 'Orange',\n",
    "    'Hellayella Clearcoat': 'Yellow',\n",
    "    'Moonlight Cloud': 'Navy',\n",
    "    'Liquid Platinum': 'Silver',\n",
    "    'Gun Metallic': 'Gray',\n",
    "    'Manhattan Noir Metallic': 'Gray',\n",
    "    'Lavender': 'Purple',\n",
    "    'Violet': 'Purple',\n",
    "    'Pink': 'Purple',\n",
    "    'Mauve': 'Plum',\n",
    "    'Tempest': 'Blue',\n",
    "    'Nero Daytona': 'Black',\n",
    "    'Scarlet Ember': 'Red',\n",
    "    'Infrared Tintcoat': 'Red',\n",
    "    'Maximum Steel Metallic': 'Gray',\n",
    "    'Ember Pearlcoat': 'Brown',\n",
    "    'Rich Garnet Metallic': 'Brown',\n",
    "    'Tungsten Metallic': 'Gray',\n",
    "    'Nero Noctis': 'Black',\n",
    "    'Platinum Quartz Metallic': 'White',\n",
    "    'Ruby Flare Pearl': 'Red',\n",
    "    'Bianco Icarus Metallic': 'White',\n",
    "    'Stormy Sea': 'Blue',\n",
    "    'Mountain Air Metallic': 'Blue',\n",
    "    'Wind Chill Pearl': 'White',\n",
    "    'Iridescent Pearl Tricoat': 'White',\n",
    "    'Black Cherry': 'Plum',\n",
    "    'Black Forest Green': 'Green',\n",
    "    'Maroon': 'Red',\n",
    "    'Rosso': 'Red',\n",
    "    'Rosso Corsa': 'Red',\n",
    "    'Rosso Mars Metallic': 'Red',\n",
    "    'Quicksilver Metallic': 'Silver',\n",
    "    'Designo Magno Matte': 'Gray',\n",
    "    'Granite Crystal Metallic Clearcoat': 'Gray',\n",
    "    'Bianco Isis': 'White',\n",
    "    'Sunset Drift Chromaflair': 'Orange',\n",
    "    'Ametrin Metallic': 'Plum',\n",
    "    'GT SILVER': 'Silver',\n",
    "    'Caviar': 'Black'\n",
    "}"
   ]
  },
  {
   "cell_type": "code",
   "execution_count": 240,
   "metadata": {
    "execution": {
     "iopub.execute_input": "2024-09-28T11:33:11.356693Z",
     "iopub.status.busy": "2024-09-28T11:33:11.356148Z",
     "iopub.status.idle": "2024-09-28T11:33:14.606573Z",
     "shell.execute_reply": "2024-09-28T11:33:14.605204Z",
     "shell.execute_reply.started": "2024-09-28T11:33:11.356644Z"
    }
   },
   "outputs": [],
   "source": [
    "def standardize_and_extract_colors(df, int_replacements, ext_replacements):\n",
    "    # Convert all keys and values in the replacement dictionaries to lowercase\n",
    "    int_replacements = {k.lower(): v.lower() for k, v in int_replacements.items()}\n",
    "    ext_replacements = {k.lower(): v.lower() for k, v in ext_replacements.items()}\n",
    "\n",
    "    # Step 1: Convert 'int_col' and 'ext_col' to lowercase\n",
    "    df['int_col'] = df['int_col'].str.lower()\n",
    "    df['ext_col'] = df['ext_col'].str.lower()\n",
    "\n",
    "    # Step 2: Apply specific color replacements to standardize color names\n",
    "    df['int_col'] = df['int_col'].replace(int_replacements)\n",
    "    df['ext_col'] = df['ext_col'].replace(ext_replacements)\n",
    "\n",
    "    # Define a list of common base colors\n",
    "    base_colors = [\n",
    "        'black', 'white', 'gray', 'silver', 'brown', 'red', 'blue', 'green',\n",
    "        'beige', 'tan', 'orange', 'yellow', 'purple', 'plum', 'charcoal', \n",
    "        'ivory', 'camel', 'chestnut', 'pearl', 'linen', 'graphite', 'copper', \n",
    "        'slate', 'bronze', 'sand', 'amber', 'macchiato', 'ebony', 'cocoa', 'navy'\n",
    "    ]\n",
    "    \n",
    "    # Function to find base color\n",
    "    def find_base_color(text):\n",
    "        for color in base_colors:\n",
    "            if color in text:\n",
    "                return color\n",
    "        return 'other'  # Return 'other' if no base color is found\n",
    "    \n",
    "    # Step 3: Apply base color extraction after standardization\n",
    "    df['int_col'] = df['int_col'].apply(find_base_color)\n",
    "    df['ext_col'] = df['ext_col'].apply(find_base_color)\n",
    "\n",
    "    return df\n",
    "\n",
    "# Apply the function to your datasets\n",
    "df = standardize_and_extract_colors(df, int_replacements, ext_replacements)\n",
    "dt = standardize_and_extract_colors(dt, int_replacements, ext_replacements)"
   ]
  },
  {
   "cell_type": "code",
   "execution_count": 241,
   "metadata": {
    "execution": {
     "iopub.execute_input": "2024-09-28T11:33:14.608663Z",
     "iopub.status.busy": "2024-09-28T11:33:14.608178Z",
     "iopub.status.idle": "2024-09-28T11:33:14.632119Z",
     "shell.execute_reply": "2024-09-28T11:33:14.630884Z",
     "shell.execute_reply.started": "2024-09-28T11:33:14.608610Z"
    }
   },
   "outputs": [
    {
     "data": {
      "text/html": [
       "<div>\n",
       "<style scoped>\n",
       "    .dataframe tbody tr th:only-of-type {\n",
       "        vertical-align: middle;\n",
       "    }\n",
       "\n",
       "    .dataframe tbody tr th {\n",
       "        vertical-align: top;\n",
       "    }\n",
       "\n",
       "    .dataframe thead th {\n",
       "        text-align: right;\n",
       "    }\n",
       "</style>\n",
       "<table border=\"1\" class=\"dataframe\">\n",
       "  <thead>\n",
       "    <tr style=\"text-align: right;\">\n",
       "      <th></th>\n",
       "      <th>brand</th>\n",
       "      <th>fuel_type</th>\n",
       "      <th>ext_col</th>\n",
       "      <th>int_col</th>\n",
       "      <th>clean_title</th>\n",
       "    </tr>\n",
       "  </thead>\n",
       "  <tbody>\n",
       "    <tr>\n",
       "      <th>0</th>\n",
       "      <td>mini</td>\n",
       "      <td>Gasoline</td>\n",
       "      <td>white</td>\n",
       "      <td>beige</td>\n",
       "      <td>Yes</td>\n",
       "    </tr>\n",
       "    <tr>\n",
       "      <th>1</th>\n",
       "      <td>lincoln</td>\n",
       "      <td>Hybrid</td>\n",
       "      <td>silver</td>\n",
       "      <td>black</td>\n",
       "      <td>Yes</td>\n",
       "    </tr>\n",
       "  </tbody>\n",
       "</table>\n",
       "</div>"
      ],
      "text/plain": [
       "     brand fuel_type ext_col int_col clean_title\n",
       "0     mini  Gasoline   white   beige         Yes\n",
       "1  lincoln    Hybrid  silver   black         Yes"
      ]
     },
     "execution_count": 241,
     "metadata": {},
     "output_type": "execute_result"
    }
   ],
   "source": [
    "dt[categorical].head(2)"
   ]
  },
  {
   "cell_type": "code",
   "execution_count": 242,
   "metadata": {
    "execution": {
     "iopub.execute_input": "2024-09-28T11:33:14.634243Z",
     "iopub.status.busy": "2024-09-28T11:33:14.633696Z",
     "iopub.status.idle": "2024-09-28T11:33:14.658560Z",
     "shell.execute_reply": "2024-09-28T11:33:14.657259Z",
     "shell.execute_reply.started": "2024-09-28T11:33:14.634202Z"
    }
   },
   "outputs": [
    {
     "data": {
      "text/plain": [
       "array(['Yes', 'missing'], dtype=object)"
      ]
     },
     "execution_count": 242,
     "metadata": {},
     "output_type": "execute_result"
    }
   ],
   "source": [
    "df['clean_title'].unique()"
   ]
  },
  {
   "cell_type": "code",
   "execution_count": 243,
   "metadata": {
    "execution": {
     "iopub.execute_input": "2024-09-28T11:33:14.672817Z",
     "iopub.status.busy": "2024-09-28T11:33:14.672361Z",
     "iopub.status.idle": "2024-09-28T11:33:14.680150Z",
     "shell.execute_reply": "2024-09-28T11:33:14.678893Z",
     "shell.execute_reply.started": "2024-09-28T11:33:14.672776Z"
    }
   },
   "outputs": [
    {
     "name": "stdout",
     "output_type": "stream",
     "text": [
      "There are 7 numerical variables\n",
      "\n",
      "The numerical variables are : ['Age', 'milage', 'accident', 'price', 'horsepower', 'engine_capacity', 'cylinders']\n"
     ]
    }
   ],
   "source": [
    "# find numerical variables\n",
    "\n",
    "numerical = [var for var in df.columns if df[var].dtype!='O']\n",
    "\n",
    "print('There are {} numerical variables\\n'.format(len(numerical)))\n",
    "\n",
    "print('The numerical variables are :', numerical)"
   ]
  },
  {
   "cell_type": "code",
   "execution_count": 244,
   "metadata": {
    "execution": {
     "iopub.execute_input": "2024-09-28T11:33:14.682328Z",
     "iopub.status.busy": "2024-09-28T11:33:14.681912Z",
     "iopub.status.idle": "2024-09-28T11:33:14.698281Z",
     "shell.execute_reply": "2024-09-28T11:33:14.697146Z",
     "shell.execute_reply.started": "2024-09-28T11:33:14.682287Z"
    }
   },
   "outputs": [
    {
     "data": {
      "text/plain": [
       "Age\n",
       "4     17811\n",
       "7     16233\n",
       "5     15587\n",
       "3     15430\n",
       "6     15211\n",
       "9     13548\n",
       "8     12677\n",
       "10    11286\n",
       "2      8584\n",
       "11     8327\n",
       "12     6736\n",
       "14     6214\n",
       "13     6038\n",
       "17     5109\n",
       "18     4837\n",
       "15     4204\n",
       "20     3091\n",
       "19     2794\n",
       "16     2694\n",
       "21     2553\n",
       "22     1887\n",
       "24     1517\n",
       "23     1264\n",
       "25      552\n",
       "26      552\n",
       "27      337\n",
       "28      312\n",
       "29      187\n",
       "1       158\n",
       "32      136\n",
       "30      100\n",
       "31       92\n",
       "33       13\n",
       "51       10\n",
       "Name: count, dtype: int64"
      ]
     },
     "execution_count": 244,
     "metadata": {},
     "output_type": "execute_result"
    }
   ],
   "source": [
    "df['Age'].value_counts()"
   ]
  },
  {
   "cell_type": "code",
   "execution_count": 245,
   "metadata": {
    "execution": {
     "iopub.execute_input": "2024-09-28T11:33:14.700055Z",
     "iopub.status.busy": "2024-09-28T11:33:14.699644Z",
     "iopub.status.idle": "2024-09-28T11:33:14.729200Z",
     "shell.execute_reply": "2024-09-28T11:33:14.727820Z",
     "shell.execute_reply.started": "2024-09-28T11:33:14.700009Z"
    }
   },
   "outputs": [
    {
     "data": {
      "text/html": [
       "<div>\n",
       "<style scoped>\n",
       "    .dataframe tbody tr th:only-of-type {\n",
       "        vertical-align: middle;\n",
       "    }\n",
       "\n",
       "    .dataframe tbody tr th {\n",
       "        vertical-align: top;\n",
       "    }\n",
       "\n",
       "    .dataframe thead th {\n",
       "        text-align: right;\n",
       "    }\n",
       "</style>\n",
       "<table border=\"1\" class=\"dataframe\">\n",
       "  <thead>\n",
       "    <tr style=\"text-align: right;\">\n",
       "      <th></th>\n",
       "      <th>Age</th>\n",
       "      <th>milage</th>\n",
       "      <th>accident</th>\n",
       "      <th>price</th>\n",
       "      <th>horsepower</th>\n",
       "      <th>engine_capacity</th>\n",
       "      <th>cylinders</th>\n",
       "    </tr>\n",
       "  </thead>\n",
       "  <tbody>\n",
       "    <tr>\n",
       "      <th>0</th>\n",
       "      <td>18</td>\n",
       "      <td>213000</td>\n",
       "      <td>0.0</td>\n",
       "      <td>4200</td>\n",
       "      <td>172.0</td>\n",
       "      <td>1.6</td>\n",
       "      <td>4.0</td>\n",
       "    </tr>\n",
       "    <tr>\n",
       "      <th>1</th>\n",
       "      <td>23</td>\n",
       "      <td>143250</td>\n",
       "      <td>1.0</td>\n",
       "      <td>4999</td>\n",
       "      <td>252.0</td>\n",
       "      <td>3.9</td>\n",
       "      <td>8.0</td>\n",
       "    </tr>\n",
       "    <tr>\n",
       "      <th>2</th>\n",
       "      <td>23</td>\n",
       "      <td>136731</td>\n",
       "      <td>0.0</td>\n",
       "      <td>13900</td>\n",
       "      <td>320.0</td>\n",
       "      <td>5.3</td>\n",
       "      <td>8.0</td>\n",
       "    </tr>\n",
       "    <tr>\n",
       "      <th>3</th>\n",
       "      <td>8</td>\n",
       "      <td>19500</td>\n",
       "      <td>0.0</td>\n",
       "      <td>45000</td>\n",
       "      <td>420.0</td>\n",
       "      <td>5.0</td>\n",
       "      <td>8.0</td>\n",
       "    </tr>\n",
       "    <tr>\n",
       "      <th>4</th>\n",
       "      <td>4</td>\n",
       "      <td>7388</td>\n",
       "      <td>0.0</td>\n",
       "      <td>97500</td>\n",
       "      <td>208.0</td>\n",
       "      <td>2.0</td>\n",
       "      <td>4.0</td>\n",
       "    </tr>\n",
       "  </tbody>\n",
       "</table>\n",
       "</div>"
      ],
      "text/plain": [
       "   Age  milage  accident  price  horsepower  engine_capacity  cylinders\n",
       "0   18  213000       0.0   4200       172.0              1.6        4.0\n",
       "1   23  143250       1.0   4999       252.0              3.9        8.0\n",
       "2   23  136731       0.0  13900       320.0              5.3        8.0\n",
       "3    8   19500       0.0  45000       420.0              5.0        8.0\n",
       "4    4    7388       0.0  97500       208.0              2.0        4.0"
      ]
     },
     "execution_count": 245,
     "metadata": {},
     "output_type": "execute_result"
    }
   ],
   "source": [
    "# view the numerical variables\n",
    "\n",
    "df[numerical].head()"
   ]
  },
  {
   "cell_type": "code",
   "execution_count": 246,
   "metadata": {
    "execution": {
     "iopub.execute_input": "2024-09-28T11:33:14.731066Z",
     "iopub.status.busy": "2024-09-28T11:33:14.730615Z",
     "iopub.status.idle": "2024-09-28T11:33:14.754297Z",
     "shell.execute_reply": "2024-09-28T11:33:14.753091Z",
     "shell.execute_reply.started": "2024-09-28T11:33:14.731017Z"
    }
   },
   "outputs": [
    {
     "data": {
      "text/plain": [
       "Age                    0\n",
       "milage                 0\n",
       "accident               0\n",
       "price                  0\n",
       "horsepower         32428\n",
       "engine_capacity    14078\n",
       "cylinders          36977\n",
       "dtype: int64"
      ]
     },
     "execution_count": 246,
     "metadata": {},
     "output_type": "execute_result"
    }
   ],
   "source": [
    "df[numerical].isnull().sum()"
   ]
  },
  {
   "cell_type": "code",
   "execution_count": 247,
   "metadata": {
    "execution": {
     "iopub.execute_input": "2024-09-28T11:33:14.756269Z",
     "iopub.status.busy": "2024-09-28T11:33:14.755819Z",
     "iopub.status.idle": "2024-09-28T11:33:17.991065Z",
     "shell.execute_reply": "2024-09-28T11:33:17.989917Z",
     "shell.execute_reply.started": "2024-09-28T11:33:14.756222Z"
    }
   },
   "outputs": [
    {
     "data": {
      "text/plain": [
       "<Axes: xlabel='horsepower', ylabel='Density'>"
      ]
     },
     "execution_count": 247,
     "metadata": {},
     "output_type": "execute_result"
    },
    {
     "data": {
      "text/plain": [
       "Text(0.5, 1.0, 'Density Plot of horsepower')"
      ]
     },
     "execution_count": 247,
     "metadata": {},
     "output_type": "execute_result"
    },
    {
     "data": {
      "text/plain": [
       "Text(0.5, 0, 'horsepower')"
      ]
     },
     "execution_count": 247,
     "metadata": {},
     "output_type": "execute_result"
    },
    {
     "data": {
      "text/plain": [
       "Text(0, 0.5, 'Density')"
      ]
     },
     "execution_count": 247,
     "metadata": {},
     "output_type": "execute_result"
    },
    {
     "data": {
      "text/plain": [
       "<matplotlib.legend.Legend at 0x78df013ddab0>"
      ]
     },
     "execution_count": 247,
     "metadata": {},
     "output_type": "execute_result"
    },
    {
     "data": {
      "image/png": "[encoded data removed]",
      "text/plain": [
       "<Figure size 640x480 with 1 Axes>"
      ]
     },
     "metadata": {},
     "output_type": "display_data"
    },
    {
     "data": {
      "text/plain": [
       "<Axes: xlabel='engine_capacity', ylabel='Density'>"
      ]
     },
     "execution_count": 247,
     "metadata": {},
     "output_type": "execute_result"
    },
    {
     "data": {
      "text/plain": [
       "Text(0.5, 1.0, 'Density Plot of engine_capacity')"
      ]
     },
     "execution_count": 247,
     "metadata": {},
     "output_type": "execute_result"
    },
    {
     "data": {
      "text/plain": [
       "Text(0.5, 0, 'engine_capacity')"
      ]
     },
     "execution_count": 247,
     "metadata": {},
     "output_type": "execute_result"
    },
    {
     "data": {
      "text/plain": [
       "Text(0, 0.5, 'Density')"
      ]
     },
     "execution_count": 247,
     "metadata": {},
     "output_type": "execute_result"
    },
    {
     "data": {
      "text/plain": [
       "<matplotlib.legend.Legend at 0x78df00f0d270>"
      ]
     },
     "execution_count": 247,
     "metadata": {},
     "output_type": "execute_result"
    },
    {
     "data": {
      "image/png": "[encoded data removed]",
      "text/plain": [
       "<Figure size 640x480 with 1 Axes>"
      ]
     },
     "metadata": {},
     "output_type": "display_data"
    },
    {
     "data": {
      "text/plain": [
       "<Axes: xlabel='cylinders', ylabel='Density'>"
      ]
     },
     "execution_count": 247,
     "metadata": {},
     "output_type": "execute_result"
    },
    {
     "data": {
      "text/plain": [
       "Text(0.5, 1.0, 'Density Plot of cylinders')"
      ]
     },
     "execution_count": 247,
     "metadata": {},
     "output_type": "execute_result"
    },
    {
     "data": {
      "text/plain": [
       "Text(0.5, 0, 'cylinders')"
      ]
     },
     "execution_count": 247,
     "metadata": {},
     "output_type": "execute_result"
    },
    {
     "data": {
      "text/plain": [
       "Text(0, 0.5, 'Density')"
      ]
     },
     "execution_count": 247,
     "metadata": {},
     "output_type": "execute_result"
    },
    {
     "data": {
      "text/plain": [
       "<matplotlib.legend.Legend at 0x78df00f44d00>"
      ]
     },
     "execution_count": 247,
     "metadata": {},
     "output_type": "execute_result"
    },
    {
     "data": {
      "image/png": "[encoded data removed]",
      "text/plain": [
       "<Figure size 640x480 with 1 Axes>"
      ]
     },
     "metadata": {},
     "output_type": "display_data"
    }
   ],
   "source": [
    "# Import necessary libraries\n",
    "import matplotlib.pyplot as plt\n",
    "import seaborn as sns\n",
    "\n",
    "# List of columns to plot\n",
    "columns = ['horsepower', 'engine_capacity', 'cylinders']\n",
    "\n",
    "# Loop through the columns and create separate density plots\n",
    "for col in columns:\n",
    "    fig = plt.figure()  # Create a new figure\n",
    "    ax = fig.add_subplot(111)  # Add a subplot\n",
    "    sns.kdeplot(df[col], ax=ax, label=col)  # Density plot with label\n",
    "\n",
    "    # Add title and labels\n",
    "    ax.set_title(f'Density Plot of {col}', fontsize=15)\n",
    "    ax.set_xlabel(col, fontsize=12)\n",
    "    ax.set_ylabel('Density', fontsize=12)\n",
    "\n",
    "    # Add legend\n",
    "    lines, labels = ax.get_legend_handles_labels()\n",
    "    ax.legend(lines, labels, loc='best')\n",
    "\n",
    "    plt.show();  # Show the plot for each column\n"
   ]
  },
  {
   "cell_type": "code",
   "execution_count": 248,
   "metadata": {
    "execution": {
     "iopub.execute_input": "2024-09-28T11:33:17.993697Z",
     "iopub.status.busy": "2024-09-28T11:33:17.992585Z",
     "iopub.status.idle": "2024-09-28T11:33:18.004364Z",
     "shell.execute_reply": "2024-09-28T11:33:18.003198Z",
     "shell.execute_reply.started": "2024-09-28T11:33:17.993645Z"
    }
   },
   "outputs": [
    {
     "data": {
      "text/plain": [
       "array([ 4.,  8.,  6., nan, 10., 12.,  5.,  3.])"
      ]
     },
     "execution_count": 248,
     "metadata": {},
     "output_type": "execute_result"
    }
   ],
   "source": [
    "df['cylinders'].unique()"
   ]
  },
  {
   "cell_type": "code",
   "execution_count": 249,
   "metadata": {
    "execution": {
     "iopub.execute_input": "2024-09-28T11:33:18.006282Z",
     "iopub.status.busy": "2024-09-28T11:33:18.005774Z",
     "iopub.status.idle": "2024-09-28T11:33:18.019938Z",
     "shell.execute_reply": "2024-09-28T11:33:18.018648Z",
     "shell.execute_reply.started": "2024-09-28T11:33:18.006231Z"
    }
   },
   "outputs": [
    {
     "data": {
      "text/plain": [
       "cylinders\n",
       "6.0     65593\n",
       "8.0     52038\n",
       "4.0     28777\n",
       "12.0     1248\n",
       "10.0      688\n",
       "5.0       617\n",
       "3.0       143\n",
       "Name: count, dtype: int64"
      ]
     },
     "execution_count": 249,
     "metadata": {},
     "output_type": "execute_result"
    }
   ],
   "source": [
    "df['cylinders'].value_counts()"
   ]
  },
  {
   "cell_type": "markdown",
   "metadata": {},
   "source": [
    "## Imputing Cylinders Column Nan values with the Missing Category as number of Nan is very HIGH."
   ]
  },
  {
   "cell_type": "code",
   "execution_count": 250,
   "metadata": {
    "execution": {
     "iopub.execute_input": "2024-09-28T11:33:18.021694Z",
     "iopub.status.busy": "2024-09-28T11:33:18.021328Z",
     "iopub.status.idle": "2024-09-28T11:33:18.036264Z",
     "shell.execute_reply": "2024-09-28T11:33:18.035062Z",
     "shell.execute_reply.started": "2024-09-28T11:33:18.021659Z"
    }
   },
   "outputs": [
    {
     "data": {
      "text/plain": [
       "0.801285461707536"
      ]
     },
     "execution_count": 250,
     "metadata": {},
     "output_type": "execute_result"
    }
   ],
   "source": [
    "# 20% of values are missing in cylinder\n",
    "len(df['cylinders'].dropna()) / len(df)"
   ]
  },
  {
   "cell_type": "code",
   "execution_count": 251,
   "metadata": {
    "execution": {
     "iopub.execute_input": "2024-09-28T11:33:18.038122Z",
     "iopub.status.busy": "2024-09-28T11:33:18.037730Z",
     "iopub.status.idle": "2024-09-28T11:33:18.043142Z",
     "shell.execute_reply": "2024-09-28T11:33:18.042100Z",
     "shell.execute_reply.started": "2024-09-28T11:33:18.038082Z"
    }
   },
   "outputs": [],
   "source": [
    "#from sklearn.impute import MissingIndicator\n",
    "#mi = MissingIndicator(features='cylinders')\n",
    "\n",
    "#mi.fit(df)\n",
    "\n",
    "# Can' be Appied as InvalidParameterError: The 'features' parameter of MissingIndicator must be a str among {'all', 'missing-only'}.\n",
    "# Got 'cylinders' instead. This can't be applied as missing indicator will be applied to all columns only"
   ]
  },
  {
   "cell_type": "code",
   "execution_count": 252,
   "metadata": {
    "execution": {
     "iopub.execute_input": "2024-09-28T11:33:18.044814Z",
     "iopub.status.busy": "2024-09-28T11:33:18.044496Z",
     "iopub.status.idle": "2024-09-28T11:33:18.143294Z",
     "shell.execute_reply": "2024-09-28T11:33:18.142229Z",
     "shell.execute_reply.started": "2024-09-28T11:33:18.044781Z"
    }
   },
   "outputs": [
    {
     "data": {
      "text/plain": [
       "Age                    0\n",
       "brand                  0\n",
       "milage                 0\n",
       "fuel_type            779\n",
       "ext_col                0\n",
       "int_col                0\n",
       "accident               0\n",
       "clean_title            0\n",
       "price                  0\n",
       "horsepower         32428\n",
       "engine_capacity    14078\n",
       "cylinders          36977\n",
       "dtype: int64"
      ]
     },
     "execution_count": 252,
     "metadata": {},
     "output_type": "execute_result"
    },
    {
     "data": {
      "text/plain": [
       "Age                    0\n",
       "brand               1625\n",
       "milage                 0\n",
       "fuel_type           3383\n",
       "ext_col                0\n",
       "int_col                0\n",
       "accident            1632\n",
       "clean_title            0\n",
       "horsepower         23194\n",
       "engine_capacity    10948\n",
       "cylinders          26179\n",
       "dtype: int64"
      ]
     },
     "execution_count": 252,
     "metadata": {},
     "output_type": "execute_result"
    }
   ],
   "source": [
    "df.isna().sum()\n",
    "dt.isna().sum()"
   ]
  },
  {
   "cell_type": "code",
   "execution_count": 253,
   "metadata": {
    "execution": {
     "iopub.execute_input": "2024-09-28T11:33:18.145537Z",
     "iopub.status.busy": "2024-09-28T11:33:18.145114Z",
     "iopub.status.idle": "2024-09-28T11:33:18.169371Z",
     "shell.execute_reply": "2024-09-28T11:33:18.167990Z",
     "shell.execute_reply.started": "2024-09-28T11:33:18.145491Z"
    }
   },
   "outputs": [
    {
     "data": {
      "text/html": [
       "<div>\n",
       "<style scoped>\n",
       "    .dataframe tbody tr th:only-of-type {\n",
       "        vertical-align: middle;\n",
       "    }\n",
       "\n",
       "    .dataframe tbody tr th {\n",
       "        vertical-align: top;\n",
       "    }\n",
       "\n",
       "    .dataframe thead th {\n",
       "        text-align: right;\n",
       "    }\n",
       "</style>\n",
       "<table border=\"1\" class=\"dataframe\">\n",
       "  <thead>\n",
       "    <tr style=\"text-align: right;\">\n",
       "      <th></th>\n",
       "      <th>Age</th>\n",
       "      <th>brand</th>\n",
       "      <th>milage</th>\n",
       "      <th>fuel_type</th>\n",
       "      <th>ext_col</th>\n",
       "      <th>int_col</th>\n",
       "      <th>accident</th>\n",
       "      <th>clean_title</th>\n",
       "      <th>price</th>\n",
       "      <th>horsepower</th>\n",
       "      <th>engine_capacity</th>\n",
       "      <th>cylinders</th>\n",
       "    </tr>\n",
       "  </thead>\n",
       "  <tbody>\n",
       "    <tr>\n",
       "      <th>134434</th>\n",
       "      <td>4</td>\n",
       "      <td>mazda</td>\n",
       "      <td>45303</td>\n",
       "      <td>Gasoline</td>\n",
       "      <td>blue</td>\n",
       "      <td>black</td>\n",
       "      <td>1.0</td>\n",
       "      <td>Yes</td>\n",
       "      <td>25900</td>\n",
       "      <td>NaN</td>\n",
       "      <td>2.0</td>\n",
       "      <td>NaN</td>\n",
       "    </tr>\n",
       "    <tr>\n",
       "      <th>19642</th>\n",
       "      <td>5</td>\n",
       "      <td>land</td>\n",
       "      <td>29336</td>\n",
       "      <td>Gasoline</td>\n",
       "      <td>silver</td>\n",
       "      <td>brown</td>\n",
       "      <td>0.0</td>\n",
       "      <td>missing</td>\n",
       "      <td>44249</td>\n",
       "      <td>NaN</td>\n",
       "      <td>5.0</td>\n",
       "      <td>NaN</td>\n",
       "    </tr>\n",
       "    <tr>\n",
       "      <th>33077</th>\n",
       "      <td>7</td>\n",
       "      <td>chevrolet</td>\n",
       "      <td>72393</td>\n",
       "      <td>Gasoline</td>\n",
       "      <td>black</td>\n",
       "      <td>black</td>\n",
       "      <td>0.0</td>\n",
       "      <td>Yes</td>\n",
       "      <td>42000</td>\n",
       "      <td>355.0</td>\n",
       "      <td>5.3</td>\n",
       "      <td>8.0</td>\n",
       "    </tr>\n",
       "  </tbody>\n",
       "</table>\n",
       "</div>"
      ],
      "text/plain": [
       "        Age      brand  milage fuel_type ext_col int_col  accident  \\\n",
       "134434    4      mazda   45303  Gasoline    blue   black       1.0   \n",
       "19642     5       land   29336  Gasoline  silver   brown       0.0   \n",
       "33077     7  chevrolet   72393  Gasoline   black   black       0.0   \n",
       "\n",
       "       clean_title  price  horsepower  engine_capacity  cylinders  \n",
       "134434         Yes  25900         NaN              2.0        NaN  \n",
       "19642      missing  44249         NaN              5.0        NaN  \n",
       "33077          Yes  42000       355.0              5.3        8.0  "
      ]
     },
     "execution_count": 253,
     "metadata": {},
     "output_type": "execute_result"
    }
   ],
   "source": [
    "df.sample(3)"
   ]
  },
  {
   "cell_type": "code",
   "execution_count": 254,
   "metadata": {
    "execution": {
     "iopub.execute_input": "2024-09-28T11:33:18.171456Z",
     "iopub.status.busy": "2024-09-28T11:33:18.170951Z",
     "iopub.status.idle": "2024-09-28T11:33:18.287691Z",
     "shell.execute_reply": "2024-09-28T11:33:18.286586Z",
     "shell.execute_reply.started": "2024-09-28T11:33:18.171388Z"
    }
   },
   "outputs": [
    {
     "data": {
      "text/html": [
       "<div>\n",
       "<style scoped>\n",
       "    .dataframe tbody tr th:only-of-type {\n",
       "        vertical-align: middle;\n",
       "    }\n",
       "\n",
       "    .dataframe tbody tr th {\n",
       "        vertical-align: top;\n",
       "    }\n",
       "\n",
       "    .dataframe thead th {\n",
       "        text-align: right;\n",
       "    }\n",
       "</style>\n",
       "<table border=\"1\" class=\"dataframe\">\n",
       "  <thead>\n",
       "    <tr style=\"text-align: right;\">\n",
       "      <th></th>\n",
       "      <th>Age</th>\n",
       "      <th>brand</th>\n",
       "      <th>milage</th>\n",
       "      <th>fuel_type</th>\n",
       "      <th>ext_col</th>\n",
       "      <th>int_col</th>\n",
       "      <th>accident</th>\n",
       "      <th>clean_title</th>\n",
       "      <th>horsepower</th>\n",
       "      <th>engine_capacity</th>\n",
       "      <th>cylinders</th>\n",
       "      <th>price</th>\n",
       "    </tr>\n",
       "  </thead>\n",
       "  <tbody>\n",
       "    <tr>\n",
       "      <th>118695</th>\n",
       "      <td>4</td>\n",
       "      <td>bmw</td>\n",
       "      <td>25500</td>\n",
       "      <td>Gasoline</td>\n",
       "      <td>black</td>\n",
       "      <td>black</td>\n",
       "      <td>0.0</td>\n",
       "      <td>Yes</td>\n",
       "      <td>600.0</td>\n",
       "      <td>4.4</td>\n",
       "      <td>8.0</td>\n",
       "      <td>55000</td>\n",
       "    </tr>\n",
       "  </tbody>\n",
       "</table>\n",
       "</div>"
      ],
      "text/plain": [
       "        Age brand  milage fuel_type ext_col int_col  accident clean_title  \\\n",
       "118695    4   bmw   25500  Gasoline   black   black       0.0         Yes   \n",
       "\n",
       "        horsepower  engine_capacity  cylinders  price  \n",
       "118695       600.0              4.4        8.0  55000  "
      ]
     },
     "execution_count": 254,
     "metadata": {},
     "output_type": "execute_result"
    }
   ],
   "source": [
    "df = pd.concat([df.drop(columns=['price']), df[['price']]], axis=1)\n",
    "df.sample(1)"
   ]
  },
  {
   "cell_type": "markdown",
   "metadata": {},
   "source": [
    "# Making Column transformer for the Data Frame"
   ]
  },
  {
   "cell_type": "code",
   "execution_count": 255,
   "metadata": {
    "execution": {
     "iopub.execute_input": "2024-09-28T11:33:18.289206Z",
     "iopub.status.busy": "2024-09-28T11:33:18.288881Z",
     "iopub.status.idle": "2024-09-28T11:33:18.306396Z",
     "shell.execute_reply": "2024-09-28T11:33:18.304956Z",
     "shell.execute_reply.started": "2024-09-28T11:33:18.289171Z"
    }
   },
   "outputs": [
    {
     "data": {
      "text/plain": [
       "0    Gasoline\n",
       "Name: fuel_type, dtype: object"
      ]
     },
     "execution_count": 255,
     "metadata": {},
     "output_type": "execute_result"
    }
   ],
   "source": [
    "dt['fuel_type'].mode()"
   ]
  },
  {
   "cell_type": "code",
   "execution_count": 256,
   "metadata": {
    "execution": {
     "iopub.execute_input": "2024-09-28T11:33:18.308586Z",
     "iopub.status.busy": "2024-09-28T11:33:18.308107Z",
     "iopub.status.idle": "2024-09-28T11:33:18.316489Z",
     "shell.execute_reply": "2024-09-28T11:33:18.315222Z",
     "shell.execute_reply.started": "2024-09-28T11:33:18.308541Z"
    }
   },
   "outputs": [],
   "source": [
    "# Random sample Imputation for the fuel_type in test data"
   ]
  },
  {
   "cell_type": "code",
   "execution_count": 257,
   "metadata": {
    "execution": {
     "iopub.execute_input": "2024-09-28T11:33:18.318693Z",
     "iopub.status.busy": "2024-09-28T11:33:18.318169Z",
     "iopub.status.idle": "2024-09-28T11:33:18.351131Z",
     "shell.execute_reply": "2024-09-28T11:33:18.349858Z",
     "shell.execute_reply.started": "2024-09-28T11:33:18.318639Z"
    }
   },
   "outputs": [
    {
     "data": {
      "text/plain": [
       "array(['chevrolet', 'audi', 'bmw', ..., 'ford', 'land', 'land'],\n",
       "      dtype=object)"
      ]
     },
     "execution_count": 257,
     "metadata": {},
     "output_type": "execute_result"
    }
   ],
   "source": [
    "dt['brand'].dropna().sample(dt['brand'].isnull().sum()).values"
   ]
  },
  {
   "cell_type": "code",
   "execution_count": 258,
   "metadata": {
    "execution": {
     "iopub.execute_input": "2024-09-28T11:33:18.353712Z",
     "iopub.status.busy": "2024-09-28T11:33:18.353243Z",
     "iopub.status.idle": "2024-09-28T11:33:18.430481Z",
     "shell.execute_reply": "2024-09-28T11:33:18.429482Z",
     "shell.execute_reply.started": "2024-09-28T11:33:18.353661Z"
    }
   },
   "outputs": [],
   "source": [
    "dt['brand'][dt['brand'].isnull()] = dt['brand'].dropna().sample(dt['brand'].isnull().sum()).values\n",
    "df['brand'][df['brand'].isnull()] = df['brand'].dropna().sample(df['brand'].isnull().sum()).values"
   ]
  },
  {
   "cell_type": "markdown",
   "metadata": {},
   "source": [
    "# IMPORTING LIBRARIES"
   ]
  },
  {
   "cell_type": "code",
   "execution_count": 259,
   "metadata": {
    "execution": {
     "iopub.execute_input": "2024-09-28T11:33:18.432691Z",
     "iopub.status.busy": "2024-09-28T11:33:18.432198Z",
     "iopub.status.idle": "2024-09-28T11:33:18.438609Z",
     "shell.execute_reply": "2024-09-28T11:33:18.437521Z",
     "shell.execute_reply.started": "2024-09-28T11:33:18.432644Z"
    }
   },
   "outputs": [],
   "source": [
    "from sklearn.compose import ColumnTransformer\n",
    "from sklearn.impute import KNNImputer,SimpleImputer\n",
    "from sklearn.preprocessing import OneHotEncoder\n",
    "from sklearn.preprocessing import OrdinalEncoder\n",
    "from sklearn.preprocessing import MinMaxScaler\n",
    "from sklearn.pipeline import Pipeline,make_pipeline\n",
    "from sklearn.linear_model import LinearRegression"
   ]
  },
  {
   "cell_type": "code",
   "execution_count": 260,
   "metadata": {
    "execution": {
     "iopub.execute_input": "2024-09-28T11:33:18.440481Z",
     "iopub.status.busy": "2024-09-28T11:33:18.439989Z",
     "iopub.status.idle": "2024-09-28T11:33:18.543529Z",
     "shell.execute_reply": "2024-09-28T11:33:18.542393Z",
     "shell.execute_reply.started": "2024-09-28T11:33:18.440432Z"
    }
   },
   "outputs": [
    {
     "data": {
      "text/plain": [
       "Age                    0\n",
       "brand                  0\n",
       "milage                 0\n",
       "fuel_type            779\n",
       "ext_col                0\n",
       "int_col                0\n",
       "accident               0\n",
       "clean_title            0\n",
       "horsepower         32428\n",
       "engine_capacity    14078\n",
       "cylinders          36977\n",
       "price                  0\n",
       "dtype: int64"
      ]
     },
     "execution_count": 260,
     "metadata": {},
     "output_type": "execute_result"
    },
    {
     "data": {
      "text/plain": [
       "Age                    0\n",
       "brand                  0\n",
       "milage                 0\n",
       "fuel_type           3383\n",
       "ext_col                0\n",
       "int_col                0\n",
       "accident            1632\n",
       "clean_title            0\n",
       "horsepower         23194\n",
       "engine_capacity    10948\n",
       "cylinders          26179\n",
       "dtype: int64"
      ]
     },
     "execution_count": 260,
     "metadata": {},
     "output_type": "execute_result"
    }
   ],
   "source": [
    "df.isnull().sum()\n",
    "dt.isnull().sum()"
   ]
  },
  {
   "cell_type": "code",
   "execution_count": 261,
   "metadata": {
    "execution": {
     "iopub.execute_input": "2024-09-28T11:33:18.545446Z",
     "iopub.status.busy": "2024-09-28T11:33:18.544986Z",
     "iopub.status.idle": "2024-09-28T11:33:18.555262Z",
     "shell.execute_reply": "2024-09-28T11:33:18.554191Z",
     "shell.execute_reply.started": "2024-09-28T11:33:18.545378Z"
    }
   },
   "outputs": [
    {
     "data": {
      "text/plain": [
       "Index(['Age', 'brand', 'milage', 'fuel_type', 'ext_col', 'int_col', 'accident',\n",
       "       'clean_title', 'horsepower', 'engine_capacity', 'cylinders', 'price'],\n",
       "      dtype='object')"
      ]
     },
     "execution_count": 261,
     "metadata": {},
     "output_type": "execute_result"
    },
    {
     "data": {
      "text/plain": [
       "Index(['Age', 'brand', 'milage', 'fuel_type', 'ext_col', 'int_col', 'accident',\n",
       "       'clean_title', 'horsepower', 'engine_capacity', 'cylinders'],\n",
       "      dtype='object')"
      ]
     },
     "execution_count": 261,
     "metadata": {},
     "output_type": "execute_result"
    }
   ],
   "source": [
    "df.columns\n",
    "dt.columns"
   ]
  },
  {
   "cell_type": "code",
   "execution_count": 262,
   "metadata": {
    "execution": {
     "iopub.execute_input": "2024-09-28T11:33:18.557073Z",
     "iopub.status.busy": "2024-09-28T11:33:18.556651Z",
     "iopub.status.idle": "2024-09-28T11:33:18.568341Z",
     "shell.execute_reply": "2024-09-28T11:33:18.567365Z",
     "shell.execute_reply.started": "2024-09-28T11:33:18.557027Z"
    }
   },
   "outputs": [
    {
     "data": {
      "text/plain": [
       "accident\n",
       "0.0    96263\n",
       "1.0    27795\n",
       "Name: count, dtype: int64"
      ]
     },
     "execution_count": 262,
     "metadata": {},
     "output_type": "execute_result"
    }
   ],
   "source": [
    "dt['accident'].value_counts()"
   ]
  },
  {
   "cell_type": "code",
   "execution_count": 263,
   "metadata": {
    "execution": {
     "iopub.execute_input": "2024-09-28T11:33:18.570077Z",
     "iopub.status.busy": "2024-09-28T11:33:18.569690Z",
     "iopub.status.idle": "2024-09-28T11:33:18.592221Z",
     "shell.execute_reply": "2024-09-28T11:33:18.590788Z",
     "shell.execute_reply.started": "2024-09-28T11:33:18.570022Z"
    }
   },
   "outputs": [
    {
     "data": {
      "text/html": [
       "<div>\n",
       "<style scoped>\n",
       "    .dataframe tbody tr th:only-of-type {\n",
       "        vertical-align: middle;\n",
       "    }\n",
       "\n",
       "    .dataframe tbody tr th {\n",
       "        vertical-align: top;\n",
       "    }\n",
       "\n",
       "    .dataframe thead th {\n",
       "        text-align: right;\n",
       "    }\n",
       "</style>\n",
       "<table border=\"1\" class=\"dataframe\">\n",
       "  <thead>\n",
       "    <tr style=\"text-align: right;\">\n",
       "      <th></th>\n",
       "      <th>Age</th>\n",
       "      <th>brand</th>\n",
       "      <th>milage</th>\n",
       "      <th>fuel_type</th>\n",
       "      <th>ext_col</th>\n",
       "      <th>int_col</th>\n",
       "      <th>accident</th>\n",
       "      <th>clean_title</th>\n",
       "      <th>horsepower</th>\n",
       "      <th>engine_capacity</th>\n",
       "      <th>cylinders</th>\n",
       "      <th>price</th>\n",
       "    </tr>\n",
       "  </thead>\n",
       "  <tbody>\n",
       "    <tr>\n",
       "      <th>0</th>\n",
       "      <td>18</td>\n",
       "      <td>luxury</td>\n",
       "      <td>213000</td>\n",
       "      <td>Gasoline</td>\n",
       "      <td>yellow</td>\n",
       "      <td>gray</td>\n",
       "      <td>0.0</td>\n",
       "      <td>Yes</td>\n",
       "      <td>172.0</td>\n",
       "      <td>1.6</td>\n",
       "      <td>4.0</td>\n",
       "      <td>4200</td>\n",
       "    </tr>\n",
       "    <tr>\n",
       "      <th>1</th>\n",
       "      <td>23</td>\n",
       "      <td>lincoln</td>\n",
       "      <td>143250</td>\n",
       "      <td>Gasoline</td>\n",
       "      <td>silver</td>\n",
       "      <td>beige</td>\n",
       "      <td>1.0</td>\n",
       "      <td>Yes</td>\n",
       "      <td>252.0</td>\n",
       "      <td>3.9</td>\n",
       "      <td>8.0</td>\n",
       "      <td>4999</td>\n",
       "    </tr>\n",
       "  </tbody>\n",
       "</table>\n",
       "</div>"
      ],
      "text/plain": [
       "   Age    brand  milage fuel_type ext_col int_col  accident clean_title  \\\n",
       "0   18   luxury  213000  Gasoline  yellow    gray       0.0         Yes   \n",
       "1   23  lincoln  143250  Gasoline  silver   beige       1.0         Yes   \n",
       "\n",
       "   horsepower  engine_capacity  cylinders  price  \n",
       "0       172.0              1.6        4.0   4200  \n",
       "1       252.0              3.9        8.0   4999  "
      ]
     },
     "execution_count": 263,
     "metadata": {},
     "output_type": "execute_result"
    }
   ],
   "source": [
    "df.head(2)"
   ]
  },
  {
   "cell_type": "code",
   "execution_count": 264,
   "metadata": {
    "execution": {
     "iopub.execute_input": "2024-09-28T11:33:18.593729Z",
     "iopub.status.busy": "2024-09-28T11:33:18.593355Z",
     "iopub.status.idle": "2024-09-28T11:33:18.608820Z",
     "shell.execute_reply": "2024-09-28T11:33:18.607716Z",
     "shell.execute_reply.started": "2024-09-28T11:33:18.593691Z"
    }
   },
   "outputs": [
    {
     "data": {
      "text/plain": [
       "0.1742681950333457"
      ]
     },
     "execution_count": 264,
     "metadata": {},
     "output_type": "execute_result"
    },
    {
     "data": {
      "text/plain": [
       "0.07565522541258914"
      ]
     },
     "execution_count": 264,
     "metadata": {},
     "output_type": "execute_result"
    }
   ],
   "source": [
    "df['horsepower'].isnull().sum() / len(df)\n",
    "df['engine_capacity'].isnull().sum() / len(df)"
   ]
  },
  {
   "cell_type": "code",
   "execution_count": 265,
   "metadata": {
    "execution": {
     "iopub.execute_input": "2024-09-28T11:33:18.610841Z",
     "iopub.status.busy": "2024-09-28T11:33:18.610289Z",
     "iopub.status.idle": "2024-09-28T11:33:18.626990Z",
     "shell.execute_reply": "2024-09-28T11:33:18.625851Z",
     "shell.execute_reply.started": "2024-09-28T11:33:18.610791Z"
    }
   },
   "outputs": [
    {
     "data": {
      "text/html": [
       "<div>\n",
       "<style scoped>\n",
       "    .dataframe tbody tr th:only-of-type {\n",
       "        vertical-align: middle;\n",
       "    }\n",
       "\n",
       "    .dataframe tbody tr th {\n",
       "        vertical-align: top;\n",
       "    }\n",
       "\n",
       "    .dataframe thead th {\n",
       "        text-align: right;\n",
       "    }\n",
       "</style>\n",
       "<table border=\"1\" class=\"dataframe\">\n",
       "  <thead>\n",
       "    <tr style=\"text-align: right;\">\n",
       "      <th></th>\n",
       "      <th>Age</th>\n",
       "      <th>brand</th>\n",
       "      <th>milage</th>\n",
       "      <th>fuel_type</th>\n",
       "      <th>ext_col</th>\n",
       "      <th>int_col</th>\n",
       "      <th>accident</th>\n",
       "      <th>clean_title</th>\n",
       "      <th>horsepower</th>\n",
       "      <th>engine_capacity</th>\n",
       "      <th>cylinders</th>\n",
       "    </tr>\n",
       "  </thead>\n",
       "  <tbody>\n",
       "    <tr>\n",
       "      <th>0</th>\n",
       "      <td>10</td>\n",
       "      <td>mini</td>\n",
       "      <td>98000</td>\n",
       "      <td>Gasoline</td>\n",
       "      <td>white</td>\n",
       "      <td>beige</td>\n",
       "      <td>0.0</td>\n",
       "      <td>Yes</td>\n",
       "      <td>172.0</td>\n",
       "      <td>1.6</td>\n",
       "      <td>4.0</td>\n",
       "    </tr>\n",
       "    <tr>\n",
       "      <th>1</th>\n",
       "      <td>5</td>\n",
       "      <td>lincoln</td>\n",
       "      <td>9142</td>\n",
       "      <td>Hybrid</td>\n",
       "      <td>silver</td>\n",
       "      <td>black</td>\n",
       "      <td>0.0</td>\n",
       "      <td>Yes</td>\n",
       "      <td>252.0</td>\n",
       "      <td>3.9</td>\n",
       "      <td>8.0</td>\n",
       "    </tr>\n",
       "  </tbody>\n",
       "</table>\n",
       "</div>"
      ],
      "text/plain": [
       "   Age    brand  milage fuel_type ext_col int_col  accident clean_title  \\\n",
       "0   10     mini   98000  Gasoline   white   beige       0.0         Yes   \n",
       "1    5  lincoln    9142    Hybrid  silver   black       0.0         Yes   \n",
       "\n",
       "   horsepower  engine_capacity  cylinders  \n",
       "0       172.0              1.6        4.0  \n",
       "1       252.0              3.9        8.0  "
      ]
     },
     "execution_count": 265,
     "metadata": {},
     "output_type": "execute_result"
    }
   ],
   "source": [
    "dt.head(2)"
   ]
  },
  {
   "cell_type": "code",
   "execution_count": 266,
   "metadata": {
    "execution": {
     "iopub.execute_input": "2024-09-28T11:33:18.628842Z",
     "iopub.status.busy": "2024-09-28T11:33:18.628465Z",
     "iopub.status.idle": "2024-09-28T11:33:18.637116Z",
     "shell.execute_reply": "2024-09-28T11:33:18.636087Z",
     "shell.execute_reply.started": "2024-09-28T11:33:18.628798Z"
    }
   },
   "outputs": [],
   "source": [
    "numerical_features = ['Age','milage','horsepower','engine_capacity']"
   ]
  },
  {
   "cell_type": "code",
   "execution_count": 267,
   "metadata": {
    "execution": {
     "iopub.execute_input": "2024-09-28T11:33:18.638823Z",
     "iopub.status.busy": "2024-09-28T11:33:18.638448Z",
     "iopub.status.idle": "2024-09-28T11:33:18.649536Z",
     "shell.execute_reply": "2024-09-28T11:33:18.648460Z",
     "shell.execute_reply.started": "2024-09-28T11:33:18.638787Z"
    }
   },
   "outputs": [],
   "source": [
    "categorical_features=['brand','fuel_type','ext_col', 'int_col']"
   ]
  },
  {
   "cell_type": "code",
   "execution_count": 268,
   "metadata": {
    "execution": {
     "iopub.execute_input": "2024-09-28T11:33:18.651387Z",
     "iopub.status.busy": "2024-09-28T11:33:18.651034Z",
     "iopub.status.idle": "2024-09-28T11:33:18.661793Z",
     "shell.execute_reply": "2024-09-28T11:33:18.660590Z",
     "shell.execute_reply.started": "2024-09-28T11:33:18.651352Z"
    }
   },
   "outputs": [],
   "source": [
    "ordinals=['accident','cylinders','clean_title']"
   ]
  },
  {
   "cell_type": "code",
   "execution_count": 269,
   "metadata": {
    "execution": {
     "iopub.execute_input": "2024-09-28T11:33:18.664282Z",
     "iopub.status.busy": "2024-09-28T11:33:18.663361Z",
     "iopub.status.idle": "2024-09-28T11:33:18.687223Z",
     "shell.execute_reply": "2024-09-28T11:33:18.685962Z",
     "shell.execute_reply.started": "2024-09-28T11:33:18.664232Z"
    }
   },
   "outputs": [],
   "source": [
    "\n",
    "# Create DataFrames for numerical and categorical features\n",
    "numerical_df = df[numerical_features]\n",
    "categorical_df = df[categorical_features]"
   ]
  },
  {
   "cell_type": "code",
   "execution_count": 270,
   "metadata": {
    "execution": {
     "iopub.execute_input": "2024-09-28T11:33:18.688861Z",
     "iopub.status.busy": "2024-09-28T11:33:18.688526Z",
     "iopub.status.idle": "2024-09-28T11:33:18.693926Z",
     "shell.execute_reply": "2024-09-28T11:33:18.692816Z",
     "shell.execute_reply.started": "2024-09-28T11:33:18.688827Z"
    }
   },
   "outputs": [],
   "source": [
    "from sklearn.compose import ColumnTransformer\n",
    "from sklearn.impute import KNNImputer,SimpleImputer\n",
    "from sklearn.preprocessing import OneHotEncoder\n",
    "from sklearn.preprocessing import MinMaxScaler\n",
    "from sklearn.pipeline import Pipeline,make_pipeline"
   ]
  },
  {
   "cell_type": "code",
   "execution_count": 271,
   "metadata": {
    "execution": {
     "iopub.execute_input": "2024-09-28T11:33:18.696630Z",
     "iopub.status.busy": "2024-09-28T11:33:18.696135Z",
     "iopub.status.idle": "2024-09-28T11:33:18.707333Z",
     "shell.execute_reply": "2024-09-28T11:33:18.706295Z",
     "shell.execute_reply.started": "2024-09-28T11:33:18.696579Z"
    }
   },
   "outputs": [],
   "source": [
    "numerical_transformer = Pipeline(steps=[\n",
    "    ('KNN_impute', KNNImputer(n_neighbors=5)),\n",
    "    ('MinMaxScaler', MinMaxScaler())\n",
    "])"
   ]
  },
  {
   "cell_type": "code",
   "execution_count": 272,
   "metadata": {
    "execution": {
     "iopub.execute_input": "2024-09-28T11:33:18.710242Z",
     "iopub.status.busy": "2024-09-28T11:33:18.708710Z",
     "iopub.status.idle": "2024-09-28T11:33:18.719249Z",
     "shell.execute_reply": "2024-09-28T11:33:18.718102Z",
     "shell.execute_reply.started": "2024-09-28T11:33:18.710192Z"
    }
   },
   "outputs": [],
   "source": [
    "categorical_transformer = Pipeline(steps=[\n",
    "    ('imputer', SimpleImputer(strategy='most_frequent')),\n",
    "    ('ohe',OneHotEncoder(handle_unknown='ignore'))\n",
    "])"
   ]
  },
  {
   "cell_type": "code",
   "execution_count": 273,
   "metadata": {
    "execution": {
     "iopub.execute_input": "2024-09-28T11:33:18.720956Z",
     "iopub.status.busy": "2024-09-28T11:33:18.720592Z",
     "iopub.status.idle": "2024-09-28T11:33:18.730203Z",
     "shell.execute_reply": "2024-09-28T11:33:18.729301Z",
     "shell.execute_reply.started": "2024-09-28T11:33:18.720919Z"
    }
   },
   "outputs": [],
   "source": [
    "ordinal_transformer=Pipeline(steps=[('imputer', SimpleImputer(strategy='most_frequent')),\n",
    "    ('ordinal',OrdinalEncoder(categories=([[0., 1.],[ 4.,  8.,  6., 10., 12.,  5.,  3.],['Yes', 'missing']])))\n",
    "                                   ])"
   ]
  },
  {
   "cell_type": "code",
   "execution_count": 274,
   "metadata": {
    "execution": {
     "iopub.execute_input": "2024-09-28T11:33:18.732000Z",
     "iopub.status.busy": "2024-09-28T11:33:18.731608Z",
     "iopub.status.idle": "2024-09-28T11:33:18.763888Z",
     "shell.execute_reply": "2024-09-28T11:33:18.762803Z",
     "shell.execute_reply.started": "2024-09-28T11:33:18.731953Z"
    }
   },
   "outputs": [
    {
     "data": {
      "text/plain": [
       "array([0., 1.])"
      ]
     },
     "execution_count": 274,
     "metadata": {},
     "output_type": "execute_result"
    },
    {
     "data": {
      "text/plain": [
       "array([ 4.,  8.,  6., nan, 10., 12.,  5.,  3.])"
      ]
     },
     "execution_count": 274,
     "metadata": {},
     "output_type": "execute_result"
    },
    {
     "data": {
      "text/plain": [
       "array(['Yes', 'missing'], dtype=object)"
      ]
     },
     "execution_count": 274,
     "metadata": {},
     "output_type": "execute_result"
    }
   ],
   "source": [
    "df['accident'].unique()\n",
    "df['cylinders'].unique()\n",
    "df['clean_title'].unique()"
   ]
  },
  {
   "cell_type": "code",
   "execution_count": 275,
   "metadata": {
    "execution": {
     "iopub.execute_input": "2024-09-28T11:33:18.765343Z",
     "iopub.status.busy": "2024-09-28T11:33:18.765031Z",
     "iopub.status.idle": "2024-09-28T11:33:18.770457Z",
     "shell.execute_reply": "2024-09-28T11:33:18.769463Z",
     "shell.execute_reply.started": "2024-09-28T11:33:18.765309Z"
    }
   },
   "outputs": [],
   "source": [
    "preprocessor = ColumnTransformer(\n",
    "    transformers=[\n",
    "        ('num', numerical_transformer, numerical_features),\n",
    "        ('cat', categorical_transformer, categorical_features),\n",
    "        ('ord', ordinal_transformer, ordinals)\n",
    "    ]\n",
    ")"
   ]
  },
  {
   "cell_type": "code",
   "execution_count": 276,
   "metadata": {
    "execution": {
     "iopub.execute_input": "2024-09-28T11:33:18.772925Z",
     "iopub.status.busy": "2024-09-28T11:33:18.772254Z",
     "iopub.status.idle": "2024-09-28T11:33:18.783111Z",
     "shell.execute_reply": "2024-09-28T11:33:18.782024Z",
     "shell.execute_reply.started": "2024-09-28T11:33:18.772875Z"
    }
   },
   "outputs": [],
   "source": [
    "clf = Pipeline(steps=[\n",
    "    ('preprocessor', preprocessor),\n",
    "    ('classifier', LinearRegression())\n",
    "])"
   ]
  },
  {
   "cell_type": "code",
   "execution_count": 277,
   "metadata": {
    "execution": {
     "iopub.execute_input": "2024-09-28T11:33:18.785268Z",
     "iopub.status.busy": "2024-09-28T11:33:18.784709Z",
     "iopub.status.idle": "2024-09-28T11:33:18.910935Z",
     "shell.execute_reply": "2024-09-28T11:33:18.909896Z",
     "shell.execute_reply.started": "2024-09-28T11:33:18.785229Z"
    }
   },
   "outputs": [
    {
     "data": {
      "text/html": [
       "<style>#sk-container-id-2 {color: black;background-color: white;}#sk-container-id-2 pre{padding: 0;}#sk-container-id-2 div.sk-toggleable {background-color: white;}#sk-container-id-2 label.sk-toggleable__label {cursor: pointer;display: block;width: 100%;margin-bottom: 0;padding: 0.3em;box-sizing: border-box;text-align: center;}#sk-container-id-2 label.sk-toggleable__label-arrow:before {content: \"▸\";float: left;margin-right: 0.25em;color: #696969;}#sk-container-id-2 label.sk-toggleable__label-arrow:hover:before {color: black;}#sk-container-id-2 div.sk-estimator:hover label.sk-toggleable__label-arrow:before {color: black;}#sk-container-id-2 div.sk-toggleable__content {max-height: 0;max-width: 0;overflow: hidden;text-align: left;background-color: #f0f8ff;}#sk-container-id-2 div.sk-toggleable__content pre {margin: 0.2em;color: black;border-radius: 0.25em;background-color: #f0f8ff;}#sk-container-id-2 input.sk-toggleable__control:checked~div.sk-toggleable__content {max-height: 200px;max-width: 100%;overflow: auto;}#sk-container-id-2 input.sk-toggleable__control:checked~label.sk-toggleable__label-arrow:before {content: \"▾\";}#sk-container-id-2 div.sk-estimator input.sk-toggleable__control:checked~label.sk-toggleable__label {background-color: #d4ebff;}#sk-container-id-2 div.sk-label input.sk-toggleable__control:checked~label.sk-toggleable__label {background-color: #d4ebff;}#sk-container-id-2 input.sk-hidden--visually {border: 0;clip: rect(1px 1px 1px 1px);clip: rect(1px, 1px, 1px, 1px);height: 1px;margin: -1px;overflow: hidden;padding: 0;position: absolute;width: 1px;}#sk-container-id-2 div.sk-estimator {font-family: monospace;background-color: #f0f8ff;border: 1px dotted black;border-radius: 0.25em;box-sizing: border-box;margin-bottom: 0.5em;}#sk-container-id-2 div.sk-estimator:hover {background-color: #d4ebff;}#sk-container-id-2 div.sk-parallel-item::after {content: \"\";width: 100%;border-bottom: 1px solid gray;flex-grow: 1;}#sk-container-id-2 div.sk-label:hover label.sk-toggleable__label {background-color: #d4ebff;}#sk-container-id-2 div.sk-serial::before {content: \"\";position: absolute;border-left: 1px solid gray;box-sizing: border-box;top: 0;bottom: 0;left: 50%;z-index: 0;}#sk-container-id-2 div.sk-serial {display: flex;flex-direction: column;align-items: center;background-color: white;padding-right: 0.2em;padding-left: 0.2em;position: relative;}#sk-container-id-2 div.sk-item {position: relative;z-index: 1;}#sk-container-id-2 div.sk-parallel {display: flex;align-items: stretch;justify-content: center;background-color: white;position: relative;}#sk-container-id-2 div.sk-item::before, #sk-container-id-2 div.sk-parallel-item::before {content: \"\";position: absolute;border-left: 1px solid gray;box-sizing: border-box;top: 0;bottom: 0;left: 50%;z-index: -1;}#sk-container-id-2 div.sk-parallel-item {display: flex;flex-direction: column;z-index: 1;position: relative;background-color: white;}#sk-container-id-2 div.sk-parallel-item:first-child::after {align-self: flex-end;width: 50%;}#sk-container-id-2 div.sk-parallel-item:last-child::after {align-self: flex-start;width: 50%;}#sk-container-id-2 div.sk-parallel-item:only-child::after {width: 0;}#sk-container-id-2 div.sk-dashed-wrapped {border: 1px dashed gray;margin: 0 0.4em 0.5em 0.4em;box-sizing: border-box;padding-bottom: 0.4em;background-color: white;}#sk-container-id-2 div.sk-label label {font-family: monospace;font-weight: bold;display: inline-block;line-height: 1.2em;}#sk-container-id-2 div.sk-label-container {text-align: center;}#sk-container-id-2 div.sk-container {/* jupyter's `normalize.less` sets `[hidden] { display: none; }` but bootstrap.min.css set `[hidden] { display: none !important; }` so we also need the `!important` here to be able to override the default hidden behavior on the sphinx rendered scikit-learn.org. See: https://github.com/scikit-learn/scikit-learn/issues/21755 */display: inline-block !important;position: relative;}#sk-container-id-2 div.sk-text-repr-fallback {display: none;}</style><div id=\"sk-container-id-2\" class=\"sk-top-container\"><div class=\"sk-text-repr-fallback\"><pre>Pipeline(steps=[(&#x27;preprocessor&#x27;,\n",
       "                 ColumnTransformer(transformers=[(&#x27;num&#x27;,\n",
       "                                                  Pipeline(steps=[(&#x27;KNN_impute&#x27;,\n",
       "                                                                   KNNImputer()),\n",
       "                                                                  (&#x27;MinMaxScaler&#x27;,\n",
       "                                                                   MinMaxScaler())]),\n",
       "                                                  [&#x27;Age&#x27;, &#x27;milage&#x27;,\n",
       "                                                   &#x27;horsepower&#x27;,\n",
       "                                                   &#x27;engine_capacity&#x27;]),\n",
       "                                                 (&#x27;cat&#x27;,\n",
       "                                                  Pipeline(steps=[(&#x27;imputer&#x27;,\n",
       "                                                                   SimpleImputer(strategy=&#x27;most_frequent&#x27;)),\n",
       "                                                                  (&#x27;ohe&#x27;,\n",
       "                                                                   OneHotEncoder(handle_unknown=&#x27;ignore&#x27;))]),\n",
       "                                                  [&#x27;brand&#x27;, &#x27;fuel_type&#x27;,\n",
       "                                                   &#x27;ext_col&#x27;, &#x27;int_col&#x27;]),\n",
       "                                                 (&#x27;ord&#x27;,\n",
       "                                                  Pipeline(steps=[(&#x27;imputer&#x27;,\n",
       "                                                                   SimpleImputer(strategy=&#x27;most_frequent&#x27;)),\n",
       "                                                                  (&#x27;ordinal&#x27;,\n",
       "                                                                   OrdinalEncoder(categories=[[0.0,\n",
       "                                                                                               1.0],\n",
       "                                                                                              [4.0,\n",
       "                                                                                               8.0,\n",
       "                                                                                               6.0,\n",
       "                                                                                               10.0,\n",
       "                                                                                               12.0,\n",
       "                                                                                               5.0,\n",
       "                                                                                               3.0],\n",
       "                                                                                              [&#x27;Yes&#x27;,\n",
       "                                                                                               &#x27;missing&#x27;]]))]),\n",
       "                                                  [&#x27;accident&#x27;, &#x27;cylinders&#x27;,\n",
       "                                                   &#x27;clean_title&#x27;])])),\n",
       "                (&#x27;classifier&#x27;, LinearRegression())])</pre><b>In a Jupyter environment, please rerun this cell to show the HTML representation or trust the notebook. <br />On GitHub, the HTML representation is unable to render, please try loading this page with nbviewer.org.</b></div><div class=\"sk-container\" hidden><div class=\"sk-item sk-dashed-wrapped\"><div class=\"sk-label-container\"><div class=\"sk-label sk-toggleable\"><input class=\"sk-toggleable__control sk-hidden--visually\" id=\"sk-estimator-id-13\" type=\"checkbox\" ><label for=\"sk-estimator-id-13\" class=\"sk-toggleable__label sk-toggleable__label-arrow\">Pipeline</label><div class=\"sk-toggleable__content\"><pre>Pipeline(steps=[(&#x27;preprocessor&#x27;,\n",
       "                 ColumnTransformer(transformers=[(&#x27;num&#x27;,\n",
       "                                                  Pipeline(steps=[(&#x27;KNN_impute&#x27;,\n",
       "                                                                   KNNImputer()),\n",
       "                                                                  (&#x27;MinMaxScaler&#x27;,\n",
       "                                                                   MinMaxScaler())]),\n",
       "                                                  [&#x27;Age&#x27;, &#x27;milage&#x27;,\n",
       "                                                   &#x27;horsepower&#x27;,\n",
       "                                                   &#x27;engine_capacity&#x27;]),\n",
       "                                                 (&#x27;cat&#x27;,\n",
       "                                                  Pipeline(steps=[(&#x27;imputer&#x27;,\n",
       "                                                                   SimpleImputer(strategy=&#x27;most_frequent&#x27;)),\n",
       "                                                                  (&#x27;ohe&#x27;,\n",
       "                                                                   OneHotEncoder(handle_unknown=&#x27;ignore&#x27;))]),\n",
       "                                                  [&#x27;brand&#x27;, &#x27;fuel_type&#x27;,\n",
       "                                                   &#x27;ext_col&#x27;, &#x27;int_col&#x27;]),\n",
       "                                                 (&#x27;ord&#x27;,\n",
       "                                                  Pipeline(steps=[(&#x27;imputer&#x27;,\n",
       "                                                                   SimpleImputer(strategy=&#x27;most_frequent&#x27;)),\n",
       "                                                                  (&#x27;ordinal&#x27;,\n",
       "                                                                   OrdinalEncoder(categories=[[0.0,\n",
       "                                                                                               1.0],\n",
       "                                                                                              [4.0,\n",
       "                                                                                               8.0,\n",
       "                                                                                               6.0,\n",
       "                                                                                               10.0,\n",
       "                                                                                               12.0,\n",
       "                                                                                               5.0,\n",
       "                                                                                               3.0],\n",
       "                                                                                              [&#x27;Yes&#x27;,\n",
       "                                                                                               &#x27;missing&#x27;]]))]),\n",
       "                                                  [&#x27;accident&#x27;, &#x27;cylinders&#x27;,\n",
       "                                                   &#x27;clean_title&#x27;])])),\n",
       "                (&#x27;classifier&#x27;, LinearRegression())])</pre></div></div></div><div class=\"sk-serial\"><div class=\"sk-item sk-dashed-wrapped\"><div class=\"sk-label-container\"><div class=\"sk-label sk-toggleable\"><input class=\"sk-toggleable__control sk-hidden--visually\" id=\"sk-estimator-id-14\" type=\"checkbox\" ><label for=\"sk-estimator-id-14\" class=\"sk-toggleable__label sk-toggleable__label-arrow\">preprocessor: ColumnTransformer</label><div class=\"sk-toggleable__content\"><pre>ColumnTransformer(transformers=[(&#x27;num&#x27;,\n",
       "                                 Pipeline(steps=[(&#x27;KNN_impute&#x27;, KNNImputer()),\n",
       "                                                 (&#x27;MinMaxScaler&#x27;,\n",
       "                                                  MinMaxScaler())]),\n",
       "                                 [&#x27;Age&#x27;, &#x27;milage&#x27;, &#x27;horsepower&#x27;,\n",
       "                                  &#x27;engine_capacity&#x27;]),\n",
       "                                (&#x27;cat&#x27;,\n",
       "                                 Pipeline(steps=[(&#x27;imputer&#x27;,\n",
       "                                                  SimpleImputer(strategy=&#x27;most_frequent&#x27;)),\n",
       "                                                 (&#x27;ohe&#x27;,\n",
       "                                                  OneHotEncoder(handle_unknown=&#x27;ignore&#x27;))]),\n",
       "                                 [&#x27;brand&#x27;, &#x27;fuel_type&#x27;, &#x27;ext_col&#x27;, &#x27;int_col&#x27;]),\n",
       "                                (&#x27;ord&#x27;,\n",
       "                                 Pipeline(steps=[(&#x27;imputer&#x27;,\n",
       "                                                  SimpleImputer(strategy=&#x27;most_frequent&#x27;)),\n",
       "                                                 (&#x27;ordinal&#x27;,\n",
       "                                                  OrdinalEncoder(categories=[[0.0,\n",
       "                                                                              1.0],\n",
       "                                                                             [4.0,\n",
       "                                                                              8.0,\n",
       "                                                                              6.0,\n",
       "                                                                              10.0,\n",
       "                                                                              12.0,\n",
       "                                                                              5.0,\n",
       "                                                                              3.0],\n",
       "                                                                             [&#x27;Yes&#x27;,\n",
       "                                                                              &#x27;missing&#x27;]]))]),\n",
       "                                 [&#x27;accident&#x27;, &#x27;cylinders&#x27;, &#x27;clean_title&#x27;])])</pre></div></div></div><div class=\"sk-parallel\"><div class=\"sk-parallel-item\"><div class=\"sk-item\"><div class=\"sk-label-container\"><div class=\"sk-label sk-toggleable\"><input class=\"sk-toggleable__control sk-hidden--visually\" id=\"sk-estimator-id-15\" type=\"checkbox\" ><label for=\"sk-estimator-id-15\" class=\"sk-toggleable__label sk-toggleable__label-arrow\">num</label><div class=\"sk-toggleable__content\"><pre>[&#x27;Age&#x27;, &#x27;milage&#x27;, &#x27;horsepower&#x27;, &#x27;engine_capacity&#x27;]</pre></div></div></div><div class=\"sk-serial\"><div class=\"sk-item\"><div class=\"sk-serial\"><div class=\"sk-item\"><div class=\"sk-estimator sk-toggleable\"><input class=\"sk-toggleable__control sk-hidden--visually\" id=\"sk-estimator-id-16\" type=\"checkbox\" ><label for=\"sk-estimator-id-16\" class=\"sk-toggleable__label sk-toggleable__label-arrow\">KNNImputer</label><div class=\"sk-toggleable__content\"><pre>KNNImputer()</pre></div></div></div><div class=\"sk-item\"><div class=\"sk-estimator sk-toggleable\"><input class=\"sk-toggleable__control sk-hidden--visually\" id=\"sk-estimator-id-17\" type=\"checkbox\" ><label for=\"sk-estimator-id-17\" class=\"sk-toggleable__label sk-toggleable__label-arrow\">MinMaxScaler</label><div class=\"sk-toggleable__content\"><pre>MinMaxScaler()</pre></div></div></div></div></div></div></div></div><div class=\"sk-parallel-item\"><div class=\"sk-item\"><div class=\"sk-label-container\"><div class=\"sk-label sk-toggleable\"><input class=\"sk-toggleable__control sk-hidden--visually\" id=\"sk-estimator-id-18\" type=\"checkbox\" ><label for=\"sk-estimator-id-18\" class=\"sk-toggleable__label sk-toggleable__label-arrow\">cat</label><div class=\"sk-toggleable__content\"><pre>[&#x27;brand&#x27;, &#x27;fuel_type&#x27;, &#x27;ext_col&#x27;, &#x27;int_col&#x27;]</pre></div></div></div><div class=\"sk-serial\"><div class=\"sk-item\"><div class=\"sk-serial\"><div class=\"sk-item\"><div class=\"sk-estimator sk-toggleable\"><input class=\"sk-toggleable__control sk-hidden--visually\" id=\"sk-estimator-id-19\" type=\"checkbox\" ><label for=\"sk-estimator-id-19\" class=\"sk-toggleable__label sk-toggleable__label-arrow\">SimpleImputer</label><div class=\"sk-toggleable__content\"><pre>SimpleImputer(strategy=&#x27;most_frequent&#x27;)</pre></div></div></div><div class=\"sk-item\"><div class=\"sk-estimator sk-toggleable\"><input class=\"sk-toggleable__control sk-hidden--visually\" id=\"sk-estimator-id-20\" type=\"checkbox\" ><label for=\"sk-estimator-id-20\" class=\"sk-toggleable__label sk-toggleable__label-arrow\">OneHotEncoder</label><div class=\"sk-toggleable__content\"><pre>OneHotEncoder(handle_unknown=&#x27;ignore&#x27;)</pre></div></div></div></div></div></div></div></div><div class=\"sk-parallel-item\"><div class=\"sk-item\"><div class=\"sk-label-container\"><div class=\"sk-label sk-toggleable\"><input class=\"sk-toggleable__control sk-hidden--visually\" id=\"sk-estimator-id-21\" type=\"checkbox\" ><label for=\"sk-estimator-id-21\" class=\"sk-toggleable__label sk-toggleable__label-arrow\">ord</label><div class=\"sk-toggleable__content\"><pre>[&#x27;accident&#x27;, &#x27;cylinders&#x27;, &#x27;clean_title&#x27;]</pre></div></div></div><div class=\"sk-serial\"><div class=\"sk-item\"><div class=\"sk-serial\"><div class=\"sk-item\"><div class=\"sk-estimator sk-toggleable\"><input class=\"sk-toggleable__control sk-hidden--visually\" id=\"sk-estimator-id-22\" type=\"checkbox\" ><label for=\"sk-estimator-id-22\" class=\"sk-toggleable__label sk-toggleable__label-arrow\">SimpleImputer</label><div class=\"sk-toggleable__content\"><pre>SimpleImputer(strategy=&#x27;most_frequent&#x27;)</pre></div></div></div><div class=\"sk-item\"><div class=\"sk-estimator sk-toggleable\"><input class=\"sk-toggleable__control sk-hidden--visually\" id=\"sk-estimator-id-23\" type=\"checkbox\" ><label for=\"sk-estimator-id-23\" class=\"sk-toggleable__label sk-toggleable__label-arrow\">OrdinalEncoder</label><div class=\"sk-toggleable__content\"><pre>OrdinalEncoder(categories=[[0.0, 1.0], [4.0, 8.0, 6.0, 10.0, 12.0, 5.0, 3.0],\n",
       "                           [&#x27;Yes&#x27;, &#x27;missing&#x27;]])</pre></div></div></div></div></div></div></div></div></div></div><div class=\"sk-item\"><div class=\"sk-estimator sk-toggleable\"><input class=\"sk-toggleable__control sk-hidden--visually\" id=\"sk-estimator-id-24\" type=\"checkbox\" ><label for=\"sk-estimator-id-24\" class=\"sk-toggleable__label sk-toggleable__label-arrow\">LinearRegression</label><div class=\"sk-toggleable__content\"><pre>LinearRegression()</pre></div></div></div></div></div></div></div>"
      ],
      "text/plain": [
       "Pipeline(steps=[('preprocessor',\n",
       "                 ColumnTransformer(transformers=[('num',\n",
       "                                                  Pipeline(steps=[('KNN_impute',\n",
       "                                                                   KNNImputer()),\n",
       "                                                                  ('MinMaxScaler',\n",
       "                                                                   MinMaxScaler())]),\n",
       "                                                  ['Age', 'milage',\n",
       "                                                   'horsepower',\n",
       "                                                   'engine_capacity']),\n",
       "                                                 ('cat',\n",
       "                                                  Pipeline(steps=[('imputer',\n",
       "                                                                   SimpleImputer(strategy='most_frequent')),\n",
       "                                                                  ('ohe',\n",
       "                                                                   OneHotEncoder(handle_unknown='ignore'))]),\n",
       "                                                  ['brand', 'fuel_type',\n",
       "                                                   'ext_col', 'int_col']),\n",
       "                                                 ('ord',\n",
       "                                                  Pipeline(steps=[('imputer',\n",
       "                                                                   SimpleImputer(strategy='most_frequent')),\n",
       "                                                                  ('ordinal',\n",
       "                                                                   OrdinalEncoder(categories=[[0.0,\n",
       "                                                                                               1.0],\n",
       "                                                                                              [4.0,\n",
       "                                                                                               8.0,\n",
       "                                                                                               6.0,\n",
       "                                                                                               10.0,\n",
       "                                                                                               12.0,\n",
       "                                                                                               5.0,\n",
       "                                                                                               3.0],\n",
       "                                                                                              ['Yes',\n",
       "                                                                                               'missing']]))]),\n",
       "                                                  ['accident', 'cylinders',\n",
       "                                                   'clean_title'])])),\n",
       "                ('classifier', LinearRegression())])"
      ]
     },
     "execution_count": 277,
     "metadata": {},
     "output_type": "execute_result"
    }
   ],
   "source": [
    "from sklearn import set_config\n",
    "\n",
    "set_config(display='diagram')\n",
    "clf"
   ]
  },
  {
   "cell_type": "code",
   "execution_count": 278,
   "metadata": {
    "execution": {
     "iopub.execute_input": "2024-09-28T11:33:18.912581Z",
     "iopub.status.busy": "2024-09-28T11:33:18.912219Z",
     "iopub.status.idle": "2024-09-28T11:41:26.115177Z",
     "shell.execute_reply": "2024-09-28T11:41:26.113773Z",
     "shell.execute_reply.started": "2024-09-28T11:33:18.912543Z"
    }
   },
   "outputs": [],
   "source": [
    "# Fitting the pipeline\n",
    "pipe = clf.fit(df.drop(columns=['price']), df['price'])"
   ]
  },
  {
   "cell_type": "code",
   "execution_count": 279,
   "metadata": {
    "execution": {
     "iopub.execute_input": "2024-09-28T11:41:26.117730Z",
     "iopub.status.busy": "2024-09-28T11:41:26.116948Z",
     "iopub.status.idle": "2024-09-28T11:41:26.144535Z",
     "shell.execute_reply": "2024-09-28T11:41:26.143243Z",
     "shell.execute_reply.started": "2024-09-28T11:41:26.117676Z"
    }
   },
   "outputs": [
    {
     "data": {
      "text/html": [
       "<div>\n",
       "<style scoped>\n",
       "    .dataframe tbody tr th:only-of-type {\n",
       "        vertical-align: middle;\n",
       "    }\n",
       "\n",
       "    .dataframe tbody tr th {\n",
       "        vertical-align: top;\n",
       "    }\n",
       "\n",
       "    .dataframe thead th {\n",
       "        text-align: right;\n",
       "    }\n",
       "</style>\n",
       "<table border=\"1\" class=\"dataframe\">\n",
       "  <thead>\n",
       "    <tr style=\"text-align: right;\">\n",
       "      <th></th>\n",
       "      <th>Age</th>\n",
       "      <th>brand</th>\n",
       "      <th>milage</th>\n",
       "      <th>fuel_type</th>\n",
       "      <th>ext_col</th>\n",
       "      <th>int_col</th>\n",
       "      <th>accident</th>\n",
       "      <th>clean_title</th>\n",
       "      <th>horsepower</th>\n",
       "      <th>engine_capacity</th>\n",
       "      <th>cylinders</th>\n",
       "    </tr>\n",
       "  </thead>\n",
       "  <tbody>\n",
       "    <tr>\n",
       "      <th>97896</th>\n",
       "      <td>19</td>\n",
       "      <td>ford</td>\n",
       "      <td>127500</td>\n",
       "      <td>Gasoline</td>\n",
       "      <td>white</td>\n",
       "      <td>beige</td>\n",
       "      <td>1.0</td>\n",
       "      <td>Yes</td>\n",
       "      <td>NaN</td>\n",
       "      <td>2.0</td>\n",
       "      <td>NaN</td>\n",
       "    </tr>\n",
       "  </tbody>\n",
       "</table>\n",
       "</div>"
      ],
      "text/plain": [
       "       Age brand  milage fuel_type ext_col int_col  accident clean_title  \\\n",
       "97896   19  ford  127500  Gasoline   white   beige       1.0         Yes   \n",
       "\n",
       "       horsepower  engine_capacity  cylinders  \n",
       "97896         NaN              2.0        NaN  "
      ]
     },
     "execution_count": 279,
     "metadata": {},
     "output_type": "execute_result"
    }
   ],
   "source": [
    "dt.sample(1)"
   ]
  },
  {
   "cell_type": "code",
   "execution_count": null,
   "metadata": {},
   "outputs": [],
   "source": [
    "predictions = clf.predict(dt)\n",
    "\n",
    "# Display the predictions\n",
    "print(predictions)"
   ]
  },
  {
   "cell_type": "code",
   "execution_count": null,
   "metadata": {},
   "outputs": [],
   "source": [
    "predictions.shape\n",
    "dt.shape"
   ]
  },
  {
   "cell_type": "code",
   "execution_count": null,
   "metadata": {},
   "outputs": [],
   "source": [
    "test=pd.read_csv('/kaggle/input/playground-series-s4e9/test.csv')\n",
    "test.shape"
   ]
  },
  {
   "cell_type": "code",
   "execution_count": null,
   "metadata": {},
   "outputs": [],
   "source": [
    "test.head()"
   ]
  },
  {
   "cell_type": "code",
   "execution_count": null,
   "metadata": {},
   "outputs": [],
   "source": [
    "dt.shape"
   ]
  },
  {
   "cell_type": "code",
   "execution_count": null,
   "metadata": {},
   "outputs": [],
   "source": [
    "# Convert tuple to array\n",
    "print(np.array(predictions).shape)\n",
    "print(test['id'].shape)"
   ]
  },
  {
   "cell_type": "code",
   "execution_count": null,
   "metadata": {},
   "outputs": [],
   "source": [
    "df.columns"
   ]
  },
  {
   "cell_type": "code",
   "execution_count": null,
   "metadata": {},
   "outputs": [],
   "source": [
    "new_df=df[['horsepower','engine_capacity','cylinders']]"
   ]
  },
  {
   "cell_type": "markdown",
   "metadata": {},
   "source": [
    "# MICE IMPUTATION (Iterative Imputer) : Multivariate Imputation by Chained Equations (MICE) is a statistical method for handling missing data in a dataset. It uses a series of predictive models to impute missing values in an iterative process."
   ]
  },
  {
   "cell_type": "code",
   "execution_count": null,
   "metadata": {},
   "outputs": [],
   "source": [
    "new_df.isna().sum()"
   ]
  },
  {
   "cell_type": "code",
   "execution_count": null,
   "metadata": {},
   "outputs": [],
   "source": [
    "new_df.sample()"
   ]
  },
  {
   "cell_type": "code",
   "execution_count": null,
   "metadata": {},
   "outputs": [],
   "source": [
    "new_df[new_df.isna().any(axis=1)].sample(20)"
   ]
  },
  {
   "cell_type": "code",
   "execution_count": null,
   "metadata": {},
   "outputs": [],
   "source": [
    "new_df.dtypes"
   ]
  },
  {
   "cell_type": "code",
   "execution_count": null,
   "metadata": {},
   "outputs": [],
   "source": [
    "from sklearn.experimental import enable_iterative_imputer\n",
    "from sklearn.impute import IterativeImputer\n",
    "# Define the Iterative Imputer\n",
    "imputer = IterativeImputer()\n",
    "\n",
    "# Apply the imputer to the desired columns\n",
    "df_imputed = pd.DataFrame(imputer.fit_transform(new_df), columns=new_df.columns)\n",
    "\n",
    "# View the imputed DataFrame\n",
    "print(df_imputed)"
   ]
  },
  {
   "cell_type": "code",
   "execution_count": null,
   "metadata": {},
   "outputs": [],
   "source": [
    "df_imputed.isna().sum()"
   ]
  },
  {
   "cell_type": "code",
   "execution_count": null,
   "metadata": {},
   "outputs": [],
   "source": []
  }
 ],
 "metadata": {
  "kaggle": {
   "accelerator": "none",
   "dataSources": [
    {
     "databundleVersionId": 9057646,
     "sourceId": 76728,
     "sourceType": "competition"
    }
   ],
   "dockerImageVersionId": 30761,
   "isGpuEnabled": false,
   "isInternetEnabled": true,
   "language": "python",
   "sourceType": "notebook"
  },
  "kernelspec": {
   "display_name": "Python 3 (ipykernel)",
   "language": "python",
   "name": "python3"
  },
  "language_info": {
   "codemirror_mode": {
    "name": "ipython",
    "version": 3
   },
   "file_extension": ".py",
   "mimetype": "text/x-python",
   "name": "python",
   "nbconvert_exporter": "python",
   "pygments_lexer": "ipython3",
   "version": "3.12.4"
  }
 },
 "nbformat": 4,
 "nbformat_minor": 4
}
